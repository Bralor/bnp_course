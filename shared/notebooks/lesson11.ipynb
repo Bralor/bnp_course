{
 "cells": [
  {
   "cell_type": "markdown",
   "id": "3c45212a-305e-469e-8339-8639b1ef7947",
   "metadata": {},
   "source": [
    "## Jak psát kód\n",
    "---"
   ]
  },
  {
   "cell_type": "markdown",
   "id": "ac255fe4-2de1-4876-9c01-28ae618ee0ee",
   "metadata": {},
   "source": [
    "### Kdy používat krátké skripty\n",
    "Krátke skripty v Pythonu jsou ideální pro malé, jednoduché úkoly, které nevyžadují rozsáhlé množství kódu.\n",
    "\n",
    "Tento přístup je vhodný pro rychlé a jednorázové úlohy. Skripty jsou obvykle psány v jednom souboru a spouštěny přímo. Mohou obsahovat několik funkcí a jednoduché logické struktury, ale obvykle nejsou strukturovány do tříd nebo modulů.\n",
    "\n",
    "### Kdy používat moduly\n",
    "Jakmile projekty narůstají na složitosti nebo je potřeba sdílet kód s ostatními v týmu, je čas přejít od jednoduchých skriptů k modulům. Modul je soubor Pythonu, který definuje funkce, třídy a proměnné, a může také obsahovat spustitelný kód.\n",
    "\n",
    "Organizace kódu do modulů usnadňuje jeho znovupoužitelnost, údržbu a testování. Moduly umožňují programátorům rozdělit program na logické části, které lze snadno importovat a používat ve více projektech."
   ]
  },
  {
   "cell_type": "markdown",
   "id": "ff3aad6a-8512-4e2e-9abb-b029d4d52c97",
   "metadata": {},
   "source": [
    "### Čitelnost kódu\n",
    "Snaž se psát kód tak, aby byl snadno čitelný a srozumitelný pro ostatní. To zahrnuje používání smysluplných názvů proměnných a funkcí, dodržování konvencí pro psaní kódu (PEP 8) a vhodné komentování kódu."
   ]
  },
  {
   "cell_type": "markdown",
   "id": "99647088-e40a-4bdf-9675-c242ef65f27a",
   "metadata": {},
   "source": [
    "## Refactoring\n",
    "\n",
    "---"
   ]
  },
  {
   "cell_type": "markdown",
   "id": "5cc62c93-c0de-4ed2-abe9-4ea639b685e5",
   "metadata": {},
   "source": [
    "#### Knihovny na první místě\n",
    "\n",
    "Všechny knihovny by měly být seřazené v úvodu souboru. Rozdělené do kategorií standardní, třetích stran a lokální moduly (pokud existují)"
   ]
  },
  {
   "cell_type": "markdown",
   "id": "3fb4a7f5-fe57-4024-83a5-d67bb99c95a2",
   "metadata": {},
   "source": [
    "#### Konstanty na druhém místě\n",
    "Pokud se v projektu nějaké objevují, doplnit je na druhé místo. Hned za knihovny, tak ať nikdo nemusí ztraceně procházet celý soubor a hledat, která proměnná odkud vychází."
   ]
  },
  {
   "cell_type": "markdown",
   "id": "9f942e47-59db-40d3-8ff8-c9568ab1d7c9",
   "metadata": {},
   "source": [
    "#### Rozdělovat logické celky\n",
    "Ne všechny objekty spolu souvisí. Proto je rozumné, umístit do souboru jen to, co k sobě patří. U případě GUI je rozumné, nechat v jednom souboru GUI prvky a ve druhém logiku kódu.\n",
    "\n",
    "Formátovací prvky potom nahrávat ze souboru jako `styles.py`:"
   ]
  },
  {
   "cell_type": "code",
   "execution_count": null,
   "id": "e109e58c-bef4-47f6-827a-89cbbed15513",
   "metadata": {},
   "outputs": [],
   "source": [
    "# Definice stylů pro tlačítka\n",
    "button_style = {\n",
    "    'font': ('Helvetica', 12),\n",
    "    'background_color': '#fefefe',\n",
    "    'text_color': '#333'\n",
    "}\n",
    "\n",
    "# Definice stylů pro nadpisy\n",
    "header_style = {\n",
    "    'font': ('Helvetica', 16, 'bold'),\n",
    "    'background_color': '#fefefe',\n",
    "    'text_color': '#111'\n",
    "}"
   ]
  },
  {
   "cell_type": "markdown",
   "id": "099bceca-2c02-4fbc-b983-79ef032d3d8e",
   "metadata": {},
   "source": [
    "#### Jednotné pravidla pro pojmenování\n",
    "\n",
    "Jména objektů jsou extrémně důležitá. Je nutné, vybrat si způsob pojmenování (camelCase, snake_case).\n",
    "\n",
    "Dále taky pravidla, jakým způsobem vymýšlet jména objektů. Tedy tak, ať mají funkce smysluplná a pochopitelná jména.\n",
    "\n",
    "Pojmenování objektů v Pythonu je klíčové pro udržení čitelnosti a údržbu kódu, zejména při práci v týmech nebo na delších projektech. Dodržování konzistentních konvencí pro pojmenování může výrazně zlepšit kvalitu kódu. Níže jsou uvedeny zásadní best practices pro pojmenování objektů v Pythonu:\n",
    "\n",
    "1. Obecné konvence\n",
    "**Používejte jasná a výstižná jména:** Názvy by měly co nejvíce odrážet účel proměnné nebo funkce. Například, místo `df` použijte `data_frame` nebo místo get použijte retrieve_data.\n",
    "Vyhněte se používání **jednopísmenných proměnných**. Nepoužívejte zavádějící jména: Název by neměl klamat ohledně toho, co objekt dělá nebo obsahuje.\n",
    "\n",
    "2. Konvence pro pojmenování proměnných\n",
    "**snake_case**: Proměnné a funkce by měly být pojmenovány pomocí `snake_case`, což znamená malá písmena oddělená podtržítkem (`variable_name`).\n",
    "\n",
    "3. Konvence pro pojmenování funkcí\n",
    "**Verbální jména:** Názvy funkcí by měly obsahovat sloveso popisující, co funkce dělá, např. `calculate_total`, `retrieve_data`.\n",
    "\n",
    "5. Konvence pro pojmenování konstant\n",
    "**VELKÁ PÍSMENA S PODTRŽÍTKY:** Konstanty, které se nezmění během běhu programu, by měly být psány velkými písmeny s podtržítky mezi slovy, např. MAX_SPEED, DEFAULT_COLOR.\n",
    "\n",
    "6. Konvence pro pojmenování modulů\n",
    "krátké, malá písmena: Moduly by měly být pojmenovány krátkými, malými písmeny a měly by se vyhnout podtržítkům pokud možno, aby bylo snazší použití s příkazem import.\n",
    "\n",
    "7. Zvláštní znaky\n",
    "Vyhněte se použití speciálních znaků: Kromě podtržítka (_) by se v názvech měly vyhnout další speciální znaky a interpunkce.\n",
    "\n",
    "8. Délka názvu\n",
    "Není příliš dlouhé, ale dostatečně informativní: Názvy by neměly být zbytečně dlouhé, ale dostatečně popisné, aby uživatel nebo vývojář pochopil jejich význam bez potřeby dodatečných komentářů."
   ]
  },
  {
   "cell_type": "markdown",
   "id": "8913e030-aa3e-4044-91c8-976a693e0732",
   "metadata": {},
   "source": [
    "### Vyhýbat se špagetkám\n",
    "\n",
    "Je dobrým zvykem, separovat od sebe jednotlivé závislosti a tvořit oddělené objekty.\n",
    "\n",
    "Pokud je ale většina objektů stejná, rozhodně nechceš duplikovat kód, který se najednou stává dlouhý, nepřehledný a špatně udržovatelný."
   ]
  },
  {
   "cell_type": "code",
   "execution_count": null,
   "id": "28885613-d4e4-4e25-aa23-00a2b83169f7",
   "metadata": {},
   "outputs": [],
   "source": [
    "def browseppgwp():\n",
    "    ppgwpfilename = filedialog.askopenfilename()\n",
    "    ppgwppathlabel.config(text=ppgwpfilename)\n",
    "    global PARAM_GWP_PREM_PATH\n",
    "    PARAM_GWP_PREM_PATH = ppgwpfilename\n",
    "\n",
    "def browseaccgwp():\n",
    "    accgwpfilename = filedialog.askopenfilename()\n",
    "    accgwppathlabel.config(text=accgwpfilename)\n",
    "    global PARAM_GWP_ACC_PATH\n",
    "    PARAM_GWP_ACC_PATH = accgwpfilename"
   ]
  },
  {
   "cell_type": "markdown",
   "id": "45b31504-2122-40b2-9a77-d8f5bf187901",
   "metadata": {},
   "source": [
    "Je velmi dobrou praxí minimalizovat opakování kódu (princip DRY – Don't Repeat Yourself). Můžete vytvořit obecnější funkci, která parametrizuje části, které se liší mezi oběma funkcemi, což zde jsou názvy proměnných a konfigurace komponent GUI. Zde je návrh, jak byste mohli refaktorovat váš kód:"
   ]
  },
  {
   "cell_type": "code",
   "execution_count": null,
   "id": "ecf26605-88a7-4401-8f51-0e0237bb88fd",
   "metadata": {},
   "outputs": [],
   "source": [
    "from tkinter import filedialog\n",
    "\n",
    "def browse_file(path_label, param_path):\n",
    "    filename = filedialog.askopenfilename()\n",
    "    path_label.config(text=filename)\n",
    "    globals()[param_path] = filename\n",
    "\n",
    "def browseppgwp():\n",
    "    browse_file(ppgwppathlabel, 'PARAM_GWP_PREM_PATH')\n",
    "\n",
    "def browseaccgwp():\n",
    "    browse_file(accgwppathlabel, 'PARAM_GWP_ACC_PATH')"
   ]
  },
  {
   "cell_type": "markdown",
   "id": "93bf5729-4d17-40e3-9a88-82750ae8c202",
   "metadata": {},
   "source": [
    "Použití globals() pro nastavení globální proměnné může být považováno za nebezpečnou praxi, protože může vést k chybám, které jsou těžko sledovatelné, a kódu, který je obtížnější pochopit a udržovat. V praxi by bylo lepší předat tyto proměnné nebo spravovat jejich hodnoty pomocí třídy nebo jiné struktury, která umožňuje bezpečnější a transparentnější přístup k datům."
   ]
  },
  {
   "cell_type": "markdown",
   "id": "10b975b6-a7d0-45ba-b669-4190ba61e802",
   "metadata": {},
   "source": [
    "### Formátovaný string\n",
    "---\n",
    "Jde o nejčitelnější variantu zápisu, jak propojit odkazy a skutečné hodnoty."
   ]
  },
  {
   "cell_type": "code",
   "execution_count": null,
   "id": "b1cca8c3-297f-4641-b2de-a25045fac188",
   "metadata": {},
   "outputs": [],
   "source": [
    "exec(\"self.btn_\" + date + \" = ttk.Button(self.frame_days, text=\" + date + \", width=5)\\n\""
   ]
  },
  {
   "cell_type": "code",
   "execution_count": null,
   "id": "5c4d3d37-567f-4f39-828c-53e609e0e843",
   "metadata": {},
   "outputs": [],
   "source": [
    "exec(f\"self.btn_{date}_ = ttk.Button(self.frame_days, text={date}, width=5)\\n\""
   ]
  },
  {
   "cell_type": "markdown",
   "id": "6e797c2d-d988-45d8-9e4b-f959ec978ab5",
   "metadata": {},
   "source": [
    "### Nadměrné nestování není cesta\n",
    "\n",
    "---"
   ]
  },
  {
   "cell_type": "markdown",
   "id": "1d1d921f-02ef-4a6f-bca3-7e3d58268b6a",
   "metadata": {},
   "source": [
    "Nadměrné vnoření kódu, neboli \"deep nesting,\" je běžný problém v mnoha programovacích jazycích, včetně Pythonu. Tento problém nastává, když kód obsahuje mnoho úrovní vnořených bloků, jako jsou podmínky if, smyčky for nebo while, nebo kombinace těchto. Nadměrné vnoření může vést k několika problémům:\n",
    "Proč je nadměrné vnoření problém?\n",
    "\n",
    "- Čitelnost kódu: Hluboko vnořený kód může být obtížně čitelný a pochopitelný. To ztěžuje orientaci v kódu a snižuje jeho údržbu.\n",
    "- Údržba kódu: Když je kód silně vnořený, i malé změny mohou vyžadovat široké úpravy, které zasahují do mnoha úrovní vnoření. To zvyšuje riziko zavedení chyb během údržby.\n",
    "- Testovatelnost: Hluboce vnořený kód je často těžší testovat, protože testování takového kódu může vyžadovat komplexní nastavení nebo mockování velkého množství podmínek pro dosažení všech větví."
   ]
  },
  {
   "cell_type": "code",
   "execution_count": 2,
   "id": "56f462f3-3835-4d3f-bae0-f79fdf87bfe5",
   "metadata": {},
   "outputs": [],
   "source": [
    "#### Guard clause"
   ]
  },
  {
   "cell_type": "markdown",
   "id": "36540e16-3a5e-4abe-89ef-e15ec980a94a",
   "metadata": {},
   "source": [
    "Místo vnoření hlavního bloku kódu do if podmínky, použijte tzv. guard clause. Tento přístup znamená, že pokud podmínka není splněna, kód skončí (např. vrátí hodnotu nebo vyvolá výjimku) ještě před vstupem do hlavního bloku."
   ]
  },
  {
   "cell_type": "code",
   "execution_count": null,
   "id": "7dd8fdd7-1b7c-4327-a5cd-df23c285de78",
   "metadata": {},
   "outputs": [],
   "source": [
    "def process_data(data):\n",
    "    if data is None:\n",
    "        return\n",
    "    # Hlavní logika funkce zde"
   ]
  },
  {
   "cell_type": "markdown",
   "id": "a1c07ebb-3486-45bd-94a8-3b348874d4cd",
   "metadata": {},
   "source": [
    "Dekompozice funkce:\n",
    "\n",
    "Rozdělte složité funkce na menší, jednodušší podfunkce. Každá funkce by měla mít jednu zodpovědnost. Toto nejenže snižuje vnoření, ale také zlepšuje znovupoužitelnost a testovatelnost kódu."
   ]
  },
  {
   "cell_type": "code",
   "execution_count": null,
   "id": "e3d410ec-0aae-40b7-87bb-9a5a2cd6edf1",
   "metadata": {},
   "outputs": [],
   "source": [
    "def main_function():\n",
    "    result = step_one()\n",
    "    if result:\n",
    "        result = step_two(result)\n",
    "    return result\n",
    "\n",
    "def step_one():\n",
    "    # Kód pro první krok\n",
    "    return data\n",
    "\n",
    "def step_two(data):\n",
    "    # Kód pro druhý krok\n",
    "    return modified_data\n"
   ]
  },
  {
   "cell_type": "code",
   "execution_count": null,
   "id": "da5754eb-baab-4651-b63c-6a96e6fb3aeb",
   "metadata": {},
   "outputs": [],
   "source": [
    "        try:\n",
    "            extension = path.split('.')[-1]"
   ]
  },
  {
   "cell_type": "code",
   "execution_count": null,
   "id": "eda05caa-6fed-43c2-ac62-be6405af547c",
   "metadata": {},
   "outputs": [],
   "source": [
    "def get_file_extension(filename: str) -> str:\n",
    "    pass"
   ]
  },
  {
   "cell_type": "markdown",
   "id": "64cc272f-86f3-41cc-8bf3-de8b547708a4",
   "metadata": {},
   "source": [
    "Používání obecného except bez specifikace typu výjimky v Pythonu může být problematické, protože zachytí jakoukoli výjimku, včetně těch, které byste možná chtěli ošetřit jinak, nebo o nichž chcete vědět, když se objeví. Toto může vést k skrytí chyb, které by jinak měly být řádně ošetřeny nebo reportovány."
   ]
  },
  {
   "cell_type": "markdown",
   "id": "fc549572-791f-4b5f-a170-d0a4f23359a9",
   "metadata": {},
   "source": [
    "### Problém s hárdkóděnými proměnnými"
   ]
  },
  {
   "cell_type": "markdown",
   "id": "86545ad8-3deb-465d-aec3-61e4d88d4768",
   "metadata": {},
   "source": [
    "Každá ručně zapsaná proměnná nemusí být problém. Obecně, ale doporučuji vše uchovávat v souborech typu `constants.py` nebo `const.py`.\n",
    "\n",
    "V rámci funkcí potom doporučuji práci s **defaultními parametry**."
   ]
  },
  {
   "cell_type": "code",
   "execution_count": null,
   "id": "03d6d6f1-933e-4ea9-b582-eb63db6cd2a8",
   "metadata": {},
   "outputs": [],
   "source": [
    "    def get_project_root_inputfiles(jsonfile):\n",
    "        '''\n",
    "        Returns project root folder.\n",
    "        '''\n",
    "\n",
    "        return os.path.join(os.getcwd(), 'input_files/UPR', jsonfile)"
   ]
  },
  {
   "cell_type": "code",
   "execution_count": null,
   "id": "15102b07-5390-471e-b940-12b85bf8f5aa",
   "metadata": {},
   "outputs": [],
   "source": []
  },
  {
   "cell_type": "code",
   "execution_count": null,
   "id": "15b37591-9dad-4317-8231-17148d73673a",
   "metadata": {},
   "outputs": [],
   "source": []
  },
  {
   "cell_type": "code",
   "execution_count": null,
   "id": "20cdc8ef-3281-4ba2-a177-3e069f3f61d9",
   "metadata": {},
   "outputs": [],
   "source": []
  },
  {
   "cell_type": "code",
   "execution_count": null,
   "id": "9abb8f40-881f-4aeb-8b3f-a0f53ecf6a8e",
   "metadata": {},
   "outputs": [],
   "source": [
    "    df_tariff.rename(columns={df_tariff.columns[4]: NAME_PROD_ID}, inplace=True)\n",
    "    df_tariff.rename(columns={df_tariff.columns[6]: NAME_CODA}, inplace=True)"
   ]
  },
  {
   "cell_type": "code",
   "execution_count": null,
   "id": "08df290c-4105-45f1-a9f3-a57d004f7c02",
   "metadata": {},
   "outputs": [],
   "source": []
  },
  {
   "cell_type": "markdown",
   "id": "bbd1a808-d988-4471-92b0-f6f240515e86",
   "metadata": {},
   "source": [
    "### Chybí využití enumerate"
   ]
  },
  {
   "cell_type": "code",
   "execution_count": null,
   "id": "bbe6c6bd-8477-4f0a-9666-f31dc684ba03",
   "metadata": {},
   "outputs": [],
   "source": []
  },
  {
   "cell_type": "code",
   "execution_count": null,
   "id": "a04aede9-21d7-4003-9b4e-b81373bca329",
   "metadata": {},
   "outputs": [],
   "source": [
    "        for i in range(len(df_lists_)):\n",
    "            ..."
   ]
  },
  {
   "cell_type": "code",
   "execution_count": null,
   "id": "ed45e957-e646-45e5-ae4a-49fc8ca9dcd8",
   "metadata": {},
   "outputs": [],
   "source": []
  },
  {
   "cell_type": "markdown",
   "id": "07938fc0-215c-4272-9adc-1d00572a60fc",
   "metadata": {},
   "source": [
    "### Pěkné uživatelské funkce"
   ]
  },
  {
   "cell_type": "markdown",
   "id": "2f42df81-8e28-4e92-89cc-eb7aafda07fd",
   "metadata": {},
   "source": [
    "Jak dosáhnout stručnosti a přehlednosti funkcí\n",
    "\n",
    "Jedna funkce, jeden účel: Každá funkce by měla mít jasně definovaný a omezený účel.\n",
    "Dekompozice: Pokud je funkce příliš dlouhá nebo komplikovaná, zvažte její rozdělení na menší funkce.\n",
    "Čisté rozhraní: Funkce by měla mít čisté a jasné rozhraní, což znamená, že počet parametrů by měl být minimální a každý parametr by měl být nezbytně nutný."
   ]
  },
  {
   "cell_type": "code",
   "execution_count": null,
   "id": "f14f9d31-9e44-43c1-88d4-0a862a31c816",
   "metadata": {},
   "outputs": [],
   "source": []
  }
 ],
 "metadata": {
  "kernelspec": {
   "display_name": "Python 3 (ipykernel)",
   "language": "python",
   "name": "python3"
  },
  "language_info": {
   "codemirror_mode": {
    "name": "ipython",
    "version": 3
   },
   "file_extension": ".py",
   "mimetype": "text/x-python",
   "name": "python",
   "nbconvert_exporter": "python",
   "pygments_lexer": "ipython3",
   "version": "3.8.10"
  }
 },
 "nbformat": 4,
 "nbformat_minor": 5
}
