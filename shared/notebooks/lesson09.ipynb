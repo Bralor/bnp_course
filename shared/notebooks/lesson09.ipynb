{
 "cells": [
  {
   "cell_type": "markdown",
   "id": "756f8ef3-70f3-48fb-bdf6-28c5dd0d8dc9",
   "metadata": {},
   "source": [
    "# Datová akademie, 2024\n",
    "\n",
    "---"
   ]
  },
  {
   "cell_type": "markdown",
   "id": "c2d5b109-15eb-48c2-9a79-18747a196385",
   "metadata": {},
   "source": [
    "* [Časové řady](#Časové-řady),\n",
    "    - [úvodní motivace](#Úvod),\n",
    "    - [základní objekty](#Základní-objekty),\n",
    "    - [indexování časovými údaji](#Indexování-s-časem),\n",
    "    - [funkce to_datetime](#Funkce-TO_DATETIME),\n",
    "    - [funkce date_range](#Funkce-DATE_RANGE),\n",
    "    - [resampling](#Resampling,-snížení-frekvence),\n",
    "    - [zpřesňování](#Zpřesňování-řady),\n",
    "    - [cvičení](#🧠-CVIČENÍ-🧠,-procvič-si-časové-řady).\n",
    "\n",
    "\n",
    "* [Výkonné pandy](#Výkonný-PANDAS),\n",
    "    - [funkce eval](#Funkce-EVAL),\n",
    "    - [výhody eval](#Výkon-EVAL),\n",
    "    - [funkce query](#Funkce-QUERY),\n",
    "    - [souhrn k eval a query](#Souhrn-k-EVAL-a-QUERY),\n",
    "    - [cvičení](#🧠-CVIČENÍ-🧠,-procvič-si-funkce-EVAL-a-QUERY).\n",
    "\n",
    "* [Skutečné hodnoty](#Skutečné-datové-sety),\n",
    "    - [chybějící údaje](#Kolik-mi-chybí-údajů),\n",
    "    - [encoding](#Encoding),\n",
    "    - [nekonzistentní data](#Nekonzistentní-data),\n",
    "    - [cvičení](#🧠-CVIČENÍ-🧠,-procvič-si-práci-s-chybným-datasetem)."
   ]
  },
  {
   "cell_type": "code",
   "execution_count": null,
   "id": "d31f8826-63a7-4e42-bc57-420128045647",
   "metadata": {},
   "outputs": [],
   "source": [
    "# str, list, tuple\n",
    "name = \"Matous Holinka\"\n",
    "print(name.split()[1])"
   ]
  },
  {
   "cell_type": "code",
   "execution_count": null,
   "id": "141d0b65-5663-43c5-8d4c-62cbd55021f1",
   "metadata": {},
   "outputs": [],
   "source": [
    "first_name = name.split()[0]\n",
    "last_name = name.split()[1]\n",
    "print(first_name, last_name, sep='\\n')"
   ]
  },
  {
   "cell_type": "code",
   "execution_count": null,
   "id": "5189ebe7-b47d-4546-acd7-3bcc92ede798",
   "metadata": {},
   "outputs": [],
   "source": [
    "name = 'Matous Holinka First'\n",
    "first_name, last_name = name.split()\n",
    "print(first_name, last_name, sep='\\n')"
   ]
  },
  {
   "cell_type": "code",
   "execution_count": null,
   "id": "8cc5127d-a891-4bee-8a89-469adef57a00",
   "metadata": {},
   "outputs": [],
   "source": [
    "names = list()\n",
    "names.append(\"Matous\")"
   ]
  },
  {
   "cell_type": "code",
   "execution_count": null,
   "id": "505b732d-cbda-4a6b-9b3a-42fc3de5c842",
   "metadata": {},
   "outputs": [],
   "source": [
    "print(names)"
   ]
  },
  {
   "cell_type": "code",
   "execution_count": null,
   "id": "ff58d59b-479a-4fb7-9b8d-bff4c5f45943",
   "metadata": {},
   "outputs": [],
   "source": [
    "print(names)"
   ]
  },
  {
   "cell_type": "code",
   "execution_count": null,
   "id": "288569a8-2c05-4814-aeac-ef3b3c477c62",
   "metadata": {},
   "outputs": [],
   "source": [
    "names.append(\"Petr\")"
   ]
  },
  {
   "cell_type": "code",
   "execution_count": null,
   "id": "41cf68f8-98af-43e2-8c0b-aa93005c427f",
   "metadata": {},
   "outputs": [],
   "source": [
    "names.insert(0, \"Lukas\")"
   ]
  },
  {
   "cell_type": "code",
   "execution_count": null,
   "id": "ba337187-3bc6-44c5-bdc1-2ea1dcfed2b3",
   "metadata": {},
   "outputs": [],
   "source": [
    "print(names)"
   ]
  },
  {
   "cell_type": "code",
   "execution_count": null,
   "id": "4b8cd126-ccff-4512-9e15-0985b1646f05",
   "metadata": {},
   "outputs": [],
   "source": [
    "del names[1]"
   ]
  },
  {
   "cell_type": "code",
   "execution_count": null,
   "id": "91eb6f2a-0b22-4815-9baa-dba4d2b83284",
   "metadata": {},
   "outputs": [],
   "source": [
    "names.remove(\"Petr\")"
   ]
  },
  {
   "cell_type": "code",
   "execution_count": null,
   "id": "e91eec29-02b9-4802-8e29-e47258720719",
   "metadata": {},
   "outputs": [],
   "source": [
    "# bool, conditional statement,\n",
    "age = 10\n",
    "\n",
    "if age >= 18:\n",
    "    print('Adult')\n",
    "else:\n",
    "    print('Not adult')"
   ]
  },
  {
   "cell_type": "code",
   "execution_count": null,
   "id": "73106623-90c6-4957-80b4-84862290fae5",
   "metadata": {},
   "outputs": [],
   "source": [
    "email = 'matous@holinka.com'\n",
    "\n",
    "# 'c' --> email?\n",
    "print('c' in email)"
   ]
  },
  {
   "cell_type": "code",
   "execution_count": null,
   "id": "2a61b14b-0e87-4cbe-8647-2787b5ebabf8",
   "metadata": {},
   "outputs": [],
   "source": [
    "print('C' in email)"
   ]
  },
  {
   "cell_type": "code",
   "execution_count": null,
   "id": "7c3490b7-1808-44e6-bdc7-3fb79e59b09c",
   "metadata": {},
   "outputs": [],
   "source": [
    "# dict, set\n",
    "user = ('Matouš', 'Holinka', 100, 'matous@holinka.com')\n",
    "print(user[2])"
   ]
  },
  {
   "cell_type": "code",
   "execution_count": null,
   "id": "118b102c-6717-424c-ae21-2eb644e506db",
   "metadata": {},
   "outputs": [],
   "source": [
    "user = {'first_name': 'Matouš', 'last_name': 'Holinka', 'age': 100, 'email': 'matous@holinka.com'}"
   ]
  },
  {
   "cell_type": "code",
   "execution_count": null,
   "id": "26769eb8-6f8f-4eb1-9344-f709633ba814",
   "metadata": {},
   "outputs": [],
   "source": [
    "from pprint import pprint\n",
    "pprint(user)"
   ]
  },
  {
   "cell_type": "code",
   "execution_count": null,
   "id": "84592d17-a641-4855-97e1-e77cc986b27e",
   "metadata": {},
   "outputs": [],
   "source": [
    "print(user['age'])"
   ]
  },
  {
   "cell_type": "code",
   "execution_count": null,
   "id": "9dcd537a-67b1-4769-93e7-90f37bb66f88",
   "metadata": {},
   "outputs": [],
   "source": [
    "print(user['firstName'])"
   ]
  },
  {
   "cell_type": "code",
   "execution_count": null,
   "id": "ff7a9442-440f-4b6f-907e-4dbfaa367fe9",
   "metadata": {},
   "outputs": [],
   "source": [
    "from collections import namedtuple"
   ]
  },
  {
   "cell_type": "code",
   "execution_count": null,
   "id": "517a7652-de34-4867-992f-be667d5c1e78",
   "metadata": {},
   "outputs": [],
   "source": [
    "User = namedtuple('first_name', 'last_name')"
   ]
  },
  {
   "cell_type": "code",
   "execution_count": null,
   "id": "2db778cf-6054-4bb8-b73a-e8e178382579",
   "metadata": {},
   "outputs": [],
   "source": [
    "user_1 = User(first_name='Matous', last_name='Holinka')"
   ]
  },
  {
   "cell_type": "code",
   "execution_count": null,
   "id": "8e9f5e7a-73f3-479f-9c20-20499684ed1d",
   "metadata": {},
   "outputs": [],
   "source": [
    "# for loop, list comprehension\n",
    "for domain in {'gmail', 'email', 'mail', 'smail'}:\n",
    "    print(domain)"
   ]
  },
  {
   "cell_type": "code",
   "execution_count": null,
   "id": "4f817373-5a88-4e81-b101-434173837c94",
   "metadata": {},
   "outputs": [],
   "source": [
    "letters = 'aBcDEFGhijkL'\n",
    "capital = list()"
   ]
  },
  {
   "cell_type": "code",
   "execution_count": null,
   "id": "b69c642f-df2c-478f-9c2f-3b0adfc4d6f5",
   "metadata": {},
   "outputs": [],
   "source": [
    "for letter in letters:\n",
    "    if letter.isupper():\n",
    "        capital.append(letter)"
   ]
  },
  {
   "cell_type": "code",
   "execution_count": null,
   "id": "dc0aadd0-13b7-4152-988b-10d4b16259f8",
   "metadata": {},
   "outputs": [],
   "source": [
    "print(capital)"
   ]
  },
  {
   "cell_type": "code",
   "execution_count": null,
   "id": "159ce49a-9c8a-4b78-8247-e0a514ae3168",
   "metadata": {},
   "outputs": [],
   "source": [
    "# libraries,"
   ]
  },
  {
   "cell_type": "code",
   "execution_count": null,
   "id": "778411e3-edf8-40b5-b41c-e063687abf37",
   "metadata": {},
   "outputs": [],
   "source": [
    "# functions\n",
    "data_1 = (1, 11, 111, 2, 22)\n",
    "data_2 = (1, 11, 111, \"2\", 22)\n",
    "data_3 = (1, 11, 111, \"two\", 22)\n",
    "\n",
    "# func(data: tuple) -> sum(), calculate the sum of the numerical values ONLY from the given variables"
   ]
  },
  {
   "cell_type": "code",
   "execution_count": null,
   "id": "6433e528-9b2c-42df-a15b-8604b168bfd3",
   "metadata": {},
   "outputs": [],
   "source": [
    "def calculate_only_numerical_values(given_data: tuple) -> int:\n",
    "    total = 0\n",
    "    \n",
    "    for value in given_data:  # try/except\n",
    "        if str(value).isnumeric():  # isinstance()\n",
    "            total = total + int(value)\n",
    "\n",
    "    return total"
   ]
  },
  {
   "cell_type": "code",
   "execution_count": null,
   "id": "fdc5580f-f2b2-47e3-a015-46cd8e3f1f61",
   "metadata": {},
   "outputs": [],
   "source": [
    "type('s')"
   ]
  },
  {
   "cell_type": "code",
   "execution_count": null,
   "id": "29535575-62a2-455a-8900-6b27b299111d",
   "metadata": {},
   "outputs": [],
   "source": [
    "sum(data_2)"
   ]
  },
  {
   "cell_type": "code",
   "execution_count": null,
   "id": "f47d3c3c-bdb9-4e7b-82db-57e765276bc8",
   "metadata": {},
   "outputs": [],
   "source": [
    "result_1 = calculate_only_numerical_values(data_1)\n",
    "result_2 = calculate_only_numerical_values(data_2)\n",
    "result_3 = calculate_only_numerical_values(data_3)"
   ]
  },
  {
   "cell_type": "code",
   "execution_count": null,
   "id": "b932915a-c1a4-42e5-aa9f-8991880844b6",
   "metadata": {},
   "outputs": [],
   "source": [
    "print(result_1, result_2, result_3, sep='\\n')"
   ]
  },
  {
   "cell_type": "code",
   "execution_count": null,
   "id": "1a9ca45f-7b92-4111-9eb7-bdcc10271437",
   "metadata": {},
   "outputs": [],
   "source": [
    "'1'.isnumeric()"
   ]
  },
  {
   "cell_type": "markdown",
   "id": "f5f1fecd-8e5b-4e10-bad3-78efc6347e56",
   "metadata": {},
   "source": [
    "<br>\n",
    "\n",
    "#### **🧠 OPAKOVÁNÍ 🧠, vyzkoušej si úkol**\n",
    "\n",
    "*Practice the following steps*"
   ]
  },
  {
   "cell_type": "markdown",
   "id": "6f6c0014-83d6-449a-b228-adab7dc2dd0a",
   "metadata": {},
   "source": [
    "1. Create a `load_csv_file` function that takes one `filepath` parameter. The function must be able to load a **CSV file** and return an object of type `DataFrame`,\n",
    "2. ..if the user does not provide any argument as `filepath`, the function returns `None`,\n",
    "3. create a `split column` function that takes one `current df` parameter. Its purpose is to create two `City, street` columns from the specified `City` column (follow the order of the new columns),\n",
    "4. create a `drop_empty_records` function that takes one `current_df` parameter. Its purpose is **to remove all empty records** from the specified columns of the column `City, street' and return the modified table object,\n",
    "5. create a `format_date` function that takes one `current_df` parameter. Its purpose is to create a copy of `Formatted_date`, in the format `DD/MM/YYYY`, from the specified column `Date`,\n",
    "6. create a `calculate_daily_average_temperatures` function that takes one `current_df` parameter. Its purpose is to group the values according to the given days and calculate the average daily maximum and minimum on each day. Then write this value to a new object and return that object,\n",
    "7. create a `save_results_to_csv` function that needs two parameters `final_data` and `filename`. Its purpose is to write a `DataFrame` object from **final_data** to file **filename**."
   ]
  },
  {
   "cell_type": "code",
   "execution_count": null,
   "id": "949cf71d-1f78-4639-b9dd-fe52f9d25e84",
   "metadata": {},
   "outputs": [],
   "source": [
    "from pandas import DataFrame\n",
    "\n",
    "new_cities = DataFrame({\n",
    "    'Index': (1, 2, 3),\n",
    "    'City': ('Praha,1', 'Brno,2', 'Ostrava,3')\n",
    "})"
   ]
  },
  {
   "cell_type": "code",
   "execution_count": null,
   "id": "c2302590-2cc3-4c61-bf56-c2d06d85f76a",
   "metadata": {},
   "outputs": [],
   "source": [
    "new_cities['City'][2].split(',')"
   ]
  },
  {
   "cell_type": "markdown",
   "id": "82a679a7-df31-4d54-be5c-704411afde6c",
   "metadata": {},
   "source": [
    "<details>\n",
    "    <summary>▶️ Řešení</summary>\n",
    "    \n",
    "```python\n",
    "\n",
    "import pandas as pd\n",
    "\n",
    "def load_csv_file(filepath: str, separator: str = ',') -> pd.DataFrame:\n",
    "    if not filepath:\n",
    "        return None\n",
    "    return pd.read_csv(filepath, sep=separator)\n",
    "\n",
    "\n",
    "def split_column(current_df: pd.DataFrame,\n",
    "                 current: str = 'Město',\n",
    "                 target: list = ['Město', 'Ulice']) -> pd.DataFrame:\n",
    "    \"\"\"\n",
    "    Split the current column into two separated columns. Also, update the order of the new columns.\n",
    "    \"\"\"\n",
    "    current_df[target] = current_df[current].str.split(',', n=1, expand=True)\n",
    "\n",
    "    correct_column_order = target + [column for column in current_df.columns if column not in target]\n",
    "    return current_df[correct_column_order]\n",
    "\n",
    "\n",
    "def drop_empty_records(current_df: pd.DataFrame,\n",
    "                       main_columns: list = ['Město', 'Ulice']) -> pd.DataFrame:\n",
    "    \"\"\"\n",
    "    If there are empty values in the selected columns, remove the whole record from the DataFrame.\n",
    "    \"\"\"\n",
    "    return current_df.dropna(subset=main_columns)\n",
    "\n",
    "\n",
    "def format_date(current_df: pd.DataFrame,\n",
    "                date_column: str = 'Datum') -> pd.DataFrame:\n",
    "    current_df['Formatted_date'] = pd.to_datetime(current_df[date_column]).dt.strftime('%d/%m/%Y')\n",
    "    return current_df\n",
    "\n",
    "\n",
    "def calculate_daily_average_temperatures(current_df: pd.DataFrame) -> pd.DataFrame:\n",
    "    grouped_records_by_date = current_df.groupby('Formatted_date').agg({\n",
    "        'Max teplota (°C)': 'mean',\n",
    "        'Min teplota (°C)': 'mean'\n",
    "    }).reset_index()\n",
    "\n",
    "    grouped_records_by_date.columns = ['Formatted_date', 'Průměrná max teplota (°C)', 'Průměrná min teplota (°C)']\n",
    "    grouped_records_by_date.set_index(grouped_records_by_date['Formatted_date'], inplace=True)\n",
    "    \n",
    "    return grouped_records_by_date\n",
    "\n",
    "\n",
    "def save_results_to_csv(filename: str, final_data: pd.DataFrame) -> None:\n",
    "    grouped.drop('Formatted_date', axis=1).to_csv(sep=';',\n",
    "                                                  header=True,\n",
    "                                                  path_or_buf=filename)\n",
    "\n",
    "\n",
    "if __name__ == '__main__':\n",
    "    loaded_csv_file = load_csv_file('../exercises/cities.csv')\n",
    "    splitted_columns = split_column(loaded_csv_file)\n",
    "    \n",
    "    without_missing_values = drop_empty_records(splitted_columns)\n",
    "    update_date_format = format_date(without_missing_vals)\n",
    "\n",
    "    grouped = calculate_daily_average_temperatures(update_date_format)\n",
    "\n",
    "    save_results_to_csv('../exercises/average_daily_temperatures.csv', grouped)\n",
    "```\n",
    "\n",
    "</details>"
   ]
  },
  {
   "cell_type": "markdown",
   "id": "3ac6884d-bca7-45c4-8351-4131f2f48572",
   "metadata": {},
   "source": [
    "<br>\n",
    "\n",
    "## Časové řady\n",
    "\n",
    "---\n",
    "\n",
    "<img src=\"https://external-content.duckduckgo.com/iu/?u=https%3A%2F%2Ftse1.mm.bing.net%2Fth%3Fid%3DOIP.odqbr-09dxxBQjF7x7NyBAHaII%26pid%3DApi&f=1&ipt=5b4a03c1dd38b52108237102ebb350595a5d6ea6a50572f5897ca89fbf5b5445&ipo=images\" width=\"160\" style=\"margin-left:auto; margin-right:auto\"/>"
   ]
  },
  {
   "cell_type": "markdown",
   "id": "0b10f4ba-06c6-452c-9923-2fd063acf48b",
   "metadata": {},
   "source": [
    "### Úvod\n",
    "\n",
    "---"
   ]
  },
  {
   "cell_type": "markdown",
   "id": "eeb7bf9c-d886-491f-a38b-954ea9ef4c17",
   "metadata": {
    "tags": []
   },
   "source": [
    "Část *frameworku* byla vyvinuta za účelem **finančního modelování**.\n",
    "\n",
    "Proto je více než dobře vybavena sadou nástrojů, které umí pracovat **s daty, časem a časovými objekty**.\n",
    "\n",
    "<br>\n",
    "\n",
    "Uplatnění:\n",
    "* **Analýza a predikce**: umožňuje analyzovat vývoj hodnot v čase a předpovídat budoucí trendy nebo sezónní změny,\n",
    "* **Efektivní manipulace s časem**: zjednodušuje úkoly, jako je agregace, interpolace nebo časové posuny,\n",
    "* **Flexibilní indexace**: podporuje flexibilní indexaci časových řad, což usnadňuje filtrování, řazení a výběr dat,\n",
    "* **Kompatibilita s dalšími knihovnami**: je kompatibilní s mnoha dalšími knihovnami pro analýzu časových řad, jako je `statsmodels` nebo `scikit-learn`."
   ]
  },
  {
   "cell_type": "markdown",
   "id": "f9542756-cb5d-462e-a667-e2c0313db6ba",
   "metadata": {
    "tags": []
   },
   "source": [
    "<br>\n",
    "\n",
    "#### Pomocí standardního Pythonu\n",
    "\n",
    "---"
   ]
  },
  {
   "cell_type": "markdown",
   "id": "8f89d05f-af3a-49c8-9072-2a7f527cf4de",
   "metadata": {},
   "source": [
    "Standardní výbavou Pythonu jsou knihovny `datetime`:"
   ]
  },
  {
   "cell_type": "code",
   "execution_count": null,
   "id": "d0a194fe-fac0-42ae-a6c5-4770aa439395",
   "metadata": {
    "tags": []
   },
   "outputs": [],
   "source": [
    "from datetime import datetime"
   ]
  },
  {
   "cell_type": "code",
   "execution_count": null,
   "id": "ade4d2d7-0b0b-4151-af65-70951feaf8ce",
   "metadata": {
    "tags": []
   },
   "outputs": [],
   "source": [
    "datetime(year=2023, month=4, day=5)"
   ]
  },
  {
   "cell_type": "code",
   "execution_count": null,
   "id": "13db68ee-1ce9-47dc-a0cf-60a9e751e8e7",
   "metadata": {
    "tags": []
   },
   "outputs": [],
   "source": [
    "type(datetime(year=2023, month=4, day=5))"
   ]
  },
  {
   "cell_type": "markdown",
   "id": "1ea4fa9f-987f-423b-85c3-b5e42d6aaa2b",
   "metadata": {},
   "source": [
    "<br>\n",
    "\n",
    "Nebo knihovna `dateutil` pro *parsování* datových typů z různých **stringových zadání**:"
   ]
  },
  {
   "cell_type": "code",
   "execution_count": null,
   "id": "cf54882c-2d33-4c82-bef2-459ed78b8df9",
   "metadata": {
    "tags": []
   },
   "outputs": [],
   "source": [
    "from dateutil import parser"
   ]
  },
  {
   "cell_type": "markdown",
   "id": "ae8d95b7-9796-449c-ae14-876cabedfd87",
   "metadata": {},
   "source": [
    "<br>\n",
    "\n",
    "Funkce `parse` zpracuje (*parsuje*) velké množství různých formátů času ve `str`:"
   ]
  },
  {
   "cell_type": "code",
   "execution_count": null,
   "id": "452e9eec-a77a-4d7f-9e1c-886c1152fd11",
   "metadata": {
    "tags": []
   },
   "outputs": [],
   "source": [
    "date = parser.parse(\"5th of april, 2024\")"
   ]
  },
  {
   "cell_type": "code",
   "execution_count": null,
   "id": "c2802dda-7f8d-4791-acd8-2d2cadb9bff9",
   "metadata": {
    "tags": []
   },
   "outputs": [],
   "source": [
    "type(parser.parse)"
   ]
  },
  {
   "cell_type": "code",
   "execution_count": null,
   "id": "b91cd31b-cba6-4a28-9656-159bce0d692d",
   "metadata": {},
   "outputs": [],
   "source": [
    "# parser.parse??"
   ]
  },
  {
   "cell_type": "code",
   "execution_count": null,
   "id": "22c01da0-e255-4338-b5b7-394bfa866883",
   "metadata": {
    "tags": []
   },
   "outputs": [],
   "source": [
    "date.year"
   ]
  },
  {
   "cell_type": "code",
   "execution_count": null,
   "id": "7950aeeb-775d-4adc-a5a3-9e7a6ba7f6b5",
   "metadata": {
    "tags": []
   },
   "outputs": [],
   "source": [
    "date.month"
   ]
  },
  {
   "cell_type": "code",
   "execution_count": null,
   "id": "3b7d14aa-f28e-4c17-92bf-5481ce5f34f0",
   "metadata": {
    "tags": []
   },
   "outputs": [],
   "source": [
    "date.day"
   ]
  },
  {
   "cell_type": "markdown",
   "id": "658dc0e1-86e6-4042-b2db-2d2d3b48bb44",
   "metadata": {},
   "source": [
    "<br>\n",
    "\n",
    "Kde pomocí metody `strftime` můžeš vypsat den:"
   ]
  },
  {
   "cell_type": "code",
   "execution_count": null,
   "id": "d28e3912-30c2-4b38-818e-afd8b36aa6ad",
   "metadata": {
    "tags": []
   },
   "outputs": [],
   "source": [
    "date.strftime(\"%A\")"
   ]
  },
  {
   "cell_type": "code",
   "execution_count": null,
   "id": "d3de8116-d146-42da-b481-43452334560c",
   "metadata": {
    "tags": []
   },
   "outputs": [],
   "source": [
    "date.strftime(\"%d/%m/%y\")"
   ]
  },
  {
   "cell_type": "markdown",
   "id": "fb75c6fb-9757-4b53-a611-9bfd67b899e8",
   "metadata": {},
   "source": [
    "<br>\n",
    "\n",
    "#### Pomocí NUMPY\n",
    "\n",
    "---"
   ]
  },
  {
   "cell_type": "markdown",
   "id": "6bd35fe3-af1f-4c54-b206-158c3a3691f2",
   "metadata": {},
   "source": [
    "Některé nedostatky uvnitř knihoven `datetime` a `dateutil` vedli ke vzniku sady nástrojů.\n",
    "\n",
    "Tyto doplňky vznikly pod hlavičkou knihovny `numpy`."
   ]
  },
  {
   "cell_type": "code",
   "execution_count": null,
   "id": "951d10ff-5615-4fdd-b776-d07be4e8fbed",
   "metadata": {
    "tags": []
   },
   "outputs": [],
   "source": [
    "import numpy\n",
    "from numpy import array, arange"
   ]
  },
  {
   "cell_type": "code",
   "execution_count": null,
   "id": "ace452d7-3323-4d8c-a289-1b9d3bde2906",
   "metadata": {
    "tags": []
   },
   "outputs": [],
   "source": [
    "date = array('2024-04-05', dtype=numpy.datetime64)"
   ]
  },
  {
   "cell_type": "code",
   "execution_count": null,
   "id": "29f0009b-bfc0-45d5-93db-a4f2544e000a",
   "metadata": {
    "tags": []
   },
   "outputs": [],
   "source": [
    "date"
   ]
  },
  {
   "cell_type": "markdown",
   "id": "02f3b981-0e8a-460b-aa4e-1e736149ffdb",
   "metadata": {},
   "source": [
    "<br>\n",
    "\n",
    "Pokud potřebuješ pole **následujících 7 dní**:"
   ]
  },
  {
   "cell_type": "code",
   "execution_count": null,
   "id": "6e41ecfd-cca7-4cc9-b3c5-e890b7a41eea",
   "metadata": {
    "tags": []
   },
   "outputs": [],
   "source": [
    "date + arange(7)"
   ]
  },
  {
   "cell_type": "markdown",
   "id": "684eaa2a-abb4-4a0a-8463-2ddea8cd96b3",
   "metadata": {
    "tags": []
   },
   "source": [
    "<br>\n",
    "\n",
    "Vzhledem k jednotnému datovu typu v poli pro **numpy** `datetime64` může tento typ operace\n",
    "provádět mnohem rychleji.\n",
    "\n",
    "Zatímco knihovna `datetime` tuto optimalizaci nezná.\n",
    "\n",
    "Potom ztrácí efektivitu, pokud časové nebo datové objekty nabývají na velikosti."
   ]
  },
  {
   "cell_type": "markdown",
   "id": "f948c02f-728a-4a62-85d5-6d4f16cf91f7",
   "metadata": {},
   "source": [
    "<br>\n",
    "\n",
    "#### Pomocí PANDAS\n",
    "\n",
    "---"
   ]
  },
  {
   "cell_type": "markdown",
   "id": "7f86fbaf-813e-44ac-8917-235ea2966fee",
   "metadata": {
    "tags": []
   },
   "source": [
    "Jde o kombinace objektů z obou předchozích podkapitol.\n",
    "\n",
    "Ty dávají dohromady to nejlepší prostředky pro zacházení s časem."
   ]
  },
  {
   "cell_type": "code",
   "execution_count": null,
   "id": "7d095458-75e4-44fb-baf1-06d379db7736",
   "metadata": {
    "tags": []
   },
   "outputs": [],
   "source": [
    "from pandas import to_datetime"
   ]
  },
  {
   "cell_type": "code",
   "execution_count": null,
   "id": "3cd1aaf4-eca0-4f2b-8bd8-5a52fbfd4637",
   "metadata": {
    "tags": []
   },
   "outputs": [],
   "source": [
    "date = to_datetime(\"5th of April, 2023\")"
   ]
  },
  {
   "cell_type": "code",
   "execution_count": null,
   "id": "ec88920f-7144-447a-aef4-85e6842b43f7",
   "metadata": {
    "tags": []
   },
   "outputs": [],
   "source": [
    "date"
   ]
  },
  {
   "cell_type": "code",
   "execution_count": null,
   "id": "4501d1f6-fe87-42e7-8af9-8712d768cdb1",
   "metadata": {
    "tags": []
   },
   "outputs": [],
   "source": [
    "type(date)"
   ]
  },
  {
   "cell_type": "code",
   "execution_count": null,
   "id": "30f7fff2-9795-46af-b97a-06cd4ff4962a",
   "metadata": {
    "tags": []
   },
   "outputs": [],
   "source": [
    "date.strftime(\"%A\")"
   ]
  },
  {
   "cell_type": "markdown",
   "id": "046bc9ce-237a-4dda-a865-e5f4fe34e752",
   "metadata": {},
   "source": [
    "<br>\n",
    "\n",
    "### Základní objekty\n",
    "\n",
    "---"
   ]
  },
  {
   "cell_type": "markdown",
   "id": "68359749-d638-4b3a-8646-18749616328e",
   "metadata": {},
   "source": [
    "V podstatě jde o hlavní nástroj, který tato knihovna dovede nabídnout.\n",
    "\n",
    "Mezi základní objekty pro práci s časem patří:\n",
    "* `Timestamp`, typ (související struktura Indexu `DatetimeIndex`),\n",
    "* `Period`, typ (.. `PeriodIndex`),\n",
    "* `Timedelta`, typ (.. `TimedeltaIndex`)."
   ]
  },
  {
   "cell_type": "markdown",
   "id": "dc9beb04-717d-438a-b001-968e3ca0da29",
   "metadata": {},
   "source": [
    "<br>\n",
    "\n",
    "#### Timestamp\n",
    "\n",
    "---\n",
    "\n",
    "Základní datový typ do časových řad.\n",
    "\n",
    "Přiřazuje pandasí hodnoty k skutečnému konkrétním časovému okamžiku."
   ]
  },
  {
   "cell_type": "code",
   "execution_count": null,
   "id": "dd8bbc4c-2973-4e84-a3b2-63c90ad65167",
   "metadata": {
    "tags": []
   },
   "outputs": [],
   "source": [
    "from pandas import Timestamp"
   ]
  },
  {
   "cell_type": "code",
   "execution_count": null,
   "id": "a68bf747-0cc4-4466-a9ed-53ebe4d9d1f5",
   "metadata": {
    "tags": []
   },
   "outputs": [],
   "source": [
    "# Timestamp?"
   ]
  },
  {
   "cell_type": "code",
   "execution_count": null,
   "id": "fd64dbc6-f9ae-4eb6-8254-750a7a58e4dd",
   "metadata": {
    "tags": []
   },
   "outputs": [],
   "source": [
    "date = Timestamp(\"2024-05-04\")"
   ]
  },
  {
   "cell_type": "code",
   "execution_count": null,
   "id": "d07b9871-395a-4795-aab4-920d51575493",
   "metadata": {
    "tags": []
   },
   "outputs": [],
   "source": [
    "Timestamp(year=2023, day=4, month=5)"
   ]
  },
  {
   "cell_type": "code",
   "execution_count": null,
   "id": "fb4e3249-28df-47b8-8f18-b758aa822045",
   "metadata": {
    "tags": []
   },
   "outputs": [],
   "source": [
    "type(Timestamp(2023, 5, 4))"
   ]
  },
  {
   "cell_type": "markdown",
   "id": "4c018c38-3640-4168-a61a-3ed520e2f0ce",
   "metadata": {},
   "source": [
    "Pro zadaný objekt je potřeba umět specifikovat, která data reprezentují jakou **jednotku času**:"
   ]
  },
  {
   "cell_type": "code",
   "execution_count": null,
   "id": "34e04cd2-ca8c-4d96-968f-70bab72bdf4e",
   "metadata": {},
   "outputs": [],
   "source": [
    "date.month"
   ]
  },
  {
   "cell_type": "code",
   "execution_count": null,
   "id": "ebfc18a3-86b4-4db8-8cc5-4304f01d5ac8",
   "metadata": {},
   "outputs": [],
   "source": [
    "date.year"
   ]
  },
  {
   "cell_type": "markdown",
   "id": "aef44081-2140-4b06-a660-8727f9d9b781",
   "metadata": {},
   "source": [
    "<br>\n",
    "\n",
    "#### Timedelta\n",
    "\n",
    "---\n",
    "\n",
    "Představuje rozdíl mezi dvěma časovými body (rozdíl mezi datumy nebo časy).\n",
    "\n",
    "Analogicky pracuje ve standardní knihovně `datetime.timedelta`:"
   ]
  },
  {
   "cell_type": "code",
   "execution_count": null,
   "id": "2e968ff5-c38b-49dc-9bbd-d7e3142c036e",
   "metadata": {
    "tags": []
   },
   "outputs": [],
   "source": [
    "datum_1 = Timestamp(year=2024, month=5, day=14, hour=10, minute=00)\n",
    "datum_2 = Timestamp(year=2024, month=5, day=15, hour=9, minute=00)"
   ]
  },
  {
   "cell_type": "code",
   "execution_count": null,
   "id": "09b2bbbb-767b-4952-b4a3-46c04e5d8a91",
   "metadata": {
    "tags": []
   },
   "outputs": [],
   "source": [
    "datum_2 - datum_1"
   ]
  },
  {
   "cell_type": "code",
   "execution_count": null,
   "id": "d91843ed-d8cc-4c9b-a5d8-2a6f8823baad",
   "metadata": {
    "tags": []
   },
   "outputs": [],
   "source": [
    "type(datum_2 - datum_1)"
   ]
  },
  {
   "cell_type": "code",
   "execution_count": null,
   "id": "0d3590c9-9cfc-4edb-b5ee-506897369cc7",
   "metadata": {
    "tags": []
   },
   "outputs": [],
   "source": [
    "from pandas import Timedelta"
   ]
  },
  {
   "cell_type": "code",
   "execution_count": null,
   "id": "cb4b6446-b7af-427b-9e0d-11f8957982fe",
   "metadata": {},
   "outputs": [],
   "source": [
    "rozdil = Timedelta(days=0, hours=23, minutes=0)"
   ]
  },
  {
   "cell_type": "code",
   "execution_count": null,
   "id": "c90b581d-7569-4ec6-8fcc-dbd803fc3ed3",
   "metadata": {},
   "outputs": [],
   "source": [
    "# Timedelta??"
   ]
  },
  {
   "cell_type": "code",
   "execution_count": null,
   "id": "46625843-c2a4-4726-8c1f-3f352d060329",
   "metadata": {},
   "outputs": [],
   "source": [
    "rozdil"
   ]
  },
  {
   "cell_type": "code",
   "execution_count": null,
   "id": "1a1d3c7c-4a33-4035-93b3-b6555f40ab7c",
   "metadata": {},
   "outputs": [],
   "source": [
    "type(rozdil)"
   ]
  },
  {
   "cell_type": "code",
   "execution_count": null,
   "id": "bbd93938-faa2-4e8e-84f4-677ee5d7e3d8",
   "metadata": {
    "tags": []
   },
   "outputs": [],
   "source": [
    "# Timedelta?"
   ]
  },
  {
   "cell_type": "markdown",
   "id": "f609700c-860e-4d01-9ea0-4fb58026e41f",
   "metadata": {},
   "source": [
    "<br>\n",
    "\n",
    "#### Period\n",
    "\n",
    "---"
   ]
  },
  {
   "cell_type": "markdown",
   "id": "82a61dca-1194-4a27-9c31-3f1eec5e1334",
   "metadata": {},
   "source": [
    "Jde o datový typ, který reprezentuje časové období založené na určitém kalendářním pravidle. \n",
    "\n",
    "Není tedy jako `Timedelta`, který pracuje s počátečním a konečným časem.\n",
    "\n",
    "\n",
    "Nejčasttěji slouží k reprezentaci období jako rok, měsíc, čtvrtletí:"
   ]
  },
  {
   "cell_type": "code",
   "execution_count": null,
   "id": "2928b1da-f034-4b25-8b89-a455a9abc032",
   "metadata": {
    "tags": []
   },
   "outputs": [],
   "source": [
    "from pandas import Period"
   ]
  },
  {
   "cell_type": "markdown",
   "id": "acab80c8-dbed-45b0-a961-e946c45d5f21",
   "metadata": {},
   "source": [
    "Jeho typickým předpisem je **počáteční datum** a *frekvence*:"
   ]
  },
  {
   "cell_type": "code",
   "execution_count": null,
   "id": "c69a3076-1d0b-43ac-a238-eb01d64350ff",
   "metadata": {
    "tags": []
   },
   "outputs": [],
   "source": [
    "Period(\"2023-04\", freq=\"D\")"
   ]
  },
  {
   "cell_type": "code",
   "execution_count": null,
   "id": "713b4a49-4303-4beb-8bea-cc940c51c260",
   "metadata": {},
   "outputs": [],
   "source": [
    "Period('2020-01', freq='M')"
   ]
  },
  {
   "cell_type": "code",
   "execution_count": null,
   "id": "31aa7ede-e23c-4295-ab22-576a0c11a31a",
   "metadata": {
    "tags": []
   },
   "outputs": [],
   "source": [
    "type(Period(\"2023-04\", freq=\"D\"))"
   ]
  },
  {
   "cell_type": "markdown",
   "id": "ca78eea7-5d3a-4fc3-87c9-7eda8c740008",
   "metadata": {},
   "source": [
    "Použití datového typu `Period` dává větší smysl s četností:"
   ]
  },
  {
   "cell_type": "code",
   "execution_count": null,
   "id": "7516f654-9532-4693-9782-c54378be6909",
   "metadata": {},
   "outputs": [],
   "source": [
    "import numpy\n",
    "from pandas import DataFrame, date_range"
   ]
  },
  {
   "cell_type": "code",
   "execution_count": null,
   "id": "410c4976-7d87-446b-bd66-f60ea9c44ba3",
   "metadata": {},
   "outputs": [],
   "source": [
    "tydenni_datumy = {\n",
    "    'Datum': date_range(start='2024-05-14', periods=12, freq='W'),\n",
    "    'Návštěvnost': numpy.random.randint(1, 20, size=12)\n",
    "}"
   ]
  },
  {
   "cell_type": "code",
   "execution_count": null,
   "id": "6ea7af78-aec0-4b5d-822e-f86416c9621d",
   "metadata": {},
   "outputs": [],
   "source": [
    "tydenni_datumy"
   ]
  },
  {
   "cell_type": "code",
   "execution_count": null,
   "id": "017634cf-78f3-48c9-b659-0807610867ff",
   "metadata": {},
   "outputs": [],
   "source": [
    "lekce_df = DataFrame(tydenni_datumy)"
   ]
  },
  {
   "cell_type": "code",
   "execution_count": null,
   "id": "81dead32-af3b-4c49-8fb8-1ed5d069d1da",
   "metadata": {},
   "outputs": [],
   "source": [
    "lekce_df"
   ]
  },
  {
   "cell_type": "code",
   "execution_count": null,
   "id": "c9c4e2d2-94bc-4ad6-8b71-32840fac6939",
   "metadata": {},
   "outputs": [],
   "source": [
    "lekce_df['Návštěvnost'] = lekce_df['Datum'].dt.to_period('M')"
   ]
  },
  {
   "cell_type": "code",
   "execution_count": null,
   "id": "fa509e5e-3452-41c2-bb32-46f9c5a9d668",
   "metadata": {},
   "outputs": [],
   "source": [
    "lekce_df"
   ]
  },
  {
   "cell_type": "code",
   "execution_count": null,
   "id": "9d9810b7-92ca-4965-b1e0-3b7139710532",
   "metadata": {},
   "outputs": [],
   "source": [
    "# Převod datumů na měsíční periodický index\n",
    "lekce_df['Měsíčně'] = lekce_df['Datum'].dt.to_period('M')"
   ]
  },
  {
   "cell_type": "code",
   "execution_count": null,
   "id": "e1284ace-06a7-40d5-8671-61e68729ba00",
   "metadata": {},
   "outputs": [],
   "source": [
    "# Skupinování dat podle 'Period' a výpočet sumy prodejů pro každý měsíc  # ERROR\n",
    "lekce_df['Měsíčně'] = lekce_df.groupby('Návštěvnost').sum()"
   ]
  },
  {
   "cell_type": "code",
   "execution_count": null,
   "id": "4f1ee00b-768e-45c7-acaf-de10e8fea1b3",
   "metadata": {},
   "outputs": [],
   "source": [
    "# Skupinování dat podle 'Period' a výpočet sumy prodejů pro každý měsíc\n",
    "# mesicni_navstevnost = lekce_df.groupby('Měsíčně').sum()"
   ]
  },
  {
   "cell_type": "code",
   "execution_count": null,
   "id": "ff375002-9ca3-4eef-8437-9ef3c96110e5",
   "metadata": {},
   "outputs": [],
   "source": [
    "mesicni_navstevnost"
   ]
  },
  {
   "cell_type": "code",
   "execution_count": null,
   "id": "8bcffffd-e2c9-4415-aab1-94528be837a2",
   "metadata": {},
   "outputs": [],
   "source": [
    "print(mesicni_navstevnost)"
   ]
  },
  {
   "cell_type": "code",
   "execution_count": null,
   "id": "8e3fd8dc-c5ce-4460-9ab9-bc6146b9471a",
   "metadata": {},
   "outputs": [],
   "source": [
    "mesicni_navstevnost.info()"
   ]
  },
  {
   "cell_type": "markdown",
   "id": "787ce163-50ea-4aa5-8414-df09e8fb3a4f",
   "metadata": {},
   "source": [
    "<br>\n",
    "\n",
    "### Indexování s časem\n",
    "\n",
    "---\n",
    "\n",
    "Pomocí objektů času můžeš vytvořit samotné **Indexy**."
   ]
  },
  {
   "cell_type": "code",
   "execution_count": null,
   "id": "13a318d0-b317-4e4e-aae3-e188cbbcd539",
   "metadata": {},
   "outputs": [],
   "source": [
    "from pandas import read_csv"
   ]
  },
  {
   "cell_type": "code",
   "execution_count": null,
   "id": "6d0c8799-4d4e-4ace-a656-6aea0345e9b8",
   "metadata": {},
   "outputs": [],
   "source": [
    "stocks_df = read_csv('../exercises/eth.csv')"
   ]
  },
  {
   "cell_type": "code",
   "execution_count": null,
   "id": "ae6ccad3-400e-4bce-97ea-f6aba2cfa894",
   "metadata": {},
   "outputs": [],
   "source": [
    "stocks_df"
   ]
  },
  {
   "cell_type": "markdown",
   "id": "e49ba927-a70a-4e14-9998-96d2bba8e4a6",
   "metadata": {},
   "source": [
    "V ukázce jsou jednotlivé záznamy opatřené defaultním **indexem**.\n",
    "\n",
    "Takové indexování, ale není úplně praktické, protože vytváří další sloupeček.\n",
    "\n",
    "Pomocí časových objektů knihovny můžeš **indexovat tabulku**:"
   ]
  },
  {
   "cell_type": "code",
   "execution_count": null,
   "id": "b624220b-aac3-43eb-b672-886d1e3ec82b",
   "metadata": {},
   "outputs": [],
   "source": [
    "stocks_df.set_index('Date', inplace=True)"
   ]
  },
  {
   "cell_type": "code",
   "execution_count": null,
   "id": "edfecf44-6580-4c19-934d-39539f9e78c3",
   "metadata": {},
   "outputs": [],
   "source": [
    "stocks_df"
   ]
  },
  {
   "cell_type": "markdown",
   "id": "b24ccd65-9e5f-4c33-a262-99f5925e79f9",
   "metadata": {},
   "source": [
    "Bohužel tento formát času není úplně praktický. Jednotky času `08-PM` a `07-PM` nejsou u nás úplně běžné."
   ]
  },
  {
   "cell_type": "code",
   "execution_count": null,
   "id": "a18cbe76-4f82-41cd-9ed0-5e5f17a8ba33",
   "metadata": {},
   "outputs": [],
   "source": [
    "# stocks_df['Date'] --> KeyError"
   ]
  },
  {
   "cell_type": "code",
   "execution_count": null,
   "id": "6f9476e6-3c8a-4ec4-89ce-90b80a0f0bd5",
   "metadata": {},
   "outputs": [],
   "source": [
    "stocks_df['Date']"
   ]
  },
  {
   "cell_type": "code",
   "execution_count": null,
   "id": "04721782-0d8f-48c8-bb80-e44fad45f38d",
   "metadata": {},
   "outputs": [],
   "source": [
    "stocks_df.reset_index(inplace=True)"
   ]
  },
  {
   "cell_type": "code",
   "execution_count": null,
   "id": "9bcf8ea8-e228-477e-a8b0-fc2c277a258e",
   "metadata": {},
   "outputs": [],
   "source": [
    "stocks_df"
   ]
  },
  {
   "cell_type": "code",
   "execution_count": null,
   "id": "d4541ef3-a328-48da-a02c-76852ff2b185",
   "metadata": {},
   "outputs": [],
   "source": [
    "stocks_df['Date']"
   ]
  },
  {
   "cell_type": "code",
   "execution_count": null,
   "id": "7afa01ed-42a8-4a0b-84e6-7d778a61a68d",
   "metadata": {},
   "outputs": [],
   "source": [
    "from pandas import to_datetime"
   ]
  },
  {
   "cell_type": "code",
   "execution_count": null,
   "id": "e71a00f8-15a7-426c-8f08-75c465dd44be",
   "metadata": {},
   "outputs": [],
   "source": [
    "stocks_df['Date'] = to_datetime(stocks_df['Date'],\n",
    "                                format='%Y-%m-%d %I-%p')"
   ]
  },
  {
   "cell_type": "code",
   "execution_count": null,
   "id": "093e2457-d8e8-4513-b0e4-77850753d702",
   "metadata": {},
   "outputs": [],
   "source": [
    "stocks_df"
   ]
  },
  {
   "cell_type": "code",
   "execution_count": null,
   "id": "97bc439a-836e-4dbf-82f5-226f17d53ff8",
   "metadata": {},
   "outputs": [],
   "source": [
    "today = datetime.now()"
   ]
  },
  {
   "cell_type": "code",
   "execution_count": null,
   "id": "ea97304d-e4ba-4f22-8c4d-aa5b60f3f667",
   "metadata": {},
   "outputs": [],
   "source": [
    "today"
   ]
  },
  {
   "cell_type": "code",
   "execution_count": null,
   "id": "68597992-826e-4ffb-92c2-7499de77190c",
   "metadata": {},
   "outputs": [],
   "source": [
    "string_today = datetime.strftime(today, format=\"%d/%m/%Y\")"
   ]
  },
  {
   "cell_type": "code",
   "execution_count": null,
   "id": "73cc5c45-ca0f-4775-8aa9-a4c74c1ac0e2",
   "metadata": {},
   "outputs": [],
   "source": [
    "string_today"
   ]
  },
  {
   "cell_type": "code",
   "execution_count": null,
   "id": "859d7a98-daea-465c-8de8-ee4be9fbbb61",
   "metadata": {},
   "outputs": [],
   "source": [
    "datetime.strptime(string_today, '%d/%m/%Y')"
   ]
  },
  {
   "cell_type": "code",
   "execution_count": null,
   "id": "58a3566c-ca5a-4f3d-bff1-045b6fa133f3",
   "metadata": {},
   "outputs": [],
   "source": [
    "datetime.strptime?"
   ]
  },
  {
   "cell_type": "code",
   "execution_count": null,
   "id": "bdffd0cc-aab0-43cb-95ed-83f284be6a1f",
   "metadata": {},
   "outputs": [],
   "source": [
    "stocks_df.set_index('Date', inplace=True)"
   ]
  },
  {
   "cell_type": "code",
   "execution_count": null,
   "id": "b23a5854-a306-4582-900d-6430872d926c",
   "metadata": {},
   "outputs": [],
   "source": [
    "stocks_df"
   ]
  },
  {
   "cell_type": "markdown",
   "id": "975cb563-8da5-4ee3-ad6d-677c3dd61c68",
   "metadata": {},
   "source": [
    "Případně je možné, nahrávat soubory přímo s převedeným časovým typem:"
   ]
  },
  {
   "cell_type": "code",
   "execution_count": null,
   "id": "c8bee389-f561-4f75-832a-0b34a9b2109a",
   "metadata": {},
   "outputs": [],
   "source": [
    "# read_csv?"
   ]
  },
  {
   "cell_type": "code",
   "execution_count": null,
   "id": "6bda9c06-788b-4472-a032-b29f4ea7d682",
   "metadata": {},
   "outputs": [],
   "source": [
    "second_stock_df = read_csv('../exercises/eth.csv',\n",
    "                           parse_dates=['Date'],\n",
    "                           date_format='%Y-%m-%d %I-%p')"
   ]
  },
  {
   "cell_type": "code",
   "execution_count": null,
   "id": "ce4dfc1c-2113-4440-9e14-e50ffa23557c",
   "metadata": {},
   "outputs": [],
   "source": [
    "import pandas"
   ]
  },
  {
   "cell_type": "code",
   "execution_count": null,
   "id": "a7517ad2-ee0c-44c6-91b2-62ed101c355a",
   "metadata": {},
   "outputs": [],
   "source": [
    "pandas.__version__"
   ]
  },
  {
   "cell_type": "code",
   "execution_count": null,
   "id": "e08aa39d-03a2-4b63-ad8a-ca6b6d098cfb",
   "metadata": {},
   "outputs": [],
   "source": [
    "second_stock_df"
   ]
  },
  {
   "cell_type": "markdown",
   "id": "fc855af8-2a32-412c-bfe0-58e018debfb8",
   "metadata": {},
   "source": [
    "`DatetimeIndex` obsahuje časové značky (*timestamp*), které jsou uloženy ve formátu `datetime64`.\n",
    "\n",
    "Tento objekt umožňuje potom umožňuje nastavit hodnoty času explicitně:"
   ]
  },
  {
   "cell_type": "code",
   "execution_count": null,
   "id": "60eeeebc-9171-4e69-813b-22f660d41767",
   "metadata": {
    "tags": []
   },
   "outputs": [],
   "source": [
    "from pandas import DatetimeIndex, Series"
   ]
  },
  {
   "cell_type": "markdown",
   "id": "5ea4989d-1a1d-4efc-938d-66d78d2d65fc",
   "metadata": {},
   "source": [
    "<br>\n",
    "\n",
    "Pomocný objekt typu `tuple`:"
   ]
  },
  {
   "cell_type": "code",
   "execution_count": null,
   "id": "99a7e6c3-7d28-4902-83d6-bab5c54c0ccc",
   "metadata": {
    "tags": []
   },
   "outputs": [],
   "source": [
    "datumy = (\"2023-04-05\", \"2022-04-05\", \"2021-04-05\", \"2020-04-05\")"
   ]
  },
  {
   "cell_type": "code",
   "execution_count": null,
   "id": "1de25773-7754-4c66-8f32-df03bc6b0521",
   "metadata": {
    "tags": []
   },
   "outputs": [],
   "source": [
    "indexy = DatetimeIndex(datumy)"
   ]
  },
  {
   "cell_type": "code",
   "execution_count": null,
   "id": "6b74026d-7b31-4efd-ad82-7aeb32228d61",
   "metadata": {},
   "outputs": [],
   "source": [
    "indexy"
   ]
  },
  {
   "cell_type": "code",
   "execution_count": null,
   "id": "fc33f18f-2044-4779-b19d-3d2d4f20def1",
   "metadata": {
    "tags": []
   },
   "outputs": [],
   "source": [
    "type(indexy[0])"
   ]
  },
  {
   "cell_type": "code",
   "execution_count": null,
   "id": "f4215e08-b7af-4ec2-9c3a-1bb2705fdf78",
   "metadata": {
    "tags": []
   },
   "outputs": [],
   "source": [
    "jmena_dnu = [to_datetime(den).strftime(\"%A\") for den in datumy]"
   ]
  },
  {
   "cell_type": "code",
   "execution_count": null,
   "id": "0277f805-888d-4bb1-91e5-b0c7d43133eb",
   "metadata": {},
   "outputs": [],
   "source": [
    "days = list()\n",
    "\n",
    "for day in (\"2023-04-05\", \"2022-04-05\", \"2021-04-05\", \"2020-04-05\"):\n",
    "    days.append(to_datetime(day).strftime('%A'))"
   ]
  },
  {
   "cell_type": "code",
   "execution_count": null,
   "id": "db977207-215c-4ece-ac29-32585fb85c44",
   "metadata": {
    "tags": []
   },
   "outputs": [],
   "source": [
    "days"
   ]
  },
  {
   "cell_type": "code",
   "execution_count": null,
   "id": "72394204-a475-409a-b17c-67270a5ec130",
   "metadata": {},
   "outputs": [],
   "source": [
    "jme"
   ]
  },
  {
   "cell_type": "code",
   "execution_count": null,
   "id": "22cc433c-dad1-4cff-a19d-04b1cbf65de0",
   "metadata": {
    "tags": []
   },
   "outputs": [],
   "source": [
    "hodnoty_sl = Series(jmena_dnu, index=indexy)"
   ]
  },
  {
   "cell_type": "code",
   "execution_count": null,
   "id": "624a6fd9-07f1-4bac-8a28-25a369ef2119",
   "metadata": {
    "tags": []
   },
   "outputs": [],
   "source": [
    "hodnoty_sl"
   ]
  },
  {
   "cell_type": "code",
   "execution_count": null,
   "id": "dd74238c-a8c3-447e-931b-f09209616b80",
   "metadata": {
    "tags": []
   },
   "outputs": [],
   "source": [
    "type(hodnoty_sl)"
   ]
  },
  {
   "cell_type": "code",
   "execution_count": null,
   "id": "8b7364a9-02ae-4f73-a70e-2a5500b32729",
   "metadata": {
    "tags": []
   },
   "outputs": [],
   "source": [
    "type(indexy)"
   ]
  },
  {
   "cell_type": "code",
   "execution_count": null,
   "id": "a70446ce-26e6-4515-8bae-a230a0c0cefe",
   "metadata": {
    "tags": []
   },
   "outputs": [],
   "source": [
    "# hodnoty_sl[\"2020\": \"2022\"]"
   ]
  },
  {
   "cell_type": "code",
   "execution_count": null,
   "id": "498903a6-6fde-46aa-8feb-3cb049d699a7",
   "metadata": {
    "tags": []
   },
   "outputs": [],
   "source": [
    "hodnoty_sl[\"2020-04-05\": \"2025-04-05\"]"
   ]
  },
  {
   "cell_type": "markdown",
   "id": "7e9a2d73-3e38-4328-b69e-7225888f450c",
   "metadata": {},
   "source": [
    "<br>\n",
    "\n",
    "### Funkce TO_DATETIME\n",
    "\n",
    "---\n",
    "\n",
    "Nejčastější datové typy, které lze zapsat přímo, ovšem běžnější je pracovat s funkcí `to_datetime`.\n",
    "\n",
    "Funkce `to_datetime` umí parsovat různé stringové formáty."
   ]
  },
  {
   "cell_type": "code",
   "execution_count": null,
   "id": "ee2ad2ac-d514-42da-abb5-2c1721e2a0c9",
   "metadata": {
    "tags": []
   },
   "outputs": [],
   "source": [
    "from pandas import to_datetime"
   ]
  },
  {
   "cell_type": "markdown",
   "id": "55ebec29-e72d-4b18-a3c4-c371d7fd5c2c",
   "metadata": {},
   "source": [
    "<br>\n",
    "\n",
    "#### Práce s jedním datumem\n",
    "\n",
    "---"
   ]
  },
  {
   "cell_type": "code",
   "execution_count": null,
   "id": "c7350be5-9598-48b0-971e-d0ee99898489",
   "metadata": {
    "tags": []
   },
   "outputs": [],
   "source": [
    "datum = to_datetime(\"05/04/2023\", format='%d/%m/%Y')  # str, tuple, datetime.datetime"
   ]
  },
  {
   "cell_type": "code",
   "execution_count": null,
   "id": "c3108a30-8afc-4692-a1b4-24f5667db4b1",
   "metadata": {},
   "outputs": [],
   "source": [
    "# to_datetime?"
   ]
  },
  {
   "cell_type": "code",
   "execution_count": null,
   "id": "96fa6e2f-8ae3-47ae-b934-c6f80959bc30",
   "metadata": {
    "tags": []
   },
   "outputs": [],
   "source": [
    "datum.month"
   ]
  },
  {
   "cell_type": "code",
   "execution_count": null,
   "id": "e1db06be-8da1-4af6-a0d8-1a9a3dddd0e9",
   "metadata": {
    "tags": []
   },
   "outputs": [],
   "source": [
    "type(datum)"
   ]
  },
  {
   "cell_type": "markdown",
   "id": "fd88c05d-8135-4c04-847f-f83f2a9c96d9",
   "metadata": {},
   "source": [
    "Pokud do funkce `to_datetime` vložíš jedinou hodnotu, vrací objekty typu `Timestamp`."
   ]
  },
  {
   "cell_type": "markdown",
   "id": "baf7856d-6037-4039-bf80-b007c15260b9",
   "metadata": {},
   "source": [
    "<br>\n",
    "\n",
    "#### Specifický formát\n",
    "\n",
    "---"
   ]
  },
  {
   "cell_type": "markdown",
   "id": "385b6308-3b5a-405d-af63-3f74bb2f5b64",
   "metadata": {},
   "source": [
    "Pokud se parser ve funkci `to_datetime` ztratí nebo tvoje zadání neodpovídá jeho vyhotovení, můžeš zadat formát explicitně:"
   ]
  },
  {
   "cell_type": "code",
   "execution_count": null,
   "id": "91335462-a2bb-423e-8da7-5482f5bc6b15",
   "metadata": {
    "tags": []
   },
   "outputs": [],
   "source": [
    "vystup = to_datetime(\"12-11-2010 01:05\")"
   ]
  },
  {
   "cell_type": "code",
   "execution_count": null,
   "id": "5ae65bef-d1d2-4bfb-8141-5f346b80b466",
   "metadata": {
    "tags": []
   },
   "outputs": [],
   "source": [
    "vystup.day"
   ]
  },
  {
   "cell_type": "markdown",
   "id": "93828040-6f3b-471a-b7b4-0b1a8f348044",
   "metadata": {},
   "source": [
    "<br>\n",
    "\n",
    "V ukázce výš ale hodnota `11` představuje měsíc, nikoliv den."
   ]
  },
  {
   "cell_type": "code",
   "execution_count": null,
   "id": "113281fd-e1e6-465f-9003-f838f345a3b1",
   "metadata": {
    "tags": []
   },
   "outputs": [],
   "source": [
    "vystup = to_datetime(\"12-11-2010 01:05\", format=\"%d-%m-%Y %H:%M\")"
   ]
  },
  {
   "cell_type": "code",
   "execution_count": null,
   "id": "a677b276-ddd5-4ee0-b43f-9793557f9a25",
   "metadata": {
    "tags": []
   },
   "outputs": [],
   "source": [
    "vystup.day"
   ]
  },
  {
   "cell_type": "code",
   "execution_count": null,
   "id": "ff4b269b-25eb-4b12-8c57-fdfb4460c4e3",
   "metadata": {
    "tags": []
   },
   "outputs": [],
   "source": [
    "vystup.month"
   ]
  },
  {
   "cell_type": "code",
   "execution_count": null,
   "id": "eaf76eec-8fed-4f6b-8a48-02291f54f493",
   "metadata": {
    "tags": []
   },
   "outputs": [],
   "source": [
    "vystup.year"
   ]
  },
  {
   "cell_type": "code",
   "execution_count": null,
   "id": "32c80ae9-240a-45d5-9c8c-ea68eb91b1f1",
   "metadata": {
    "tags": []
   },
   "outputs": [],
   "source": [
    "vystup.hour"
   ]
  },
  {
   "cell_type": "markdown",
   "id": "d0c6d0c5-b46f-4c4d-a457-6f54facf5a04",
   "metadata": {
    "tags": []
   },
   "source": [
    "<br>\n",
    "\n",
    "#### Časové zóny\n",
    "\n",
    "---\n",
    "\n",
    "Objekt `Timestamp` umožňuje hodnoty časových zón zadávat pomocí metody `tz_localize`:"
   ]
  },
  {
   "cell_type": "code",
   "execution_count": null,
   "id": "3fc897cd-ba55-4db6-9152-5ce94d4a8247",
   "metadata": {
    "tags": []
   },
   "outputs": [],
   "source": [
    "datum"
   ]
  },
  {
   "cell_type": "code",
   "execution_count": null,
   "id": "b08b05bd-b96d-4976-9cc5-684ded92e2ad",
   "metadata": {
    "tags": []
   },
   "outputs": [],
   "source": [
    "datum.tz"
   ]
  },
  {
   "cell_type": "code",
   "execution_count": null,
   "id": "d99732c4-c37b-40a9-abdd-68280abc3955",
   "metadata": {},
   "outputs": [],
   "source": [
    "datum.tz?"
   ]
  },
  {
   "cell_type": "code",
   "execution_count": null,
   "id": "b2367317-64f1-45f7-a05e-d0af8e5ad58c",
   "metadata": {
    "tags": []
   },
   "outputs": [],
   "source": [
    "tz_datum = datum.tz_localize(\"Europe/Prague\")"
   ]
  },
  {
   "cell_type": "code",
   "execution_count": null,
   "id": "2bd2e79c-e3a5-43c2-a196-df9a15033809",
   "metadata": {
    "tags": []
   },
   "outputs": [],
   "source": [
    "tz_datum.tz"
   ]
  },
  {
   "cell_type": "code",
   "execution_count": null,
   "id": "989e4334-4878-4666-9c4c-59b9724fe547",
   "metadata": {
    "tags": []
   },
   "outputs": [],
   "source": [
    "nove_tz_datum = tz_datum.tz_convert(\"US/Pacific\")"
   ]
  },
  {
   "cell_type": "code",
   "execution_count": null,
   "id": "8e9cd41a-a318-4960-887b-1a621b3feaf1",
   "metadata": {
    "tags": []
   },
   "outputs": [],
   "source": [
    "nove_tz_datum = tz_datum.tz_convert(\"Europe/London\")"
   ]
  },
  {
   "cell_type": "code",
   "execution_count": null,
   "id": "d4b5a8a0-c450-41d9-9e74-e1fab6ffc6c4",
   "metadata": {
    "tags": []
   },
   "outputs": [],
   "source": [
    "nove_tz_datum"
   ]
  },
  {
   "cell_type": "markdown",
   "id": "cf597b53-f11d-4bfd-ad50-6ec8aabcf4cd",
   "metadata": {},
   "source": [
    "<br>\n",
    "\n",
    "#### Práce s několika datumy\n",
    "\n",
    "---"
   ]
  },
  {
   "cell_type": "markdown",
   "id": "cbe1d862-77c1-4a27-b835-ee39fb7deb67",
   "metadata": {},
   "source": [
    "Stejně jak umí funkce *parsovat* jednu hodnotu, umí zpracovat pole časových stringů:"
   ]
  },
  {
   "cell_type": "code",
   "execution_count": null,
   "id": "1a93d7dc-fc9b-4bf0-ae65-a1456dbd216b",
   "metadata": {
    "tags": []
   },
   "outputs": [],
   "source": [
    "datumy = to_datetime(\n",
    "    [datetime(2023, 4, 5), \"5th of April 2023\", \"2023-Apr-5\", \"04-05-2023\", \"20230405\"]\n",
    ")"
   ]
  },
  {
   "cell_type": "code",
   "execution_count": null,
   "id": "b49b7c38-8f3f-47db-9075-c4130fb6c4fb",
   "metadata": {},
   "outputs": [],
   "source": [
    "# to_datetime?"
   ]
  },
  {
   "cell_type": "code",
   "execution_count": null,
   "id": "4eff58f5-fdbb-4935-8d1a-a63d608f7e9b",
   "metadata": {
    "tags": []
   },
   "outputs": [],
   "source": [
    "datumy"
   ]
  },
  {
   "cell_type": "code",
   "execution_count": null,
   "id": "f592e031-0ff5-4685-8c25-f9dc85962a9d",
   "metadata": {
    "tags": []
   },
   "outputs": [],
   "source": [
    "type(datumy)"
   ]
  },
  {
   "cell_type": "markdown",
   "id": "9f664e25-8905-41f1-81ee-60bea191ea38",
   "metadata": {},
   "source": [
    "Zatímco pole hodnot s datumy, které funkce `to_datetime` zpracuje, vrací objekt typu `DatetimeIndex`."
   ]
  },
  {
   "cell_type": "markdown",
   "id": "e41bb3bb-c963-43ea-8209-ae9e976477b8",
   "metadata": {},
   "source": [
    "<br>\n",
    "\n",
    "Objekt `DatetimeIndex` potom můžeš konvertovat na `PeriodIndex` pomocí *metody* `to_period`:"
   ]
  },
  {
   "cell_type": "code",
   "execution_count": null,
   "id": "5c3a4919-a5a7-4d70-9e94-a300009c34e1",
   "metadata": {
    "tags": []
   },
   "outputs": [],
   "source": [
    "datumy.to_period?"
   ]
  },
  {
   "cell_type": "markdown",
   "id": "199078f6-9347-41af-a794-bf3b7c2c7df0",
   "metadata": {},
   "source": [
    "<br>\n",
    "\n",
    "Tato metoda je užitečná, pokud chcete převést časové řady **na určité časové období**.\n",
    "\n",
    "Když budeš třeba potřebovat převést hodnoty **z denních dat na měsíční data**."
   ]
  },
  {
   "cell_type": "markdown",
   "id": "bb84957a-52d7-4639-a0b9-0f71b35922cb",
   "metadata": {},
   "source": [
    "#### Denní data"
   ]
  },
  {
   "cell_type": "code",
   "execution_count": null,
   "id": "7e14d273-dd2d-40d6-98cc-ac7bedf22a73",
   "metadata": {
    "tags": []
   },
   "outputs": [],
   "source": [
    "datumy.to_period(\"D\")"
   ]
  },
  {
   "cell_type": "markdown",
   "id": "7571469f-6dcb-464e-b86f-931297a1f4e1",
   "metadata": {},
   "source": [
    "#### Měsíční data"
   ]
  },
  {
   "cell_type": "code",
   "execution_count": null,
   "id": "f99dee5d-b1e4-433e-b9a1-a84ae115b0b5",
   "metadata": {
    "tags": []
   },
   "outputs": [],
   "source": [
    "datumy.to_period(\"M\")"
   ]
  },
  {
   "cell_type": "markdown",
   "id": "3d8d0473-c712-4cc1-a17a-2fb7633967cc",
   "metadata": {},
   "source": [
    "<br>\n",
    "\n",
    "#### **🧠 OPAKOVÁNÍ 🧠, vyzkoušej si úkol**\n",
    "\n",
    "*Practice the following steps*"
   ]
  },
  {
   "cell_type": "markdown",
   "id": "dd4cfb86-f7e1-4ce2-b7e6-bbebeba7bd8e",
   "metadata": {},
   "source": [
    "Task Requirements:\n",
    "\n",
    "1. Create the DataFrame object `timedeltas_df`, with `Start` and `End` columns,\n",
    "2. Write a *user-defined* function `calculate_duration` that calculates the duration in hours between two datetime values (parameters `start` and `end`,\n",
    "3. Write a *user-defined* function `create_timedelta_column` that needs parameters `df` and `func_calc` that creates a new column `'Timedelta-hours'` in the given DataFrame object,\n",
    "5. Apply `create_timedelta_column` function to the DataFrame `timedeltas_df`,\n",
    "6. Try to add another column `Timedelta-days` to the `timedeltas_df`."
   ]
  },
  {
   "cell_type": "code",
   "execution_count": null,
   "id": "c008576c-f07d-4959-a475-390016fb258d",
   "metadata": {},
   "outputs": [],
   "source": [
    "starts = ('2024-01-01 08:11', '2024-04-02 07:15', '2023-11-09 16:50') \n",
    "ends = ('2024-01-01 15:33', '2024-04-04 15:45', '2024-05-14 12:00')"
   ]
  },
  {
   "cell_type": "code",
   "execution_count": null,
   "id": "e02cbabd-c8c7-4b8c-82ff-ed9b2da3fefb",
   "metadata": {},
   "outputs": [],
   "source": [
    "from pandas import DataFrame, to_datetime\n",
    "\n",
    "timedeltas_df =  DataFrame({'Start': starts, 'End': ends})"
   ]
  },
  {
   "cell_type": "code",
   "execution_count": null,
   "id": "721f4e84-8b65-4535-a002-6e53ed38ab20",
   "metadata": {},
   "outputs": [],
   "source": [
    "timedeltas_df"
   ]
  },
  {
   "cell_type": "code",
   "execution_count": null,
   "id": "9d9bbd9e-b6f8-4a8c-938b-b5f3a2ae78dd",
   "metadata": {},
   "outputs": [],
   "source": [
    "result = to_datetime('2024-05-14 12:00') - to_datetime('2023-11-09 16:50')"
   ]
  },
  {
   "cell_type": "code",
   "execution_count": null,
   "id": "641706fb-c80f-48f7-a9da-f178d11b6e34",
   "metadata": {},
   "outputs": [],
   "source": [
    "result.total_seconds()  # Seconds"
   ]
  },
  {
   "cell_type": "code",
   "execution_count": null,
   "id": "9766f145-23d0-4767-92e8-b40c00975d28",
   "metadata": {},
   "outputs": [],
   "source": [
    "hours = result.total_seconds() / 3600"
   ]
  },
  {
   "cell_type": "code",
   "execution_count": null,
   "id": "cdbe3a93-a0fd-4629-bcc3-24d6eda39c8a",
   "metadata": {},
   "outputs": [],
   "source": [
    "hours"
   ]
  },
  {
   "cell_type": "code",
   "execution_count": null,
   "id": "e1a7ede3-dabc-4b5a-abc0-b98a97539db6",
   "metadata": {},
   "outputs": [],
   "source": [
    "def calculate_duration_in_hours(start: str, end: str, divisor: int = 3600):\n",
    "    return (to_datetime(end) - to_datetime(start)).total_seconds() / divisor"
   ]
  },
  {
   "cell_type": "code",
   "execution_count": null,
   "id": "c5f0d8b5-c9ec-4dd7-9a35-e6c34212bbbe",
   "metadata": {},
   "outputs": [],
   "source": [
    "def calculate_duration_in_days(series, divisor: int = 3600*24):\n",
    "    return (to_datetime(series.End) - to_datetime(series.Start)).total_seconds() / divisor"
   ]
  },
  {
   "cell_type": "code",
   "execution_count": null,
   "id": "3eb0deee-ae41-4b37-84c6-9c766983c781",
   "metadata": {},
   "outputs": [],
   "source": [
    "timedeltas_df['Timedelta-hours'] = [\n",
    "    calculate_duration(start, end)\n",
    "    for start, end in zip(\n",
    "        timedeltas_df['Start'],\n",
    "        timedeltas_df['End']\n",
    "    )]  # apply(calculate_duration)"
   ]
  },
  {
   "cell_type": "code",
   "execution_count": null,
   "id": "ee3b80eb-47f9-4650-a144-ae04ad71c62e",
   "metadata": {},
   "outputs": [],
   "source": [
    "timedeltas_df"
   ]
  },
  {
   "cell_type": "code",
   "execution_count": null,
   "id": "d425327b-70c4-4b30-b843-fcf4da99648f",
   "metadata": {},
   "outputs": [],
   "source": [
    "timedeltas_df['Timedelta-days'] = timedeltas_df.apply(calculate_duration_in_days, axis=1)"
   ]
  },
  {
   "cell_type": "code",
   "execution_count": null,
   "id": "e3f16c80-52db-44cb-85aa-937e683e75dd",
   "metadata": {},
   "outputs": [],
   "source": [
    "timedeltas_df['Timedelta-double'] = timedeltas_df['Timedelta-hours'] / 24"
   ]
  },
  {
   "cell_type": "code",
   "execution_count": null,
   "id": "9047de5b-2034-4b31-9671-91a6c85008fd",
   "metadata": {},
   "outputs": [],
   "source": [
    "timedeltas_df"
   ]
  },
  {
   "cell_type": "markdown",
   "id": "ecdfc98a-8001-44f9-930b-df10c2b11b2b",
   "metadata": {},
   "source": [
    "<details>\n",
    "    <summary>▶️ Řešení</summary>\n",
    "    \n",
    "```python\n",
    "from pandas import DataFrame\n",
    "\n",
    "starts = ('2024-01-01 08:11', '2024-04-02 07:15', '2023-11-09 16:50') \n",
    "ends = ('2024-01-01 15:33', '2024-04-04 15:45', '2024-05-14 12:00')\n",
    "\n",
    "timedeltas_df = DataFrame({'Start': starts,\n",
    "                           'End': ends})\n",
    "\n",
    "\n",
    "def create_timedelta_column(df: DataFrame, func_calc: callable):\n",
    "    df['Timedelta'] = [func_calc(start, end) for start, end in zip(df['Start'], df['End'])]\n",
    "    return df\n",
    "\n",
    "    \n",
    "def calculate_duration(start, end):\n",
    "    \"\"\"Calculate the duration in minutes between two datetime objects.\"\"\"\n",
    "    start = pd.to_datetime(start)\n",
    "    end = pd.to_datetime(end)\n",
    "    return (end - start).total_seconds() / 3600\n",
    "```\n",
    "\n",
    "</details>"
   ]
  },
  {
   "cell_type": "markdown",
   "id": "5991b55e-4bc4-4429-aa16-e786a0f521bd",
   "metadata": {},
   "source": [
    "<br>\n",
    "\n",
    "#### TimedeltaIndex\n",
    "\n",
    "---\n",
    "\n",
    "Jde o rozdíl v jednotkách času.\n",
    "\n",
    "Nejčastěji se s tímto objektem setkáš, pokud potřebuješ získat **rozdíl mezi dvěma datumy**."
   ]
  },
  {
   "cell_type": "code",
   "execution_count": null,
   "id": "db73602e-4814-4adf-a0f6-895652ca808c",
   "metadata": {
    "tags": []
   },
   "outputs": [],
   "source": [
    "datumy"
   ]
  },
  {
   "cell_type": "code",
   "execution_count": null,
   "id": "b35746c2-4ce9-49ba-b4e6-83473e8d7c98",
   "metadata": {
    "tags": []
   },
   "outputs": [],
   "source": [
    "datumy_ = to_datetime(datumy)"
   ]
  },
  {
   "cell_type": "code",
   "execution_count": null,
   "id": "ff0fcbd0-eaf2-4133-98a9-a93a213431f4",
   "metadata": {
    "tags": []
   },
   "outputs": [],
   "source": [
    "datumy_"
   ]
  },
  {
   "cell_type": "code",
   "execution_count": null,
   "id": "5b1fbc8d-03eb-4fcd-bd6d-ebc260757c34",
   "metadata": {
    "tags": []
   },
   "outputs": [],
   "source": [
    "specialni_datumy = to_datetime([\n",
    "    datetime(2022, 4, 5), \"5th of April 2021\", \"2020-Apr-5\", \"05-04-2019\"]\n",
    ")"
   ]
  },
  {
   "cell_type": "code",
   "execution_count": null,
   "id": "74c7e266-a391-4a0d-935f-f16ed1fdfc78",
   "metadata": {
    "tags": []
   },
   "outputs": [],
   "source": [
    "datumy_ - specialni_datumy"
   ]
  },
  {
   "cell_type": "markdown",
   "id": "81fcc3eb-80d2-49cc-b78f-583ecfaec434",
   "metadata": {},
   "source": [
    "<br>\n",
    "\n",
    "### Funkce `date_range`\n",
    "\n",
    "---"
   ]
  },
  {
   "cell_type": "markdown",
   "id": "fc0ffeb6-d9b5-42fc-b8ac-8c3e465089d8",
   "metadata": {},
   "source": [
    "Funkce umožní vytvořit nový interval **datumů** a **časů**:"
   ]
  },
  {
   "cell_type": "code",
   "execution_count": null,
   "id": "925f3b81-893a-47bd-bf1d-eedcd9da56e1",
   "metadata": {
    "tags": []
   },
   "outputs": [],
   "source": [
    "from pandas import date_range, DataFrame"
   ]
  },
  {
   "cell_type": "markdown",
   "id": "61bb96cc-71ce-4ebc-a8c8-38dc77716868",
   "metadata": {},
   "source": [
    "<br>\n",
    "\n",
    "Pomocí **počáteční hodnoty**, **periodicky** a **frekvence** získáš nový interval:"
   ]
  },
  {
   "cell_type": "code",
   "execution_count": null,
   "id": "24c0df4b-1ce3-4a36-8f4f-6182d78f2042",
   "metadata": {
    "tags": []
   },
   "outputs": [],
   "source": [
    "date_range(start='2023-01-01', periods=10, freq='D')"
   ]
  },
  {
   "cell_type": "code",
   "execution_count": null,
   "id": "309cbc5c-aa51-44de-b3f0-5822f534725d",
   "metadata": {
    "tags": []
   },
   "outputs": [],
   "source": [
    "date_range(start='2023-01-01', periods=10, freq='M')"
   ]
  },
  {
   "cell_type": "code",
   "execution_count": null,
   "id": "30185bce-790c-4e54-a875-60ff0235d47f",
   "metadata": {
    "tags": []
   },
   "outputs": [],
   "source": [
    "data = {\n",
    "    'date': date_range(start='2022-01-01', periods=10, freq='D'),\n",
    "    'sales': [100, 102, 105, 107, 110, 112, 115, 117, 120, 122]\n",
    "}"
   ]
  },
  {
   "cell_type": "code",
   "execution_count": null,
   "id": "c442d927-aa44-4a0a-b9de-8b5d389d2408",
   "metadata": {
    "tags": []
   },
   "outputs": [],
   "source": [
    "data"
   ]
  },
  {
   "cell_type": "code",
   "execution_count": null,
   "id": "6ca14750-9cb0-4ec3-a907-8f6f96aa3d1f",
   "metadata": {
    "tags": []
   },
   "outputs": [],
   "source": [
    "df_data = DataFrame(data)"
   ]
  },
  {
   "cell_type": "code",
   "execution_count": null,
   "id": "2cb2f58e-8bde-4a77-9d85-d5eaee6e9669",
   "metadata": {
    "tags": []
   },
   "outputs": [],
   "source": [
    "df_data.head(3)"
   ]
  },
  {
   "cell_type": "code",
   "execution_count": null,
   "id": "02ad7d9b-fb68-4450-b1db-52dbf02b70ec",
   "metadata": {
    "tags": []
   },
   "outputs": [],
   "source": [
    "df_data.set_index('date', inplace=True)"
   ]
  },
  {
   "cell_type": "code",
   "execution_count": null,
   "id": "1858addf-020f-4294-beb6-dd3485adbf17",
   "metadata": {
    "tags": []
   },
   "outputs": [],
   "source": [
    "df_data.head(3)"
   ]
  },
  {
   "cell_type": "code",
   "execution_count": null,
   "id": "6f08f86d-35db-4cc1-901a-a58090cef872",
   "metadata": {
    "tags": []
   },
   "outputs": [],
   "source": [
    "df_period_y = df_data.to_period(freq='M')"
   ]
  },
  {
   "cell_type": "code",
   "execution_count": null,
   "id": "07c044ce-20c8-4fda-ad9d-75a7abed07a9",
   "metadata": {
    "tags": []
   },
   "outputs": [],
   "source": [
    "df_period_y"
   ]
  },
  {
   "cell_type": "markdown",
   "id": "660a2db5-b2e7-4a86-862c-8a7df9601da4",
   "metadata": {
    "tags": []
   },
   "source": [
    "<br>\n",
    "\n",
    "#### Počet period\n",
    "\n",
    "---\n",
    "\n",
    "Nachystá objekt, který vypracuje tolik period, které definuješ pomocí parametru `periods`:"
   ]
  },
  {
   "cell_type": "code",
   "execution_count": null,
   "id": "9c606963-56de-43ee-8aa0-b0d701fc0a73",
   "metadata": {
    "tags": []
   },
   "outputs": [],
   "source": [
    "date_range(start='2000-01-01', periods=10, freq='Y')"
   ]
  },
  {
   "cell_type": "code",
   "execution_count": null,
   "id": "5f7bc948-6c64-4b46-9c9f-876090d3c673",
   "metadata": {
    "tags": []
   },
   "outputs": [],
   "source": [
    "# date_range?"
   ]
  },
  {
   "cell_type": "code",
   "execution_count": null,
   "id": "ba9c46b2-30e9-4b5d-bc8a-76d5c9265cb4",
   "metadata": {
    "tags": []
   },
   "outputs": [],
   "source": [
    "datumy_ind = date_range(start=\"01-01-1992\", periods=8)  # defaultně denní frekvence"
   ]
  },
  {
   "cell_type": "code",
   "execution_count": null,
   "id": "082c41cf-947e-4b1a-892a-86f9ebeb19db",
   "metadata": {
    "tags": []
   },
   "outputs": [],
   "source": [
    "datumy_ind"
   ]
  },
  {
   "cell_type": "markdown",
   "id": "0be34411-4c4b-45ff-b2cf-175d343b903f",
   "metadata": {},
   "source": [
    "<br>\n",
    "\n",
    "#### Frekvence\n",
    "\n",
    "---"
   ]
  },
  {
   "cell_type": "code",
   "execution_count": null,
   "id": "b67392de-ea40-44d3-83ed-39739ad5a8ec",
   "metadata": {
    "tags": []
   },
   "outputs": [],
   "source": [
    "datumy_mesicne_ind = date_range(\"01-01-1992\", periods=8, freq=\"M\")"
   ]
  },
  {
   "cell_type": "code",
   "execution_count": null,
   "id": "bbf13f30-b13f-46cf-ab94-648f43e978af",
   "metadata": {
    "tags": []
   },
   "outputs": [],
   "source": [
    "datumy_mesicne_ind"
   ]
  },
  {
   "cell_type": "markdown",
   "id": "1f8b2bf6-5315-48c0-8437-18e59eda686d",
   "metadata": {},
   "source": [
    "<br>\n",
    "\n",
    "### Frekvence\n",
    "\n",
    "Časovou paletou frekvencí, kterou framework `pandas` nabízí je tato tabulka:\n",
    "\n",
    "| String | Popisek |\n",
    "| :-: | :- |\n",
    "| `D` | kalendářní den |\n",
    "| `W` | týden |\n",
    "| `M` | konec měsíce |\n",
    "| `Q` | konec čtvrtletí |\n",
    "| `A` | konec roku |\n",
    "| `H` | hodiny |\n",
    "| `T` | minuty |\n",
    "| `S` | vteřiny |\n",
    "| `B` | pracovní den |\n",
    "| `BM` | konec pracovníḧo měsíce |\n",
    "| `BQ` | konec pracovního čtvrtletí |"
   ]
  },
  {
   "cell_type": "markdown",
   "id": "62fbb90d-dc45-4935-ad5e-87beaae4cbb4",
   "metadata": {},
   "source": [
    "<br>\n",
    "\n",
    "#### Hodinové periody\n",
    "\n",
    "---"
   ]
  },
  {
   "cell_type": "code",
   "execution_count": null,
   "id": "e599a9eb-ebff-4b15-81eb-447a56d49f2a",
   "metadata": {
    "tags": []
   },
   "outputs": [],
   "source": [
    "from pandas import timedelta_range"
   ]
  },
  {
   "cell_type": "code",
   "execution_count": null,
   "id": "23e2cdfa-41a7-46f2-860a-76f473801c66",
   "metadata": {
    "tags": []
   },
   "outputs": [],
   "source": [
    "hodinove_ind = timedelta_range(0, periods=12, freq=\"H\")"
   ]
  },
  {
   "cell_type": "code",
   "execution_count": null,
   "id": "8ca56f2c-855a-4ac7-acde-c19a5700b3ba",
   "metadata": {
    "tags": []
   },
   "outputs": [],
   "source": [
    "hodinove_ind"
   ]
  },
  {
   "cell_type": "markdown",
   "id": "db3d9da8-d3f8-4ae6-8d2f-3edb8574b186",
   "metadata": {},
   "source": [
    "#### Netradiční frekvence\n",
    "\n",
    "---"
   ]
  },
  {
   "cell_type": "code",
   "execution_count": null,
   "id": "d018ea20-0961-4ebd-a8dd-1e89caba59af",
   "metadata": {
    "tags": []
   },
   "outputs": [],
   "source": [
    "timedelta_range(0, periods=10, freq=\"1H15T\")"
   ]
  },
  {
   "cell_type": "markdown",
   "id": "0cb1ee2d-8931-4b29-9ad1-75ef1af72239",
   "metadata": {
    "tags": []
   },
   "source": [
    "<br>\n",
    "\n",
    "### Resampling, snížení frekvence\n",
    "\n",
    "---"
   ]
  },
  {
   "cell_type": "markdown",
   "id": "360e9694-210f-4228-956f-bc0d2cb02943",
   "metadata": {
    "tags": []
   },
   "source": [
    "*Resampling* nebo také *převzorkování* je proces, který upravuje frekvenci časové řady.\n",
    "\n",
    "*Resampling* se obvykle používá **pro snížení frekvence** (z hodinových dat na denní data).\n",
    "\n",
    "*Resampling* zahrnuje *agregaci* dat.\n",
    "\n",
    "V `pandas` se k tomu používá metoda `resample`, která má jako parametr novou frekvenci, na kterou chcete data převést:"
   ]
  },
  {
   "cell_type": "code",
   "execution_count": null,
   "id": "d820225c-3231-4453-bf02-99af055b143f",
   "metadata": {},
   "outputs": [],
   "source": [
    "from pandas import date_range"
   ]
  },
  {
   "cell_type": "code",
   "execution_count": null,
   "id": "8dc6f35e-ef80-4694-96ff-916840acab9b",
   "metadata": {
    "tags": []
   },
   "outputs": [],
   "source": [
    "data = {\n",
    "    'date': date_range(start='2022-01-01', periods=60, freq='D'),\n",
    "    'sales': range(60)\n",
    "}"
   ]
  },
  {
   "cell_type": "code",
   "execution_count": null,
   "id": "83ab0e0b-2ecc-4863-89b5-38a2eff1324d",
   "metadata": {
    "tags": []
   },
   "outputs": [],
   "source": [
    "data"
   ]
  },
  {
   "cell_type": "code",
   "execution_count": null,
   "id": "e270307f-2ffc-4319-ad9a-3b4f5ed2525d",
   "metadata": {
    "tags": []
   },
   "outputs": [],
   "source": [
    "df_data = DataFrame(data)"
   ]
  },
  {
   "cell_type": "code",
   "execution_count": null,
   "id": "ddfc2260-ead0-4ade-9c1f-29b684ef09a7",
   "metadata": {},
   "outputs": [],
   "source": [
    "df_data.head()"
   ]
  },
  {
   "cell_type": "code",
   "execution_count": null,
   "id": "a1b2d7f8-1f6d-4b2f-a644-b2eee524c1fb",
   "metadata": {
    "tags": []
   },
   "outputs": [],
   "source": [
    "df_data.set_index('date', inplace=True)"
   ]
  },
  {
   "cell_type": "code",
   "execution_count": null,
   "id": "973b84a5-f468-4ec1-aef3-b64e85c709da",
   "metadata": {
    "tags": []
   },
   "outputs": [],
   "source": [
    "df_data"
   ]
  },
  {
   "cell_type": "code",
   "execution_count": null,
   "id": "d7944f7b-e4e2-4a80-95d0-3e7685181d2d",
   "metadata": {
    "tags": []
   },
   "outputs": [],
   "source": [
    "seskupena_data = df_data.resample('m').sum()"
   ]
  },
  {
   "cell_type": "code",
   "execution_count": null,
   "id": "6f1cbd90-9075-42c4-8383-5b5cb62043e1",
   "metadata": {
    "tags": []
   },
   "outputs": [],
   "source": [
    "seskupena_data"
   ]
  },
  {
   "cell_type": "markdown",
   "id": "2409459c-abcc-4c21-a35f-a12b4f849f95",
   "metadata": {},
   "source": [
    "<br>\n",
    "\n",
    "### Zpřesňování řady\n",
    "\n",
    "---\n",
    "\n",
    "Zahrnuje **zvýšení frekvence časových řad**.\n",
    "\n",
    "Přičemž se nově vytvořené hodnoty obvykle interpolují nebo doplňují nějakou konstantou.\n",
    "\n",
    "V pandas se k zpřesňování používá metoda `asfreq`, která má jako parametr novou frekvenci, na kterou chcete data převést."
   ]
  },
  {
   "cell_type": "code",
   "execution_count": null,
   "id": "4cf9ca9b-8abe-400f-b5f9-41b9e4e5a011",
   "metadata": {
    "tags": []
   },
   "outputs": [],
   "source": [
    "data = {\n",
    "    'date': date_range(start='2022-01-01', end='2022-03-01', freq='MS'),  # M - konec měsíce\n",
    "    'sales': [100, 120, 150]\n",
    "}"
   ]
  },
  {
   "cell_type": "code",
   "execution_count": null,
   "id": "a288549f-7193-4358-b7d2-2214b8142420",
   "metadata": {
    "tags": []
   },
   "outputs": [],
   "source": [
    "df_data = DataFrame(data)"
   ]
  },
  {
   "cell_type": "code",
   "execution_count": null,
   "id": "eb390e0b-7b8b-4e35-9668-62b623be5fb0",
   "metadata": {
    "tags": []
   },
   "outputs": [],
   "source": [
    "df_data.head()"
   ]
  },
  {
   "cell_type": "code",
   "execution_count": null,
   "id": "92b5b854-c489-40e9-8fdf-8d0602a98f3f",
   "metadata": {
    "tags": []
   },
   "outputs": [],
   "source": [
    "df_data.set_index('date', inplace=True)"
   ]
  },
  {
   "cell_type": "code",
   "execution_count": null,
   "id": "55e46f23-828e-453b-bc42-37dbd7606546",
   "metadata": {
    "tags": []
   },
   "outputs": [],
   "source": [
    "df_data.head()"
   ]
  },
  {
   "cell_type": "code",
   "execution_count": null,
   "id": "f1274a83-335d-4976-becb-67e66190ea7f",
   "metadata": {
    "tags": []
   },
   "outputs": [],
   "source": [
    "denni_data = df_data.asfreq('D', method='ffill')"
   ]
  },
  {
   "cell_type": "code",
   "execution_count": null,
   "id": "279b102c-d54a-4c4f-8889-da13a260c040",
   "metadata": {},
   "outputs": [],
   "source": [
    "# df_data.asfreq?"
   ]
  },
  {
   "cell_type": "code",
   "execution_count": null,
   "id": "6643a169-475c-4e5f-86f5-138c7de33e7b",
   "metadata": {
    "tags": []
   },
   "outputs": [],
   "source": [
    "denni_data.head()"
   ]
  },
  {
   "cell_type": "markdown",
   "id": "81ac6ba8-0520-4be2-ac28-dfd2ab2bd412",
   "metadata": {
    "tags": []
   },
   "source": [
    "Metoda `asfreq` bere jako parametr novou frekvenci, na kterou chceme data převést.\n",
    "\n",
    "V případě výše jde o frekvenci `D`, což znamená **denní data**.\n",
    "\n",
    "Protože při zpřesňování se **vytvoří chybějící hodnoty** (v důsledku zvýšení frekvence), je potřeba zvolit metodu pro jejich doplnění.\n",
    "\n",
    "Výš jde o metodu `forward fill` (parametr `method='ffill'`), která kopíruje předchozí hodnotu pro výplň chybějících hodnot.\n",
    "\n",
    "Další možností je použít metodu `'back fill'` (parametr `method='bfill'`), která kopíruje následující hodnotu pro výplň chybějících hodnot."
   ]
  },
  {
   "cell_type": "markdown",
   "id": "57418c5b-f760-4e3d-9d2c-ce578d2f8ee4",
   "metadata": {},
   "source": [
    "<br>\n",
    "\n",
    "##### **🧠 CVIČENÍ 🧠, procvič si časové řady**"
   ]
  },
  {
   "cell_type": "markdown",
   "id": "d0255aee-a7b8-42cb-b38b-e781cc708a27",
   "metadata": {},
   "source": [
    "Analyzuj prodeje produktu ve fiktivní společnosti během jednoho roku a zjisti následující:\n",
    "\n",
    "*Analyze the sales of a product in a fictitious company over a year and find out the following:*\n",
    "\n",
    "\n",
    "1. Celkový prodej za každý měsíc.      *Total sales for each month.*\n",
    "3. Průměrný prodej za každý den v týdnu. * Average sales for each day of the week.*\n",
    "4. Denní prodej za poslední týden.  *Daily sales for the last week.*"
   ]
  },
  {
   "cell_type": "code",
   "execution_count": null,
   "id": "b0d3d382-0929-42b4-8f8e-dd7978f59c43",
   "metadata": {
    "tags": []
   },
   "outputs": [],
   "source": [
    "import pandas as pd\n",
    "import numpy as np"
   ]
  },
  {
   "cell_type": "code",
   "execution_count": null,
   "id": "2ff037c5-c28b-40f9-a60b-a92c96c1a380",
   "metadata": {
    "tags": []
   },
   "outputs": [],
   "source": [
    "denni_datumy = pd.date_range(start='2022-01-01', end='2022-12-31', freq='D')\n",
    "prodeje = np.random.randint(10, 100, size=(len(denni_datumy),))"
   ]
  },
  {
   "cell_type": "code",
   "execution_count": null,
   "id": "7fbea147-227e-4bbb-8dd2-377f4577c94c",
   "metadata": {
    "tags": []
   },
   "outputs": [],
   "source": [
    "data = {\n",
    "    'Date': denni_datumy,\n",
    "    'Sales': prodeje\n",
    "}"
   ]
  },
  {
   "cell_type": "code",
   "execution_count": null,
   "id": "6cf14554-ea98-4690-a6c4-d48357151acf",
   "metadata": {
    "tags": []
   },
   "outputs": [],
   "source": [
    "df_prodeje = pd.DataFrame(data)\n",
    "df_prodeje.set_index('Date', inplace=True)"
   ]
  },
  {
   "cell_type": "code",
   "execution_count": null,
   "id": "6c17fc7e-ad6d-4029-ad02-2930daefa51e",
   "metadata": {},
   "outputs": [],
   "source": [
    "df_prodeje"
   ]
  },
  {
   "cell_type": "code",
   "execution_count": null,
   "id": "a856b9c5-4151-45f3-9098-00ca940df31b",
   "metadata": {},
   "outputs": [],
   "source": [
    "month_sales = df_prodeje.resample('m').sum() "
   ]
  },
  {
   "cell_type": "code",
   "execution_count": null,
   "id": "9d0ab81c-8af8-4329-a34f-3c76333a0773",
   "metadata": {},
   "outputs": [],
   "source": [
    "month_sales"
   ]
  },
  {
   "cell_type": "code",
   "execution_count": null,
   "id": "ee337f26-51d7-4562-9489-bea404e5921c",
   "metadata": {},
   "outputs": [],
   "source": [
    "df_prodeje['Weekday'] = df_prodeje.index.day"
   ]
  },
  {
   "cell_type": "code",
   "execution_count": null,
   "id": "b0f6eeb6-c6ce-4f42-88be-e5a1ebe75756",
   "metadata": {},
   "outputs": [],
   "source": [
    "df_prodeje"
   ]
  },
  {
   "cell_type": "code",
   "execution_count": null,
   "id": "876dbe04-b699-4c2e-af46-88d28f9b403c",
   "metadata": {},
   "outputs": [],
   "source": [
    "denni_prumer = df_prodeje.groupby('weekday')['Sales'].mean()"
   ]
  },
  {
   "cell_type": "code",
   "execution_count": null,
   "id": "2b74504d-3443-4e90-8588-d4984eaee9c7",
   "metadata": {},
   "outputs": [],
   "source": [
    "denni_prumer"
   ]
  },
  {
   "cell_type": "code",
   "execution_count": null,
   "id": "95180a28-370a-470e-8724-f4b725140abf",
   "metadata": {},
   "outputs": [],
   "source": [
    "df_prodeje.tail(7)"
   ]
  },
  {
   "cell_type": "code",
   "execution_count": null,
   "id": "9734015f-b486-40a0-b780-623a025fbba6",
   "metadata": {},
   "outputs": [],
   "source": [
    "df_prodeje.loc['2022-12-25':,'Sales'].sum()"
   ]
  },
  {
   "cell_type": "markdown",
   "id": "b3392c3b-44c4-461d-b0c2-1911679eba2f",
   "metadata": {},
   "source": [
    "<details>\n",
    "    <summary>▶️ Řešení</summary>\n",
    "    \n",
    "```python\n",
    "mesicni_prodej = df_prodeje.resample( 'M' ).sum( )\n",
    "mesicni_prodej['Měsíc'] = mesicni_prodej.index.month_name( )\n",
    "mesicni_prodej = mesicni_prodej.set_index('Měsíc')\n",
    "\n",
    "df_prodeje['Pracovní den'] = df_prodeje.index.weekday\n",
    "denni_prumer = df_prodeje.groupby('Pracovní den')['Prodej'].mean()\n",
    "\n",
    "prodej_posledni_vikend = df_prodeje.loc['2022-12-25':, 'Prodej']\n",
    "\n",
    "#zacatek_posledniho_tydne = df_prodeje.index.max( ) - Timedelta( days = 7 )\n",
    "#posledni_tyden = df_prodeje[df_prodeje.index > zacatek_posledniho_tydne]\n",
    "```\n",
    "\n",
    "</details>"
   ]
  },
  {
   "cell_type": "markdown",
   "id": "8d6f2fb4-4f9a-4e52-9826-fe5d2db2413b",
   "metadata": {},
   "source": [
    "## Výkonný PANDAS\n",
    "\n",
    "---\n",
    "\n",
    "<img src=\"https://external-content.duckduckgo.com/iu/?u=https%3A%2F%2Ftse1.mm.bing.net%2Fth%3Fid%3DOIP.riOR-y2_yu_2cGdEN2e6-wAAAA%26pid%3DApi&f=1&ipt=638c4516d155ff9768066e17887a621cbad0de6bce639a40be98f5dedbce67ac&ipo=images\" width=\"160\" style=\"margin-left:auto; margin-right:auto\"/>"
   ]
  },
  {
   "cell_type": "markdown",
   "id": "6fe330bb-362e-4faa-bd19-b1ebb5db78a6",
   "metadata": {},
   "source": [
    "Z předchozích ukázek a popisků (seskupování) tedy můžeš chápat, že skutečný výkon *frameworku* tkví v převedení **základních operací do jazyka C**.\n",
    "\n",
    "Tyto abstrakce jsou účinné a efektivní pro mnoho běžných případů použití.\n",
    "\n",
    "Vytvářejí ale spousty dočasných objektů, což může způsobit nepřiměřenou režii výpočetního času a paměti."
   ]
  },
  {
   "cell_type": "markdown",
   "id": "c559f494-40a6-47f1-9da4-1b6cf4204945",
   "metadata": {},
   "source": [
    "<br>\n",
    "\n",
    "### Funkce `eval` a `query`\n",
    "\n",
    "---\n",
    "\n",
    "Přímý přístup k operacím rychlosti C bez nákladné alokace `pandas` poskytuje funkce `eval` a `query`.\n",
    "\n",
    "Ty spolehájí na funkci `numexpr`."
   ]
  },
  {
   "cell_type": "markdown",
   "id": "c67464b1-a8e4-40f9-8d2e-7a99b5a76065",
   "metadata": {},
   "source": [
    "<br>\n",
    "\n",
    "### Funkce `eval`\n",
    "\n",
    "---"
   ]
  },
  {
   "cell_type": "markdown",
   "id": "83f22aee-533f-4d2e-ad74-c3d649cd49b6",
   "metadata": {},
   "source": [
    "Dva důvody, proč používat funkci `eval` místo obyčejného Pythonu:\n",
    "1. velké objekty typu `DataFrame` jsou vyhodnocovány efektivněji,\n",
    "2. aritmetické a logické výrazy projdou naráz základním enginem (pomocí `numexpr`)."
   ]
  },
  {
   "cell_type": "markdown",
   "id": "9f5f15c6-64ad-4bc1-a5fe-c40850d2db1a",
   "metadata": {},
   "source": [
    "**Pozor!** Dobrá obecná pomůcka říká, že není nutné využívat funkci `eval` pro tabulky, které jsou kratší než 10 000 řádků. "
   ]
  },
  {
   "cell_type": "markdown",
   "id": "2c23bf00-e9fb-4241-b4a3-f3df4b89615e",
   "metadata": {},
   "source": [
    "### Použití EVAL\n",
    "\n",
    "---\n",
    "\n"
   ]
  },
  {
   "cell_type": "markdown",
   "id": "745c98c1-0862-4854-b8f9-3f00bbef9fa9",
   "metadata": {},
   "source": [
    "Funkce `eval` slouží k efektivnímu vyhodnocení **aritmetických výrazů** na:\n",
    "* objekty `DataFrame`,\n",
    "* objekty `Series`.\n",
    "\n",
    "Její největší výhodou je **rychlost a efektivita**, která spočívá v minimalizaci paměťové zátěže a zrychlení operací."
   ]
  },
  {
   "cell_type": "markdown",
   "id": "d82db24c-8fb4-4e30-ae5b-82427363c029",
   "metadata": {},
   "source": [
    "Když pracuješ **s velkými datovými sadami**, paměťová zátěž a rychlost se stávají klíčovými faktory.\n",
    "\n",
    "Funkce `eval` optimalizuje výpočetní proces tím, že snižuje množství alokované paměti a zrychluje výpočetní operace."
   ]
  },
  {
   "cell_type": "markdown",
   "id": "09b1ba30-1a7e-49a4-82f7-da25ddd4ccb1",
   "metadata": {},
   "source": [
    "<br>\n",
    "\n",
    "### Ukázka EVAL\n",
    "\n",
    "---"
   ]
  },
  {
   "cell_type": "markdown",
   "id": "3253ad1d-cc90-4a39-bf6d-66a794d9d2d4",
   "metadata": {},
   "source": [
    "Pro zadaný *dummy dataset* vytvoř **nový sloupeček** `sloupec_D`, podle vzoru:\n",
    "`A + B * C`"
   ]
  },
  {
   "cell_type": "code",
   "execution_count": null,
   "id": "b3631a72-bb38-4f68-944e-87f4efb8fbea",
   "metadata": {
    "tags": []
   },
   "outputs": [],
   "source": [
    "import pandas as pd"
   ]
  },
  {
   "cell_type": "code",
   "execution_count": null,
   "id": "45edb37f-9d97-4756-971d-169acfef2506",
   "metadata": {
    "tags": []
   },
   "outputs": [],
   "source": [
    "data = {'A': [1, 2, 3, 4, 5],\n",
    "        'B': [6, 7, 8, 9, 10],\n",
    "        'C': [11, 12, 13, 14, 15]}"
   ]
  },
  {
   "cell_type": "code",
   "execution_count": null,
   "id": "02c0def6-0592-438d-8c10-4b6d516caf0a",
   "metadata": {
    "tags": []
   },
   "outputs": [],
   "source": [
    "df_data = pd.DataFrame(data)"
   ]
  },
  {
   "cell_type": "code",
   "execution_count": null,
   "id": "d38138de-83ac-4853-8b8a-5c2f8052471d",
   "metadata": {
    "tags": []
   },
   "outputs": [],
   "source": [
    "df_data.head()"
   ]
  },
  {
   "cell_type": "code",
   "execution_count": null,
   "id": "23ff44dd-357e-4958-9307-46afaeae4062",
   "metadata": {
    "tags": []
   },
   "outputs": [],
   "source": [
    "df_data['sloupec_D'] = df_data['A'] + df_data['B'] * df_data['C']"
   ]
  },
  {
   "cell_type": "code",
   "execution_count": null,
   "id": "d2140566-fd55-4d2a-aa93-ea08b1817525",
   "metadata": {
    "tags": []
   },
   "outputs": [],
   "source": [
    "df_data.head()"
   ]
  },
  {
   "cell_type": "markdown",
   "id": "087090cc-830f-4242-ba79-16da33451c80",
   "metadata": {},
   "source": [
    "<br>\n",
    "\n",
    "*Alternativní způsob*, jak provést stejný výpočet, pokud máš dlouhou tabulku nebo sloupeček, je použití funkce `eval`:"
   ]
  },
  {
   "cell_type": "code",
   "execution_count": null,
   "id": "3389fe17-6208-46c6-a81e-d675d16739ca",
   "metadata": {
    "tags": []
   },
   "outputs": [],
   "source": [
    "df_data['sloupecek_D'] = df_data.eval('A + B * C')"
   ]
  },
  {
   "cell_type": "code",
   "execution_count": null,
   "id": "183adf3a-6760-4462-8b94-cbea3f3c8854",
   "metadata": {
    "tags": []
   },
   "outputs": [],
   "source": [
    "df_data.head()"
   ]
  },
  {
   "cell_type": "code",
   "execution_count": null,
   "id": "c2e1b0e1-e511-4849-85ea-956d55ce3d24",
   "metadata": {
    "tags": []
   },
   "outputs": [],
   "source": [
    "from pandas import eval as ev"
   ]
  },
  {
   "cell_type": "code",
   "execution_count": null,
   "id": "7bdd2a2a-dc4a-4ac0-b745-07d2eebb00e0",
   "metadata": {
    "tags": []
   },
   "outputs": [],
   "source": [
    "# ev?"
   ]
  },
  {
   "cell_type": "markdown",
   "id": "14009a70-52e0-4a0f-b725-bf73255b643f",
   "metadata": {},
   "source": [
    "<br>\n",
    "\n",
    "Funkce `eval` zpracovává zadaný `str` podobně jako built-in funkce `eval`."
   ]
  },
  {
   "cell_type": "markdown",
   "id": "6c56106d-2764-4d80-acd2-89c4afe3da9d",
   "metadata": {},
   "source": [
    "Souhrnně lze říci:\n",
    "* funkci `eval` použij tehdy, pokud je [dataset dlouhý](https://pandas.pydata.org/pandas-docs/stable/user_guide/enhancingperf.html#pandas-eval-performance),\n",
    "* ve všech ostatních scénářích, kde nepotřebuješ šetřit pamět a čas použij klasickou syntaxi."
   ]
  },
  {
   "cell_type": "markdown",
   "id": "dc7f5114-6a19-48d8-98ef-0b3cdc838061",
   "metadata": {},
   "source": [
    "### Výkon EVAL\n",
    "\n",
    "---"
   ]
  },
  {
   "cell_type": "code",
   "execution_count": null,
   "id": "b36e8d82-f756-4042-9cd6-e39115037a15",
   "metadata": {
    "tags": []
   },
   "outputs": [],
   "source": [
    "import numpy as np\n",
    "import pandas as pd"
   ]
  },
  {
   "cell_type": "code",
   "execution_count": null,
   "id": "dbe788f7-03e3-4451-9fb8-c7ad9e82fb2d",
   "metadata": {
    "tags": []
   },
   "outputs": [],
   "source": [
    "pocet_radku, pocet_sloupcu = 1_000_000, 100"
   ]
  },
  {
   "cell_type": "code",
   "execution_count": null,
   "id": "2586300c-9e13-47fe-adfa-dd1ce2552df6",
   "metadata": {
    "tags": []
   },
   "outputs": [],
   "source": [
    "rng = np.random.RandomState()"
   ]
  },
  {
   "cell_type": "code",
   "execution_count": null,
   "id": "5a15dd54-cca5-443d-b781-3311c4d000cb",
   "metadata": {
    "tags": []
   },
   "outputs": [],
   "source": [
    "dframe_1, dframe_2, dframe_3, dframe_4 = [DataFrame(rng.rand(pocet_radku, pocet_sloupcu)) for _ in range(4)]"
   ]
  },
  {
   "cell_type": "code",
   "execution_count": null,
   "id": "abfe1aec-8b44-4932-aa69-4dd172768144",
   "metadata": {
    "tags": []
   },
   "outputs": [],
   "source": [
    "dframe_1.head()"
   ]
  },
  {
   "cell_type": "markdown",
   "id": "b4d87b77-dc55-4fc2-a94f-6cc299c8cccd",
   "metadata": {},
   "source": [
    "#### Ukázka sčítání hodnot tabulek\n",
    "\n",
    "---"
   ]
  },
  {
   "cell_type": "code",
   "execution_count": null,
   "id": "752fa8eb-9a1c-44a8-89d6-f284ad8284cc",
   "metadata": {
    "tags": []
   },
   "outputs": [],
   "source": [
    "from pandas import DataFrame"
   ]
  },
  {
   "cell_type": "code",
   "execution_count": null,
   "id": "f1e55042-5f3e-4e60-a529-935b6fffd24c",
   "metadata": {
    "tags": []
   },
   "outputs": [],
   "source": [
    "df1 = DataFrame({\"A\": [1, 2], \"B\": [3, 4]})"
   ]
  },
  {
   "cell_type": "code",
   "execution_count": null,
   "id": "e0a41043-feb9-4d62-b74b-f4e462bcb7b0",
   "metadata": {
    "tags": []
   },
   "outputs": [],
   "source": [
    "df2 = DataFrame({\"A\": [2, 3], \"B\": [1, 2]})"
   ]
  },
  {
   "cell_type": "code",
   "execution_count": null,
   "id": "bd50d89d-2cfc-4765-a2b9-f31d7f32856c",
   "metadata": {
    "tags": []
   },
   "outputs": [],
   "source": [
    "df1 + df2"
   ]
  },
  {
   "cell_type": "code",
   "execution_count": null,
   "id": "8ca1371b-c3ae-4750-9d29-842788161c01",
   "metadata": {
    "tags": []
   },
   "outputs": [],
   "source": [
    "from pandas import eval as ev"
   ]
  },
  {
   "cell_type": "code",
   "execution_count": null,
   "id": "52ef6f37-b751-4239-bce4-12d09ed06276",
   "metadata": {
    "tags": []
   },
   "outputs": [],
   "source": [
    "ev?"
   ]
  },
  {
   "cell_type": "code",
   "execution_count": null,
   "id": "b8416058-ad47-4cf0-a59e-22870bf30fc9",
   "metadata": {
    "tags": []
   },
   "outputs": [],
   "source": [
    "%timeit dframe_1 + dframe_2 + dframe_3 + dframe_4"
   ]
  },
  {
   "cell_type": "code",
   "execution_count": null,
   "id": "805bdc56-d6fc-45cf-b45c-15d878a0695d",
   "metadata": {
    "tags": []
   },
   "outputs": [],
   "source": [
    "%timeit ev(\"dframe_1 + dframe_2 + dframe_3 + dframe_4\", engine=\"numexpr\")  # bez engine=\"numexpr\""
   ]
  },
  {
   "cell_type": "code",
   "execution_count": null,
   "id": "82ba9347-9f6f-4b9d-a5ef-6ba552620e53",
   "metadata": {
    "tags": []
   },
   "outputs": [],
   "source": [
    "!pip install numexpr"
   ]
  },
  {
   "cell_type": "code",
   "execution_count": null,
   "id": "4924e24e-8abf-42d9-8a23-c0cd2dfafd0d",
   "metadata": {},
   "outputs": [],
   "source": [
    "# 1.10 s"
   ]
  },
  {
   "cell_type": "code",
   "execution_count": null,
   "id": "7c613fb4-5d79-47f0-a627-9cf9d4c1e3bd",
   "metadata": {
    "tags": []
   },
   "outputs": [],
   "source": [
    "# pd.eval?"
   ]
  },
  {
   "cell_type": "markdown",
   "id": "562a5002-5abc-4a0a-9e8b-331b6dc1605d",
   "metadata": {},
   "source": [
    "<br>\n",
    "\n",
    "### Funkce QUERY\n",
    "\n",
    "---"
   ]
  },
  {
   "cell_type": "markdown",
   "id": "a104c705-e309-4354-a682-a84c2c118ddd",
   "metadata": {},
   "source": [
    "Funkce `query` slouží k efektivnímu **filtrování řádků**.\n",
    "\n",
    "Filtrování probíhá na základě **zadané podmínky**.\n",
    "\n",
    "\n",
    "Hlavní výhodou jsou:\n",
    "* **snadná čitelnost**, umožňuje zapisovat podmínky ve snadno čitelné formě, zejména v případě složitějších dotazů,\n",
    "* **rychlost**, může být rychlejší než tradiční metody filtrování,(zejména pro velké datové sady)."
   ]
  },
  {
   "cell_type": "markdown",
   "id": "786cabe4-6b4f-446f-af9c-871eac9a3c96",
   "metadata": {},
   "source": [
    "### Ukázka QUERY\n",
    "\n",
    "---"
   ]
  },
  {
   "cell_type": "markdown",
   "id": "300cc00e-5148-4de1-a554-d7628bb9296f",
   "metadata": {},
   "source": [
    "Pro zadaný *dummy dataset* vyfiltruj takové záznamy, kde:\n",
    "1. Hodnoty ze sloupce A budou **menší než 4**,\n",
    "2. hodnoty ze sloupce B budou **větší než 6**,\n",
    "3. hodnoty ze sloupce C budou **větší než 11**."
   ]
  },
  {
   "cell_type": "code",
   "execution_count": null,
   "id": "74f8f26f-2c4a-4080-943b-e4c28472d56e",
   "metadata": {
    "tags": []
   },
   "outputs": [],
   "source": [
    "data = {'A': [1, 2, 3, 4, 5],\n",
    "        'B': [6, 7, 8, 9, 10],\n",
    "        'C': [11, 12, 13, 14, 15],\n",
    "        'D': [\"AA\", \"BB\", \"CC\", \"DD\", \"EE\"]\n",
    "}"
   ]
  },
  {
   "cell_type": "code",
   "execution_count": null,
   "id": "7ac69b33-e176-4189-a0a7-31570aa8295d",
   "metadata": {
    "tags": []
   },
   "outputs": [],
   "source": [
    "df_data = DataFrame(data)"
   ]
  },
  {
   "cell_type": "code",
   "execution_count": null,
   "id": "665540a6-fd89-4ce5-84f3-0ae995b1a776",
   "metadata": {
    "tags": []
   },
   "outputs": [],
   "source": [
    "df_data"
   ]
  },
  {
   "cell_type": "code",
   "execution_count": null,
   "id": "2e217495-afd6-4864-898a-6950048d5aa7",
   "metadata": {},
   "outputs": [],
   "source": [
    "df_filtrovane = df_data[(df_data['A'] < 4) & (df_data['B'] > 6) & (df_data['C'] > 11)]  # & - and, | - or"
   ]
  },
  {
   "cell_type": "code",
   "execution_count": null,
   "id": "25c2242d-6826-4861-94e2-3c9b990cd831",
   "metadata": {
    "tags": []
   },
   "outputs": [],
   "source": [
    "df_filtrovane"
   ]
  },
  {
   "cell_type": "markdown",
   "id": "95277402-2c4d-4535-978e-1a1caa76264b",
   "metadata": {},
   "source": [
    "Zapisování pomocí *boolean indexování* je ovšem náročné jak pro zápis, tak pro čtení.\n",
    "\n",
    "<br>\n",
    "\n",
    "Pomocí funkce `query`:"
   ]
  },
  {
   "cell_type": "code",
   "execution_count": null,
   "id": "24a8ea27-ba15-404c-b85f-578de7053f0f",
   "metadata": {},
   "outputs": [],
   "source": [
    "df_filtrovane = df_data.query('A < 4 and B > 6 and C > 11')"
   ]
  },
  {
   "cell_type": "code",
   "execution_count": null,
   "id": "5ff9e717-f412-40ab-bbeb-ddd61867346b",
   "metadata": {},
   "outputs": [],
   "source": [
    "df_filtrovane"
   ]
  },
  {
   "cell_type": "markdown",
   "id": "5c23a4c1-e292-4655-894f-1b16e3223b17",
   "metadata": {},
   "source": [
    "#### WHERE 'D' LIKE 'CC'\n",
    "\n",
    "---"
   ]
  },
  {
   "cell_type": "code",
   "execution_count": null,
   "id": "8dcb9a05-0baf-435c-afb9-e56bac227152",
   "metadata": {
    "tags": []
   },
   "outputs": [],
   "source": [
    "df_filtrovane_str = df_data.query(\n",
    "    \"A < 4 and B > 6 and C > 11 and D.str.contains('CC')\"\n",
    ")  # LIKE"
   ]
  },
  {
   "cell_type": "code",
   "execution_count": null,
   "id": "9fd828ab-3ce8-4835-9155-b645e5859f2b",
   "metadata": {},
   "outputs": [],
   "source": [
    "df_filtrovane_str"
   ]
  },
  {
   "cell_type": "code",
   "execution_count": null,
   "id": "30c8b072-06cb-416f-be99-eba66b16fe76",
   "metadata": {
    "tags": []
   },
   "outputs": [],
   "source": [
    "df_filtrovane_str = df_data.query(\n",
    "    \"A < 4 and B > 6 and C > 11 and ~D.str.contains('CC')\"\n",
    ")  # NOT LIKE"
   ]
  },
  {
   "cell_type": "code",
   "execution_count": null,
   "id": "35e937b9-0ac1-475f-8621-ae662255f4a3",
   "metadata": {},
   "outputs": [],
   "source": [
    "df_filtrovane_str"
   ]
  },
  {
   "cell_type": "markdown",
   "id": "32c7e9d9-718e-488a-a2de-92b0f3268296",
   "metadata": {},
   "source": [
    "#### column_a NOT IN []\n",
    "\n",
    "---"
   ]
  },
  {
   "cell_type": "code",
   "execution_count": null,
   "id": "bf31343a-5658-40b9-ac62-8321f2ba002c",
   "metadata": {},
   "outputs": [],
   "source": [
    "\"A not in [1, 2]\""
   ]
  },
  {
   "cell_type": "code",
   "execution_count": null,
   "id": "014ff4f3-33c0-49c5-92f6-a7f029c65fdc",
   "metadata": {},
   "outputs": [],
   "source": [
    "\"A < 4 and B > 6 and C > 11 and D in ('AA', 'CC')\""
   ]
  },
  {
   "cell_type": "markdown",
   "id": "ed10df8f-96a6-46f1-a01f-4db816624b5e",
   "metadata": {},
   "source": [
    "<br>\n",
    "\n",
    "### Nedostatky QUERY\n",
    "\n",
    "---"
   ]
  },
  {
   "cell_type": "markdown",
   "id": "ad98dafc-10ff-43a7-8bee-8d0a7956db24",
   "metadata": {},
   "source": [
    "1. **Omezená syntaxe**, má omezenější syntaxi ve srovnání s běžným zápisem v Pythonu a nemusí podporovat [všechny operace](https://pandas.pydata.org/pandas-docs/stable/user_guide/enhancingperf.html#eval-examples),\n",
    "2. **Názvy sloupců**, pokud názvy sloupců obsahují **mezery nebo znaky**, musíš je uvést pomocí backticků a použít symbol `@` pro reference na proměnné mimo `DataFrame`."
   ]
  },
  {
   "cell_type": "code",
   "execution_count": null,
   "id": "7bb5941b-16b3-41f6-a94e-07d7c2fa9005",
   "metadata": {
    "tags": []
   },
   "outputs": [],
   "source": [
    "df_cisla = DataFrame({'Sloupec 1': [1, 2, 3, 4, 5], 'Sloupec 2': [10, 20, 30, 40, 50]})"
   ]
  },
  {
   "cell_type": "code",
   "execution_count": null,
   "id": "908a662c-2d8a-4624-b949-0463f4ba9c65",
   "metadata": {
    "tags": []
   },
   "outputs": [],
   "source": [
    "df_cisla"
   ]
  },
  {
   "cell_type": "code",
   "execution_count": null,
   "id": "69de5f13-3824-4ba5-8dd1-3785ad4bfd31",
   "metadata": {
    "tags": []
   },
   "outputs": [],
   "source": [
    "# vystup_1 = df_cisla.query('Sloupec 1 < 3')"
   ]
  },
  {
   "cell_type": "code",
   "execution_count": null,
   "id": "d376af6d-a92a-4538-84c1-a660480123fa",
   "metadata": {},
   "outputs": [],
   "source": [
    "limit = 3"
   ]
  },
  {
   "cell_type": "code",
   "execution_count": null,
   "id": "217e64c3-1c1e-48de-88aa-da71a5b449eb",
   "metadata": {
    "tags": []
   },
   "outputs": [],
   "source": [
    "vystup_2 = df_cisla.query('`Sloupec 1` < @limit')"
   ]
  },
  {
   "cell_type": "code",
   "execution_count": null,
   "id": "6073044d-fdb9-4d90-8cb2-7a16f800d2fc",
   "metadata": {
    "tags": []
   },
   "outputs": [],
   "source": [
    "vystup_2"
   ]
  },
  {
   "cell_type": "markdown",
   "id": "e4da62df-091e-4eb8-af04-3c0642c69f51",
   "metadata": {},
   "source": [
    "### Souhrn k EVAL a QUERY\n",
    "\n",
    "---\n",
    "\n",
    "Hlavním účelem těchto funkcí je aplikace na skutečně **velké datové sety**.\n",
    "\n",
    "Rozdíly u drobnějších datasetů **jsou často minimální**.\n",
    "\n",
    "Velký vliv na výstupný čas dělá parametr `engine`, který se snaží pracovat s knihovnou `numexpr`."
   ]
  },
  {
   "cell_type": "markdown",
   "id": "b4f97e9e-2ca1-4d5e-aa07-2242e78e2190",
   "metadata": {},
   "source": [
    "<br>\n",
    "\n",
    "#### **🧠 CVIČENÍ 🧠, procvič si funkce EVAL a QUERY**"
   ]
  },
  {
   "cell_type": "markdown",
   "id": "dd59c383-c646-4eeb-947b-d0a759c5f76d",
   "metadata": {
    "tags": []
   },
   "source": [
    "Analyzuj prodeje produktu ve fiktivní společnosti během jednoho roku a zjisti následující:\n",
    "1. Vyber studenty s věkem **mezi 20 a 22 lety (včetně)** a email, který obsahuje string **gmail.com**,\n",
    "2. vypočtěte *BMI* (Body Mass Index) pro každého studenta a přidejte ho do nového sloupce (vzorec: *váha[kg] / (výška[m] * výška[m])*)\n",
    "3. vyberte studenty s BMI **vyšším než 22** a kteří **pochází z měst Brno a Praha**."
   ]
  },
  {
   "cell_type": "code",
   "execution_count": null,
   "id": "82d9171c-07a2-4ded-9d79-b2d79e12a970",
   "metadata": {
    "tags": []
   },
   "outputs": [],
   "source": [
    "from pandas import DataFrame\n",
    "\n",
    "uzivatele = {\n",
    "    'Name': ['Alice', 'Bob', 'Charlie', 'David', 'Eve'],\n",
    "    'Age': [19, 20, 21, 22, 23],\n",
    "    'Height_cm': [160, 170, 175, 180, 165],\n",
    "    'Weight_kg': [50, 65, 70, 80, 55],\n",
    "    'Email': [\"alice@gmail.com\", \"bob@tech-users.com\", \"charlie91@mail.com\", \"david_bB@gmail.com\", \"eevee@my_domain.net\"],\n",
    "    'Address': [\n",
    "        \"Vrbová 215/14, 602 00, Brno, Česká republika\",\n",
    "        \"Jilmová 862, 400 11, Ústí nad Labem, Česká republika\",\n",
    "        \"Kamenická 37/2, 170 00, Praha, Česká republika\",\n",
    "        \"Podlipná 1284/6, 460 01, Liberec, Česká republika\",\n",
    "        \"Havlíčkova 1703, 500 02, Hradec Králové, Česká republika\"\n",
    "    ]\n",
    "}\n",
    "\n",
    "df_uzivatele = DataFrame(uzivatele)"
   ]
  },
  {
   "cell_type": "code",
   "execution_count": null,
   "id": "3be47443-ff71-47e3-a217-2913465f8981",
   "metadata": {
    "tags": []
   },
   "outputs": [],
   "source": [
    "df_uzivatele"
   ]
  },
  {
   "cell_type": "code",
   "execution_count": null,
   "id": "b00cc81d-d34f-424c-969b-f20456c9fa5d",
   "metadata": {},
   "outputs": [],
   "source": []
  },
  {
   "cell_type": "code",
   "execution_count": null,
   "id": "2b5f7248-8889-4712-a3f3-f220e35819ae",
   "metadata": {},
   "outputs": [],
   "source": []
  },
  {
   "cell_type": "code",
   "execution_count": null,
   "id": "cfdaac5f-503a-4a88-8113-968aa93fcd0a",
   "metadata": {},
   "outputs": [],
   "source": []
  },
  {
   "cell_type": "code",
   "execution_count": null,
   "id": "f7f3aada-16fc-4d6d-abb6-23edb01ed330",
   "metadata": {},
   "outputs": [],
   "source": [
    "# Úkol 1\n",
    "vybrani_uzivatele_1 = df_uzivatele.query( \n",
    "    \"Age.between( 20, 22 ) and Email.str.contains( 'gmail.com' )\" \n",
    ")"
   ]
  },
  {
   "cell_type": "code",
   "execution_count": null,
   "id": "703f282d-c5b9-47e6-a536-4649ead44876",
   "metadata": {},
   "outputs": [],
   "source": [
    "# Úkol 2\n",
    "df_uzivatele['BMI'] = df_uzivatele.eval( \n",
    "    'Weight_kg / ( ( Height_cm / 100 ) ** 2 )' \n",
    ")"
   ]
  },
  {
   "cell_type": "code",
   "execution_count": null,
   "id": "80ad371f-b128-4539-9b0a-c44cc0356e03",
   "metadata": {
    "tags": []
   },
   "outputs": [],
   "source": [
    "df_uzivatele"
   ]
  },
  {
   "cell_type": "code",
   "execution_count": null,
   "id": "92536ff8-47b9-4933-9c6a-720d3cc9537f",
   "metadata": {},
   "outputs": [],
   "source": [
    "# Úkol 3\n",
    "vybrani_uzivatele_2 = df_uzivatele.query( \n",
    "    \"BMI > 22 and Address.str.split( ', ', expand = True )[2].isin( ['Praha', 'Brno'] )\" \n",
    ")"
   ]
  },
  {
   "cell_type": "code",
   "execution_count": null,
   "id": "d1b73023-aa4b-4f6a-89be-a6e630882a1b",
   "metadata": {
    "tags": []
   },
   "outputs": [],
   "source": [
    "df_uzivatele.query( \n",
    "    \"BMI > 22\")"
   ]
  },
  {
   "cell_type": "code",
   "execution_count": null,
   "id": "8f756ee7-4d30-48e6-b4b9-a7dc8e23a1c5",
   "metadata": {
    "tags": []
   },
   "outputs": [],
   "source": [
    "df_uzivatele[\"Address\"].str.split(\", \", expand=True)[2].isin({\"Praha\", \"Brno\"})"
   ]
  },
  {
   "cell_type": "code",
   "execution_count": null,
   "id": "a12f4d8f-2318-48b1-a206-8f72a723f532",
   "metadata": {
    "tags": []
   },
   "outputs": [],
   "source": [
    "df_uzivatele[\"Address\"].str.split(\", \", expand=True)[2].isin({\"Praha\", \"Brno\"})"
   ]
  },
  {
   "cell_type": "code",
   "execution_count": null,
   "id": "5b0fb822-d24b-4352-a373-6109bd47e357",
   "metadata": {
    "tags": []
   },
   "outputs": [],
   "source": [
    "r1 = r1.rename({\"2\": \"Sloupec_2\"})"
   ]
  },
  {
   "cell_type": "code",
   "execution_count": null,
   "id": "78ed0215-e0a7-4ae8-a018-996f64286f16",
   "metadata": {
    "tags": []
   },
   "outputs": [],
   "source": [
    "r1 = r1[2].rename(\"rrrr\")"
   ]
  },
  {
   "cell_type": "code",
   "execution_count": null,
   "id": "05c2f0cc-92c0-4ea9-93a5-896b22bcaae7",
   "metadata": {
    "tags": []
   },
   "outputs": [],
   "source": [
    "r1.columns"
   ]
  },
  {
   "cell_type": "code",
   "execution_count": null,
   "id": "000713e9-7879-4f3a-8383-6a4afe33caf3",
   "metadata": {
    "tags": []
   },
   "outputs": [],
   "source": [
    "vybrani_uzivatele_2"
   ]
  },
  {
   "cell_type": "markdown",
   "id": "883af2ef-8237-4bd6-b65c-04d985ac4365",
   "metadata": {},
   "source": [
    "<details>\n",
    "    <summary>▶️ Řešení</summary>\n",
    "    \n",
    "    ```python\n",
    "    vyber_uzivatel = df_uzivatele.query(\"20 <= Age <= 22 and Email.str.contains('gmail.com')\")\n",
    "\n",
    "    df_uzivatele['Height_m'] = df_uzivatele.eval('Height_cm / 100')\n",
    "    df_uzivatele['BMI'] = df_uzivatele.eval('Weight_kg / (Height_m * Height_m)').round(1)\n",
    "    \n",
    "    df_prodeje['weekday'] = df_prodeje.index.weekday\n",
    "    average_weekday_sales = df_prodeje.groupby('weekday')['prodeje'].mean()\n",
    "    \n",
    "    df_uzivatele[\"City\"] = df_uzivatele[\"Address\"].apply(lambda x: x.split(\",\")[2])\n",
    "    students_with_high_bmi = df_uzivatele.query('BMI > 22 and City in [\"Brno\", \"Praha\"]')\n",
    "    ```\n",
    "</details>"
   ]
  },
  {
   "cell_type": "markdown",
   "id": "a802a9e5-d3ea-483b-acc3-124d3777758d",
   "metadata": {},
   "source": [
    "<br>\n",
    "\n",
    "## Skutečné datové sety\n",
    "\n",
    "---\n",
    "\n",
    "<img src=\"https://external-content.duckduckgo.com/iu/?u=https%3A%2F%2Ftse1.mm.bing.net%2Fth%3Fid%3DOIP.JJu86kKRph1LHt5M7agODQHaHa%26pid%3DApi&f=1&ipt=5cfb9e9f7b451b3a4f7a3ebdc4eb99177d477f20f8145cd818cc4966143f8b2b&ipo=images\" width=\"160\" style=\"margin-left:auto; margin-right:auto\"/>"
   ]
  },
  {
   "cell_type": "markdown",
   "id": "7c1f9457-e0f1-449e-8039-cddf1d375009",
   "metadata": {},
   "source": [
    "Čištění dat je proces, který patří k samotné práci s daty.\n",
    "\n",
    "Spolu s některými souvisejícími úkony, patří mezi ty více frustrující.\n",
    "\n",
    "Nesmyslné datové typy, zkomolené časové údaje, nefungující transformace."
   ]
  },
  {
   "cell_type": "code",
   "execution_count": null,
   "id": "684e5e41-771c-49bb-8820-235ce0b1ff51",
   "metadata": {
    "tags": []
   },
   "outputs": [],
   "source": [
    "from pandas import DataFrame"
   ]
  },
  {
   "cell_type": "code",
   "execution_count": null,
   "id": "a5f8d0b9-4b1f-44ed-9d41-6fe48d6143ab",
   "metadata": {
    "tags": []
   },
   "outputs": [],
   "source": [
    "df_uzivatele = DataFrame({\n",
    "    'Name': ['Alice', 'Bob', 'Charlie', 'David', 'Eve'],\n",
    "    'Age': [None, 20, None, 22, 23],\n",
    "    'Height_cm': [160, 170, 175, None, 165],\n",
    "    'Weight_kg': [50, 65, 70, 80, 55]\n",
    "})"
   ]
  },
  {
   "cell_type": "code",
   "execution_count": null,
   "id": "0565bb2e-d698-469a-95ad-47dbdf14e11b",
   "metadata": {
    "tags": []
   },
   "outputs": [],
   "source": [
    "df_uzivatele.head(3)"
   ]
  },
  {
   "cell_type": "markdown",
   "id": "e3bfc98e-ed69-48e9-8ae1-b6b77bf7cc60",
   "metadata": {},
   "source": [
    "Ihned po načtení je nejlepší data prozkoumat.\n",
    "\n",
    "Nejenom datové typy ale také mít povědomí **o chybějících hodnotách**:"
   ]
  },
  {
   "cell_type": "code",
   "execution_count": null,
   "id": "0c3475a3-e337-47af-9342-d85422404618",
   "metadata": {
    "tags": []
   },
   "outputs": [],
   "source": [
    "df_uzivatele.info()"
   ]
  },
  {
   "cell_type": "markdown",
   "id": "53a318fa-9536-4ba7-80fd-18e208587ab0",
   "metadata": {},
   "source": [
    "<br>\n",
    "\n",
    "Pomocí metody `info` si uděláš aspoň povrchní přehled o hodnotách, datových typech a chybějících hodnotách.\n",
    "\n",
    "<br>\n",
    "\n",
    "### Kolik mi chybí údajů\n",
    "\n",
    "---"
   ]
  },
  {
   "cell_type": "markdown",
   "id": "90d32e53-380d-4614-b71e-abdcd6bcaaa9",
   "metadata": {},
   "source": [
    "Vždycky přistupuj k datům s mírnou skepsí.\n",
    "\n",
    "Otázkou potom není, *JESTLI* mi chybí data, ale *KOLIK* dat mi chybí **a kde**."
   ]
  },
  {
   "cell_type": "code",
   "execution_count": null,
   "id": "c4d5d338-a870-4448-be2c-bd9e5a5a2286",
   "metadata": {
    "tags": []
   },
   "outputs": [],
   "source": [
    "chybejici_hodnoty = df_uzivatele.isnull()  # isna()"
   ]
  },
  {
   "cell_type": "code",
   "execution_count": null,
   "id": "ce82abad-5126-454d-a338-7219dbedf228",
   "metadata": {
    "tags": []
   },
   "outputs": [],
   "source": [
    "chybejici_hodnoty"
   ]
  },
  {
   "cell_type": "markdown",
   "id": "190da638-5798-48e9-89ed-e15439c30b7a",
   "metadata": {
    "tags": []
   },
   "source": [
    "<br>\n",
    "\n",
    "Pomocí metody `isnull` nahradíš všechny chybějící hodnoty v tabulce/sloupcích pomocí `True`.\n",
    "\n",
    "Pokud nechybí, nahradí s `False`."
   ]
  },
  {
   "cell_type": "code",
   "execution_count": null,
   "id": "1a6d3816-2841-4dbf-879d-5594375b2b5f",
   "metadata": {
    "tags": []
   },
   "outputs": [],
   "source": [
    "type(chybejici_hodnoty)"
   ]
  },
  {
   "cell_type": "markdown",
   "id": "bd33aab4-de7f-42ff-81cd-17e0324a6f46",
   "metadata": {},
   "source": [
    "Takový výstup ale není zcela reprezentativní.\n",
    "\n",
    "Proto je potřeba, sečíst všechny `True` hodnoty po sloupcích:"
   ]
  },
  {
   "cell_type": "code",
   "execution_count": null,
   "id": "601d3405-3f01-4b0e-aa90-ffd579cc3745",
   "metadata": {
    "tags": []
   },
   "outputs": [],
   "source": [
    "chybejici_hodnoty = df_uzivatele.isnull().sum()"
   ]
  },
  {
   "cell_type": "code",
   "execution_count": null,
   "id": "ada2364d-c759-4f92-a726-769ed75cb32b",
   "metadata": {
    "tags": []
   },
   "outputs": [],
   "source": [
    "chybejici_hodnoty"
   ]
  },
  {
   "cell_type": "markdown",
   "id": "27fd0e3f-3d9d-4c84-ad13-555a3007d95d",
   "metadata": {},
   "source": [
    "<br>\n",
    "\n",
    "Opět v jednotkách to nemusí zcela prozrazovat chybovost.\n",
    "\n",
    "Nejlepším indikátorem ale bývají **procenta z celkového množství hodnot ve sloupci**:"
   ]
  },
  {
   "cell_type": "code",
   "execution_count": null,
   "id": "bcf80d2c-a855-47b0-a0e7-2c33c2f04132",
   "metadata": {
    "tags": []
   },
   "outputs": [],
   "source": [
    "celkem_zaznamu = df_uzivatele.shape[0]  # 0 ... Indexy, 1 ... sloupce"
   ]
  },
  {
   "cell_type": "code",
   "execution_count": null,
   "id": "32895f74-6da5-4ff5-98f4-ee5d3d0b6302",
   "metadata": {
    "tags": []
   },
   "outputs": [],
   "source": [
    "celkem_chybi = chybejici_hodnoty"
   ]
  },
  {
   "cell_type": "code",
   "execution_count": null,
   "id": "6cea0cca-aced-49c6-9bb0-709b21035d4e",
   "metadata": {
    "tags": []
   },
   "outputs": [],
   "source": [
    "celkem_chybi"
   ]
  },
  {
   "cell_type": "code",
   "execution_count": null,
   "id": "c3bebb42-02fe-46d7-8548-fe2ccac030d3",
   "metadata": {
    "tags": []
   },
   "outputs": [],
   "source": [
    "v_procentech = round(celkem_chybi / celkem_zaznamu * 100, 1)"
   ]
  },
  {
   "cell_type": "code",
   "execution_count": null,
   "id": "67f9c86d-317c-49d9-95bd-e14f69c9541e",
   "metadata": {
    "tags": []
   },
   "outputs": [],
   "source": [
    "v_procentech"
   ]
  },
  {
   "cell_type": "markdown",
   "id": "fd4f20a8-15cd-419c-93f8-d36c682c99a5",
   "metadata": {},
   "source": [
    "<br>\n",
    "\n",
    "případně celkové množství záznamů ve všech sloupcích:"
   ]
  },
  {
   "cell_type": "code",
   "execution_count": null,
   "id": "18d55c4a-96dd-47ee-be53-2adf575c0a94",
   "metadata": {
    "tags": []
   },
   "outputs": [],
   "source": [
    "vsechny_bunky = df_uzivatele.shape[0] * df_uzivatele.shape[1]  # 5 * 4"
   ]
  },
  {
   "cell_type": "code",
   "execution_count": null,
   "id": "af159bf5-4cd4-46df-a217-33df9b747722",
   "metadata": {
    "tags": []
   },
   "outputs": [],
   "source": [
    "vsechny_chybejici_hodnoty = chybejici_hodnoty.sum()            # 4"
   ]
  },
  {
   "cell_type": "code",
   "execution_count": null,
   "id": "0f685a6e-356b-4920-b777-cb1c58a09685",
   "metadata": {
    "tags": []
   },
   "outputs": [],
   "source": [
    "celkem_v_procentech = round(vsechny_chybejici_hodnoty / vsechny_bunky * 100, 1)"
   ]
  },
  {
   "cell_type": "code",
   "execution_count": null,
   "id": "15dc8401-e04c-4957-8cdf-1bcbaed265ed",
   "metadata": {
    "tags": []
   },
   "outputs": [],
   "source": [
    "celkem_v_procentech"
   ]
  },
  {
   "cell_type": "markdown",
   "id": "bfbdfaa1-e163-44d3-9912-a76f48011291",
   "metadata": {},
   "source": [
    "<br>\n",
    "\n",
    "V této ukázce tedy chybí 20 % dat a to není málo!"
   ]
  },
  {
   "cell_type": "markdown",
   "id": "094ded0c-63bf-4198-8869-0341be3a9faa",
   "metadata": {},
   "source": [
    "<br>\n",
    "\n",
    "### Co s chybějícími hodnotami\n",
    "\n",
    "---"
   ]
  },
  {
   "cell_type": "markdown",
   "id": "25830900-8a89-4a7a-a1ff-31c0f4d46941",
   "metadata": {},
   "source": [
    "Je důležité vědět, proč máš takové množství chybějících hodnot.\n",
    "\n",
    "Chybí ti data, protože neexistují, nebo protože nejsou součástí záznamů v datasetu.\n",
    "\n",
    "V takových krocích je obvykle nutné, pochopit podstatu údajů (dokumentace, specifikace,..).\n",
    "\n",
    "Nejjednodušší způsoby, jak s chybějícími daty naložit (ale ne efektivní!!):\n",
    "1. Zahodit chybějící hodnoty,\n",
    "2. doplnit chybějící hodnoty."
   ]
  },
  {
   "cell_type": "markdown",
   "id": "0b2499c6-787c-4554-a294-5ebf9e765be1",
   "metadata": {},
   "source": [
    "#### Zahodit chybějící hodnoty"
   ]
  },
  {
   "cell_type": "code",
   "execution_count": null,
   "id": "7301b9e2-443f-40e1-bea0-c11d2a8eed3c",
   "metadata": {
    "tags": []
   },
   "outputs": [],
   "source": [
    "# df_uzivatele.dropna?"
   ]
  },
  {
   "cell_type": "code",
   "execution_count": null,
   "id": "792e8538-06ff-4670-a5e1-d490715f333b",
   "metadata": {
    "tags": []
   },
   "outputs": [],
   "source": [
    "df_uzivatele"
   ]
  },
  {
   "cell_type": "code",
   "execution_count": null,
   "id": "6e154fe4-fe48-4249-a776-425d21248b46",
   "metadata": {
    "tags": []
   },
   "outputs": [],
   "source": [
    "df_uzivatele.dropna()  # axis=0"
   ]
  },
  {
   "cell_type": "markdown",
   "id": "ea526c53-5802-4143-ab32-d42fba3b0727",
   "metadata": {},
   "source": [
    "<br>\n",
    "\n",
    "V tento okamžik si zahodíš všechny záznamy, které **postrádaly nějakou hodnotu**.\n",
    "\n",
    "Někdy je jednodušší zahodit sloupeček, který má chybějící hodnotu:"
   ]
  },
  {
   "cell_type": "code",
   "execution_count": null,
   "id": "5cae373b-2803-4607-9de5-3ee8ceecb4db",
   "metadata": {
    "tags": []
   },
   "outputs": [],
   "source": [
    "df_uzivatele.dropna(axis=1)"
   ]
  },
  {
   "cell_type": "markdown",
   "id": "b1fac794-0d34-48ec-b6c6-9386f28b1f43",
   "metadata": {},
   "source": [
    "#### Doplnit automaticky hodnoty"
   ]
  },
  {
   "cell_type": "code",
   "execution_count": null,
   "id": "8cc16fb8-1ae9-4b7b-b58d-3ee26a54f62a",
   "metadata": {},
   "outputs": [],
   "source": [
    "# df_uzivatele.fillna?"
   ]
  },
  {
   "cell_type": "code",
   "execution_count": null,
   "id": "fb28d0b9-7eca-4ec3-a9fa-79812beb312d",
   "metadata": {
    "tags": []
   },
   "outputs": [],
   "source": [
    "df_uzivatele"
   ]
  },
  {
   "cell_type": "code",
   "execution_count": null,
   "id": "c3d473fa-6caf-47a3-be7d-8fe04e3d7198",
   "metadata": {},
   "outputs": [],
   "source": [
    "df_uzivatele.fillna(0)  # replace: \"Nan\" --> 0"
   ]
  },
  {
   "cell_type": "markdown",
   "id": "1d01774e-1e53-4d03-8601-010eb30e6ff5",
   "metadata": {},
   "source": [
    "<br>\n",
    "\n",
    "Pomocí funkce `fillna` můžeš vyplnit místo chybějících hodnot předdefinovanou vlastní hodnotu.\n",
    "\n",
    "Nebo pomocí argumentu pro `method` pracovat s elegantnějším zadáním.\n",
    "\n",
    "Nahradit chybějící hodnoty hodnotou, která následuje bezprostředně za ní ve stejném sloupci (To má velký smysl u souborů dat, kde mají pozorování nějaké logické pořadí.)"
   ]
  },
  {
   "cell_type": "code",
   "execution_count": null,
   "id": "cf5ff653-b1bb-48f5-91ad-f0bdb2a3d055",
   "metadata": {
    "tags": []
   },
   "outputs": [],
   "source": [
    "df_uzivatele"
   ]
  },
  {
   "cell_type": "code",
   "execution_count": null,
   "id": "b4a9f2d8-83a3-4bda-9ea7-5d0afc12c3a1",
   "metadata": {
    "tags": []
   },
   "outputs": [],
   "source": [
    "df_uzivatele.fillna(method='bfill', axis=0)"
   ]
  },
  {
   "cell_type": "code",
   "execution_count": null,
   "id": "b29d25db-b0a6-411c-887c-5cc5fbf4431a",
   "metadata": {
    "tags": []
   },
   "outputs": [],
   "source": [
    "df_uzivatele.fillna(method='ffill', axis=0)"
   ]
  },
  {
   "cell_type": "code",
   "execution_count": null,
   "id": "409d998d-8ca7-4702-a463-140c1e0da725",
   "metadata": {},
   "outputs": [],
   "source": [
    "df_uzivatele.fillna(method='ffill', axis=0).fillna(19)"
   ]
  },
  {
   "cell_type": "markdown",
   "id": "de9c6b90-a9b6-44a5-b419-bf1f680610b9",
   "metadata": {},
   "source": [
    "## Encoding\n",
    "\n",
    "---"
   ]
  },
  {
   "cell_type": "markdown",
   "id": "f05783ce-8e19-4ed6-84b4-feb1d0845bdb",
   "metadata": {},
   "source": [
    "Problémy s kódováním jsou běžné.\n",
    "\n",
    "Jde o proces, který mapuje **bajtové stringy** (`0110101011`) na **uživatelsky čitelný text** (`\"ahoj!\"`).\n",
    "\n",
    "Tento problém nastane, pokud se snažíš načíst zdroj v jiné kódovací sadě, než byl soubor zapsaný.\n",
    "\n",
    "<br>\n",
    "\n",
    "Protože je těchto sad hodně, občas skončíš s *escapovanými znaky*, nebo s neznámými kliky-háky:"
   ]
  },
  {
   "cell_type": "code",
   "execution_count": null,
   "id": "d6949490-b430-4b66-813e-9f73a7629706",
   "metadata": {},
   "outputs": [],
   "source": [
    "æ–‡å"
   ]
  },
  {
   "cell_type": "markdown",
   "id": "462ebf10-52c1-480b-ac2b-6bcaef2c605e",
   "metadata": {},
   "source": [
    "<br>\n",
    "\n",
    "Případně pokud nelze domapovat znaky:"
   ]
  },
  {
   "cell_type": "markdown",
   "id": "c7d5cca3-edd4-443e-a32d-663beda305c1",
   "metadata": {},
   "source": [
    "��"
   ]
  },
  {
   "cell_type": "markdown",
   "id": "08718372-9db9-4abf-be9f-e3973232a86f",
   "metadata": {},
   "source": [
    "<br>\n",
    "\n",
    "V **Pythonu 2** nebylo lehké *encoding* zajistit.\n",
    "\n",
    "V **Pythonu 3** je celý proces o dost jednodušší.\n",
    "\n",
    "Standardem pro práci bývá obyčejně UTF-8. Na to ale zrovna v našich končinách nemůžeš spoléhat."
   ]
  },
  {
   "cell_type": "code",
   "execution_count": null,
   "id": "452d462d-a7d7-4fc8-9200-a81ad15acd13",
   "metadata": {
    "tags": []
   },
   "outputs": [],
   "source": [
    "veta = \"Matouš zaplatil 100 $\""
   ]
  },
  {
   "cell_type": "code",
   "execution_count": null,
   "id": "a20ac2ec-a3b9-48fe-803d-a134abcc1b7d",
   "metadata": {
    "tags": []
   },
   "outputs": [],
   "source": [
    "# veta?"
   ]
  },
  {
   "cell_type": "markdown",
   "id": "009230ce-43c7-4d31-8bd8-20886451ffea",
   "metadata": {},
   "source": [
    "<br>\n",
    "\n",
    "Údaj, který vidíš výš je datový typ `str`."
   ]
  },
  {
   "cell_type": "code",
   "execution_count": null,
   "id": "3a68564c-caf9-4f8b-a267-371bac571a26",
   "metadata": {
    "tags": []
   },
   "outputs": [],
   "source": [
    "prevedena_veta = veta.encode(\"utf-8\", errors=\"replace\")"
   ]
  },
  {
   "cell_type": "code",
   "execution_count": null,
   "id": "fb4baed1-2ae3-485d-9c1f-bd5425f64da3",
   "metadata": {
    "tags": []
   },
   "outputs": [],
   "source": [
    "prevedena_veta"
   ]
  },
  {
   "cell_type": "code",
   "execution_count": null,
   "id": "b4bacb1f-f081-4206-9a26-f826a2d9760c",
   "metadata": {
    "tags": []
   },
   "outputs": [],
   "source": [
    "prevedena_veta?"
   ]
  },
  {
   "cell_type": "markdown",
   "id": "534a717a-6a29-4db6-ace1-fcd910775d2f",
   "metadata": {
    "tags": []
   },
   "source": [
    "<br>\n",
    "\n",
    "Dál je možné, převést `str` na `bytes`. Tedy sekvenci čísel.\n",
    "\n",
    "Jak ale teď tato sekvence vypadá:"
   ]
  },
  {
   "cell_type": "code",
   "execution_count": null,
   "id": "36ed5cc1-da63-44f5-8def-569c877cf3fc",
   "metadata": {
    "tags": []
   },
   "outputs": [],
   "source": [
    "prevedena_veta"
   ]
  },
  {
   "cell_type": "markdown",
   "id": "c595b014-47b1-426c-aef6-7c40166e98cf",
   "metadata": {},
   "source": [
    "<br>\n",
    "\n",
    "Celou větu můžeš zpátky kódovat pomocí funkce `decode` z `bytes` na `str`:"
   ]
  },
  {
   "cell_type": "code",
   "execution_count": null,
   "id": "2ce69930-4e6e-4eca-8462-992bb4c8a430",
   "metadata": {
    "tags": []
   },
   "outputs": [],
   "source": [
    "print(prevedena_veta.decode(\"utf-8\"))"
   ]
  },
  {
   "cell_type": "markdown",
   "id": "a23ff730-8b9e-4372-9281-1474436e5eb7",
   "metadata": {},
   "source": [
    "<br>\n",
    "\n",
    "Pokud ale zvolíš jinou sadu, nemusíš dostat stejné hodnoty:"
   ]
  },
  {
   "cell_type": "code",
   "execution_count": null,
   "id": "32c62bcd-e7bd-4c0d-9263-9b700bfc16f0",
   "metadata": {
    "tags": []
   },
   "outputs": [],
   "source": [
    "print(prevedena_veta.decode(\"windows-1250\"))"
   ]
  },
  {
   "cell_type": "code",
   "execution_count": null,
   "id": "660928bf-e7bd-41de-86d5-bf595b02833c",
   "metadata": {
    "tags": []
   },
   "outputs": [],
   "source": [
    "print(prevedena_veta.decode(\"ascii\"))"
   ]
  },
  {
   "cell_type": "markdown",
   "id": "3fe543f7-bd8e-476a-b1c2-86435345ff05",
   "metadata": {},
   "source": [
    "<br>\n",
    "\n",
    "Toto a další neúspěšné postupy je samozřejmě špatně a ty se tomu chceš určitě vyhnout."
   ]
  },
  {
   "cell_type": "code",
   "execution_count": null,
   "id": "c437d12b-34cf-4890-954a-59fe982f455d",
   "metadata": {
    "tags": []
   },
   "outputs": [],
   "source": [
    "from pandas import read_csv"
   ]
  },
  {
   "cell_type": "code",
   "execution_count": null,
   "id": "6f347574-6342-4427-900c-923b50b5c6d8",
   "metadata": {
    "tags": []
   },
   "outputs": [],
   "source": [
    "chybna_sada = read_csv(\"../exercises/lide.csv\")"
   ]
  },
  {
   "cell_type": "code",
   "execution_count": null,
   "id": "d591da39-dbbd-4124-a0be-469a1b931170",
   "metadata": {},
   "outputs": [],
   "source": [
    "chybna_sada"
   ]
  },
  {
   "cell_type": "markdown",
   "id": "c839c4f4-e84d-4596-ae74-2ee680cc0ee2",
   "metadata": {},
   "source": [
    "<br>\n",
    "\n",
    "Ne vždy je možné, defaultně pracovat se znakovou sadou **UTF-8**.\n",
    "\n",
    "Ve výstupu je vidět, že jde o směs několika sad a ty musíš vyzkoušet, jaká bude fungovat."
   ]
  },
  {
   "cell_type": "code",
   "execution_count": null,
   "id": "d8a6b2d2-7d62-4dd1-98eb-6905b8070b79",
   "metadata": {
    "tags": []
   },
   "outputs": [],
   "source": [
    "import sys"
   ]
  },
  {
   "cell_type": "code",
   "execution_count": null,
   "id": "2a843d23-12c3-4ca3-b7fd-d2f0de7bb064",
   "metadata": {
    "tags": []
   },
   "outputs": [],
   "source": [
    "sys.getdefaultencoding()"
   ]
  },
  {
   "cell_type": "code",
   "execution_count": null,
   "id": "dd4fc6c7-1e1f-48b2-87cd-861d07f47b56",
   "metadata": {
    "tags": []
   },
   "outputs": [],
   "source": [
    "!pip install chardet"
   ]
  },
  {
   "cell_type": "code",
   "execution_count": null,
   "id": "4cabca50-b529-4a91-8383-7659e0920b02",
   "metadata": {
    "tags": []
   },
   "outputs": [],
   "source": [
    "from chardet.universaldetector import UniversalDetector"
   ]
  },
  {
   "cell_type": "code",
   "execution_count": null,
   "id": "2aefe731-3ad4-46fb-a3a2-d957a3394752",
   "metadata": {
    "tags": []
   },
   "outputs": [],
   "source": [
    "detector = UniversalDetector()"
   ]
  },
  {
   "cell_type": "code",
   "execution_count": null,
   "id": "aed18a4e-516f-4e46-930d-e1d195732fe3",
   "metadata": {
    "tags": []
   },
   "outputs": [],
   "source": [
    "for line in open(\"../exercises/lide.csv\", 'rb'):\n",
    "    detector.feed(line)\n",
    "    if detector.done:\n",
    "        break\n",
    "\n",
    "detector.close()\n",
    "print(detector.result)"
   ]
  },
  {
   "cell_type": "code",
   "execution_count": null,
   "id": "e01884b3-6a36-4c0d-8cc6-188c6bb15f6b",
   "metadata": {},
   "outputs": [],
   "source": [
    "csv_dataframe = read_csv(\"../exercises/lide.csv\", sep=';', encoding='ascii')"
   ]
  },
  {
   "cell_type": "code",
   "execution_count": null,
   "id": "eeb185ea-9b70-4e66-8374-57a550d0f6e9",
   "metadata": {},
   "outputs": [],
   "source": [
    "csv_dataframe"
   ]
  },
  {
   "cell_type": "markdown",
   "id": "8cac610b-39f2-4fde-8669-9d4ac4d8d3d1",
   "metadata": {},
   "source": [
    "<br>\n",
    "\n",
    "Pomocí knihovny `chardet` / `charset_normalizer` identifikuješ, o jaké znakové sady jde:"
   ]
  },
  {
   "cell_type": "markdown",
   "id": "fbe15a45-df94-4360-8d73-0cc602bb7961",
   "metadata": {},
   "source": [
    "Nyní máš lepší představu o tom, jakou znakovou sadu soubor používá.\n",
    "\n",
    "Opatrně na délku `str`, který detekuješ.\n",
    "\n",
    "Pokud je příliš krátký, může to ovlivnit výsledek.\n",
    "\n",
    "Naopak pokud je příliš dlouhý, může trvat jeho načtení."
   ]
  },
  {
   "cell_type": "code",
   "execution_count": null,
   "id": "1f5b2f04-7b11-4db9-9337-dc6fab94056c",
   "metadata": {
    "tags": []
   },
   "outputs": [],
   "source": [
    "spravna_sada = read_csv(\"neznamy_vzorek.csv\", encoding=\"Windows-1252\")"
   ]
  },
  {
   "cell_type": "code",
   "execution_count": null,
   "id": "4fcf7642-fff0-42be-8ffe-110a59471798",
   "metadata": {
    "tags": []
   },
   "outputs": [],
   "source": [
    "spravna_sada.head()"
   ]
  },
  {
   "cell_type": "code",
   "execution_count": null,
   "id": "55cc2bbb-6128-474b-acc4-3b33b4674419",
   "metadata": {
    "tags": []
   },
   "outputs": [],
   "source": [
    "spravna_sada.info()"
   ]
  },
  {
   "cell_type": "markdown",
   "id": "12ac864a-0514-4468-91bb-5ede17f1942f",
   "metadata": {},
   "source": [
    "<br>\n",
    "\n",
    "Tentokrát soubor otevřeš pouze s varováním.\n",
    "\n",
    "Pro příště je určitě výhodou vytvořit kopii takového souboru, kterou uložíš v ideálním kódování:"
   ]
  },
  {
   "cell_type": "code",
   "execution_count": null,
   "id": "323b1129-d4e1-4dca-9e57-46ed8c964465",
   "metadata": {
    "tags": []
   },
   "outputs": [],
   "source": [
    "spravna_sada.to_csv(\"kopie_sada_utf8.csv\", encoding=\"utf-8\")"
   ]
  },
  {
   "cell_type": "code",
   "execution_count": null,
   "id": "fffd5eb3-a6c8-4cc4-9f89-2895406c3ba3",
   "metadata": {
    "tags": []
   },
   "outputs": [],
   "source": [
    "# pokus = read_<zdroj>(\"vzorek_2.csv\")"
   ]
  },
  {
   "cell_type": "code",
   "execution_count": null,
   "id": "0a837d73-011a-4db0-943e-0e3589b3a315",
   "metadata": {},
   "outputs": [],
   "source": [
    "# vzorek = to_<zdroj>(...)"
   ]
  },
  {
   "cell_type": "markdown",
   "id": "fcae99fc-c136-4ef5-8e5c-f6c4758d9b4e",
   "metadata": {},
   "source": [
    "## Practice\n",
    "\n",
    "---"
   ]
  },
  {
   "cell_type": "code",
   "execution_count": 1,
   "id": "e4fdf2d1-4181-4743-8798-e2b02c0aa286",
   "metadata": {},
   "outputs": [],
   "source": [
    "data = {\n",
    "    'name': ['Matous', 'Lukas'],\n",
    "    'surname': ['Holinka', 'Holinka'],\n",
    "    'age': [11, 12],\n",
    "    'email': ['matous@holinka.cz', 'lukas.h@gmail.com']\n",
    "}"
   ]
  },
  {
   "cell_type": "code",
   "execution_count": 10,
   "id": "9ddd7215-2590-4c38-b038-19fc8c586b6c",
   "metadata": {},
   "outputs": [],
   "source": [
    "# Create a new DataFrame object 'data_df' and add the column 'full_name'\n",
    "from pandas import DataFrame"
   ]
  },
  {
   "cell_type": "code",
   "execution_count": 11,
   "id": "ec4bbe3d-398b-48b9-891b-0b163744acd4",
   "metadata": {},
   "outputs": [],
   "source": [
    "data_df = DataFrame(data)"
   ]
  },
  {
   "cell_type": "code",
   "execution_count": 12,
   "id": "c6bfe36a-a7d7-4121-92a3-d8d49cac939f",
   "metadata": {},
   "outputs": [
    {
     "data": {
      "text/html": [
       "<div>\n",
       "<style scoped>\n",
       "    .dataframe tbody tr th:only-of-type {\n",
       "        vertical-align: middle;\n",
       "    }\n",
       "\n",
       "    .dataframe tbody tr th {\n",
       "        vertical-align: top;\n",
       "    }\n",
       "\n",
       "    .dataframe thead th {\n",
       "        text-align: right;\n",
       "    }\n",
       "</style>\n",
       "<table border=\"1\" class=\"dataframe\">\n",
       "  <thead>\n",
       "    <tr style=\"text-align: right;\">\n",
       "      <th></th>\n",
       "      <th>name</th>\n",
       "      <th>surname</th>\n",
       "      <th>age</th>\n",
       "      <th>email</th>\n",
       "    </tr>\n",
       "  </thead>\n",
       "  <tbody>\n",
       "    <tr>\n",
       "      <th>0</th>\n",
       "      <td>Matous</td>\n",
       "      <td>Holinka</td>\n",
       "      <td>11</td>\n",
       "      <td>matous@holinka.cz</td>\n",
       "    </tr>\n",
       "    <tr>\n",
       "      <th>1</th>\n",
       "      <td>Lukas</td>\n",
       "      <td>Holinka</td>\n",
       "      <td>12</td>\n",
       "      <td>lukas.h@gmail.com</td>\n",
       "    </tr>\n",
       "  </tbody>\n",
       "</table>\n",
       "</div>"
      ],
      "text/plain": [
       "     name  surname  age              email\n",
       "0  Matous  Holinka   11  matous@holinka.cz\n",
       "1   Lukas  Holinka   12  lukas.h@gmail.com"
      ]
     },
     "execution_count": 12,
     "metadata": {},
     "output_type": "execute_result"
    }
   ],
   "source": [
    "data_df"
   ]
  },
  {
   "cell_type": "code",
   "execution_count": 13,
   "id": "cdc801a4-32a7-4cb5-a12e-2efbcee6eed3",
   "metadata": {},
   "outputs": [],
   "source": [
    "data_df['full_name'] = data_df['name'] + ' ' + data_df['surname']"
   ]
  },
  {
   "cell_type": "code",
   "execution_count": 29,
   "id": "2ed1f4a8-843f-47c8-8976-8d99302ce9e5",
   "metadata": {},
   "outputs": [
    {
     "ename": "KeyError",
     "evalue": "'phone'",
     "output_type": "error",
     "traceback": [
      "\u001b[0;31m---------------------------------------------------------------------------\u001b[0m",
      "\u001b[0;31mKeyError\u001b[0m                                  Traceback (most recent call last)",
      "File \u001b[0;32m~/projects/bnp_course/dev/lib/python3.8/site-packages/pandas/core/indexes/base.py:3653\u001b[0m, in \u001b[0;36mIndex.get_loc\u001b[0;34m(self, key)\u001b[0m\n\u001b[1;32m   3652\u001b[0m \u001b[38;5;28;01mtry\u001b[39;00m:\n\u001b[0;32m-> 3653\u001b[0m     \u001b[38;5;28;01mreturn\u001b[39;00m \u001b[38;5;28;43mself\u001b[39;49m\u001b[38;5;241;43m.\u001b[39;49m\u001b[43m_engine\u001b[49m\u001b[38;5;241;43m.\u001b[39;49m\u001b[43mget_loc\u001b[49m\u001b[43m(\u001b[49m\u001b[43mcasted_key\u001b[49m\u001b[43m)\u001b[49m\n\u001b[1;32m   3654\u001b[0m \u001b[38;5;28;01mexcept\u001b[39;00m \u001b[38;5;167;01mKeyError\u001b[39;00m \u001b[38;5;28;01mas\u001b[39;00m err:\n",
      "File \u001b[0;32m~/projects/bnp_course/dev/lib/python3.8/site-packages/pandas/_libs/index.pyx:147\u001b[0m, in \u001b[0;36mpandas._libs.index.IndexEngine.get_loc\u001b[0;34m()\u001b[0m\n",
      "File \u001b[0;32m~/projects/bnp_course/dev/lib/python3.8/site-packages/pandas/_libs/index.pyx:176\u001b[0m, in \u001b[0;36mpandas._libs.index.IndexEngine.get_loc\u001b[0;34m()\u001b[0m\n",
      "File \u001b[0;32mpandas/_libs/hashtable_class_helper.pxi:7080\u001b[0m, in \u001b[0;36mpandas._libs.hashtable.PyObjectHashTable.get_item\u001b[0;34m()\u001b[0m\n",
      "File \u001b[0;32mpandas/_libs/hashtable_class_helper.pxi:7088\u001b[0m, in \u001b[0;36mpandas._libs.hashtable.PyObjectHashTable.get_item\u001b[0;34m()\u001b[0m\n",
      "\u001b[0;31mKeyError\u001b[0m: 'phone'",
      "\nThe above exception was the direct cause of the following exception:\n",
      "\u001b[0;31mKeyError\u001b[0m                                  Traceback (most recent call last)",
      "Cell \u001b[0;32mIn[29], line 1\u001b[0m\n\u001b[0;32m----> 1\u001b[0m \u001b[43mdata_df\u001b[49m\u001b[43m[\u001b[49m\u001b[38;5;124;43m'\u001b[39;49m\u001b[38;5;124;43mphone\u001b[39;49m\u001b[38;5;124;43m'\u001b[39;49m\u001b[43m]\u001b[49m\n",
      "File \u001b[0;32m~/projects/bnp_course/dev/lib/python3.8/site-packages/pandas/core/frame.py:3761\u001b[0m, in \u001b[0;36mDataFrame.__getitem__\u001b[0;34m(self, key)\u001b[0m\n\u001b[1;32m   3759\u001b[0m \u001b[38;5;28;01mif\u001b[39;00m \u001b[38;5;28mself\u001b[39m\u001b[38;5;241m.\u001b[39mcolumns\u001b[38;5;241m.\u001b[39mnlevels \u001b[38;5;241m>\u001b[39m \u001b[38;5;241m1\u001b[39m:\n\u001b[1;32m   3760\u001b[0m     \u001b[38;5;28;01mreturn\u001b[39;00m \u001b[38;5;28mself\u001b[39m\u001b[38;5;241m.\u001b[39m_getitem_multilevel(key)\n\u001b[0;32m-> 3761\u001b[0m indexer \u001b[38;5;241m=\u001b[39m \u001b[38;5;28;43mself\u001b[39;49m\u001b[38;5;241;43m.\u001b[39;49m\u001b[43mcolumns\u001b[49m\u001b[38;5;241;43m.\u001b[39;49m\u001b[43mget_loc\u001b[49m\u001b[43m(\u001b[49m\u001b[43mkey\u001b[49m\u001b[43m)\u001b[49m\n\u001b[1;32m   3762\u001b[0m \u001b[38;5;28;01mif\u001b[39;00m is_integer(indexer):\n\u001b[1;32m   3763\u001b[0m     indexer \u001b[38;5;241m=\u001b[39m [indexer]\n",
      "File \u001b[0;32m~/projects/bnp_course/dev/lib/python3.8/site-packages/pandas/core/indexes/base.py:3655\u001b[0m, in \u001b[0;36mIndex.get_loc\u001b[0;34m(self, key)\u001b[0m\n\u001b[1;32m   3653\u001b[0m     \u001b[38;5;28;01mreturn\u001b[39;00m \u001b[38;5;28mself\u001b[39m\u001b[38;5;241m.\u001b[39m_engine\u001b[38;5;241m.\u001b[39mget_loc(casted_key)\n\u001b[1;32m   3654\u001b[0m \u001b[38;5;28;01mexcept\u001b[39;00m \u001b[38;5;167;01mKeyError\u001b[39;00m \u001b[38;5;28;01mas\u001b[39;00m err:\n\u001b[0;32m-> 3655\u001b[0m     \u001b[38;5;28;01mraise\u001b[39;00m \u001b[38;5;167;01mKeyError\u001b[39;00m(key) \u001b[38;5;28;01mfrom\u001b[39;00m \u001b[38;5;21;01merr\u001b[39;00m\n\u001b[1;32m   3656\u001b[0m \u001b[38;5;28;01mexcept\u001b[39;00m \u001b[38;5;167;01mTypeError\u001b[39;00m:\n\u001b[1;32m   3657\u001b[0m     \u001b[38;5;66;03m# If we have a listlike key, _check_indexing_error will raise\u001b[39;00m\n\u001b[1;32m   3658\u001b[0m     \u001b[38;5;66;03m#  InvalidIndexError. Otherwise we fall through and re-raise\u001b[39;00m\n\u001b[1;32m   3659\u001b[0m     \u001b[38;5;66;03m#  the TypeError.\u001b[39;00m\n\u001b[1;32m   3660\u001b[0m     \u001b[38;5;28mself\u001b[39m\u001b[38;5;241m.\u001b[39m_check_indexing_error(key)\n",
      "\u001b[0;31mKeyError\u001b[0m: 'phone'"
     ]
    }
   ],
   "source": [
    "data_df['phone']"
   ]
  },
  {
   "cell_type": "code",
   "execution_count": 25,
   "id": "7dabe369-5a6d-488f-a84a-7d65ddcab573",
   "metadata": {},
   "outputs": [],
   "source": [
    "# User-defined function\n",
    "def get_full_name(pandas_row):\n",
    "    return f'{pandas_row.name} {pandas_row.surname}'"
   ]
  },
  {
   "cell_type": "code",
   "execution_count": 17,
   "id": "3d0e5922-c2b8-427b-9225-50069566f36b",
   "metadata": {},
   "outputs": [],
   "source": [
    "data_df['full_name_double'] = get_full_name(data_df)"
   ]
  },
  {
   "cell_type": "code",
   "execution_count": 26,
   "id": "e457e609-39f2-4927-a8e2-780b6efd1986",
   "metadata": {},
   "outputs": [],
   "source": [
    "data_df['full_name_double_double'] = data_df.apply(get_full_name, axis=1)"
   ]
  },
  {
   "cell_type": "code",
   "execution_count": 27,
   "id": "d0e3e0a5-ae5d-4db9-abfe-f3c411b28469",
   "metadata": {},
   "outputs": [
    {
     "data": {
      "text/html": [
       "<div>\n",
       "<style scoped>\n",
       "    .dataframe tbody tr th:only-of-type {\n",
       "        vertical-align: middle;\n",
       "    }\n",
       "\n",
       "    .dataframe tbody tr th {\n",
       "        vertical-align: top;\n",
       "    }\n",
       "\n",
       "    .dataframe thead th {\n",
       "        text-align: right;\n",
       "    }\n",
       "</style>\n",
       "<table border=\"1\" class=\"dataframe\">\n",
       "  <thead>\n",
       "    <tr style=\"text-align: right;\">\n",
       "      <th></th>\n",
       "      <th>name</th>\n",
       "      <th>surname</th>\n",
       "      <th>age</th>\n",
       "      <th>email</th>\n",
       "      <th>full_name</th>\n",
       "      <th>full_name_double</th>\n",
       "      <th>full_name_double_double</th>\n",
       "    </tr>\n",
       "  </thead>\n",
       "  <tbody>\n",
       "    <tr>\n",
       "      <th>0</th>\n",
       "      <td>Matous</td>\n",
       "      <td>Holinka</td>\n",
       "      <td>11</td>\n",
       "      <td>matous@holinka.cz</td>\n",
       "      <td>Matous Holinka</td>\n",
       "      <td>Matous Holinka</td>\n",
       "      <td>Matous Holinka</td>\n",
       "    </tr>\n",
       "    <tr>\n",
       "      <th>1</th>\n",
       "      <td>Lukas</td>\n",
       "      <td>Holinka</td>\n",
       "      <td>12</td>\n",
       "      <td>lukas.h@gmail.com</td>\n",
       "      <td>Lukas Holinka</td>\n",
       "      <td>Lukas Holinka</td>\n",
       "      <td>Lukas Holinka</td>\n",
       "    </tr>\n",
       "  </tbody>\n",
       "</table>\n",
       "</div>"
      ],
      "text/plain": [
       "     name  surname  age              email       full_name full_name_double  \\\n",
       "0  Matous  Holinka   11  matous@holinka.cz  Matous Holinka   Matous Holinka   \n",
       "1   Lukas  Holinka   12  lukas.h@gmail.com   Lukas Holinka    Lukas Holinka   \n",
       "\n",
       "  full_name_double_double  \n",
       "0          Matous Holinka  \n",
       "1           Lukas Holinka  "
      ]
     },
     "execution_count": 27,
     "metadata": {},
     "output_type": "execute_result"
    }
   ],
   "source": [
    "data_df"
   ]
  },
  {
   "cell_type": "code",
   "execution_count": null,
   "id": "eef67c1a-f2a4-40bc-9fdf-c5121c9528d6",
   "metadata": {},
   "outputs": [],
   "source": [
    "# Create a CSV file"
   ]
  },
  {
   "cell_type": "markdown",
   "id": "fa4c9f93-7d08-45e8-b1c4-22e478998342",
   "metadata": {
    "tags": []
   },
   "source": [
    "<br>\n",
    "\n",
    "## Nekonzistentní data\n",
    "\n",
    "---"
   ]
  },
  {
   "cell_type": "markdown",
   "id": "6542fd12-2b4f-4d4a-86ff-33fb4596bb38",
   "metadata": {},
   "source": [
    "Pokud ti data nechybí, ještě neznamená, že musí být nutně v pořádku:"
   ]
  },
  {
   "cell_type": "code",
   "execution_count": 30,
   "id": "9718bd4b-bb4a-40bb-9593-2ff21c75deb4",
   "metadata": {
    "tags": []
   },
   "outputs": [],
   "source": [
    "from pandas import DataFrame"
   ]
  },
  {
   "cell_type": "code",
   "execution_count": 31,
   "id": "86caa08e-086e-4317-9307-a0baa37ad45d",
   "metadata": {
    "tags": []
   },
   "outputs": [],
   "source": [
    "chybny_dataset = {\n",
    "    \"id\": [111, 112, 113, 114, 115, 116, 117],\n",
    "    \"jmeno\": [\"Matous\", \"Marek\", \"Petr\", \"Filip\", \"Jan\", \"Lukas\", \"David\"],\n",
    "    \"vek\": [22, 29, 31, 55, 43, 61, 55],\n",
    "    \"zeme\": [\"Ceska republika\", \"Slovensko\", \"Nemecko\", \"Ceskarepublika\", \"Ceska Republika\", \"Rakousko\", \"Ceska Reapublika\"]\n",
    "}"
   ]
  },
  {
   "cell_type": "code",
   "execution_count": 32,
   "id": "2f82d0b1-88bf-49e8-a7c2-b28259f5b3f3",
   "metadata": {
    "tags": []
   },
   "outputs": [],
   "source": [
    "df_zamestnanci = DataFrame(chybny_dataset)"
   ]
  },
  {
   "cell_type": "code",
   "execution_count": 33,
   "id": "3e2d3e1e-1226-4d77-a8e5-9970ca5b372d",
   "metadata": {
    "tags": []
   },
   "outputs": [
    {
     "data": {
      "text/html": [
       "<div>\n",
       "<style scoped>\n",
       "    .dataframe tbody tr th:only-of-type {\n",
       "        vertical-align: middle;\n",
       "    }\n",
       "\n",
       "    .dataframe tbody tr th {\n",
       "        vertical-align: top;\n",
       "    }\n",
       "\n",
       "    .dataframe thead th {\n",
       "        text-align: right;\n",
       "    }\n",
       "</style>\n",
       "<table border=\"1\" class=\"dataframe\">\n",
       "  <thead>\n",
       "    <tr style=\"text-align: right;\">\n",
       "      <th></th>\n",
       "      <th>id</th>\n",
       "      <th>jmeno</th>\n",
       "      <th>vek</th>\n",
       "      <th>zeme</th>\n",
       "    </tr>\n",
       "  </thead>\n",
       "  <tbody>\n",
       "    <tr>\n",
       "      <th>0</th>\n",
       "      <td>111</td>\n",
       "      <td>Matous</td>\n",
       "      <td>22</td>\n",
       "      <td>Ceska republika</td>\n",
       "    </tr>\n",
       "    <tr>\n",
       "      <th>1</th>\n",
       "      <td>112</td>\n",
       "      <td>Marek</td>\n",
       "      <td>29</td>\n",
       "      <td>Slovensko</td>\n",
       "    </tr>\n",
       "    <tr>\n",
       "      <th>2</th>\n",
       "      <td>113</td>\n",
       "      <td>Petr</td>\n",
       "      <td>31</td>\n",
       "      <td>Nemecko</td>\n",
       "    </tr>\n",
       "    <tr>\n",
       "      <th>3</th>\n",
       "      <td>114</td>\n",
       "      <td>Filip</td>\n",
       "      <td>55</td>\n",
       "      <td>Ceskarepublika</td>\n",
       "    </tr>\n",
       "    <tr>\n",
       "      <th>4</th>\n",
       "      <td>115</td>\n",
       "      <td>Jan</td>\n",
       "      <td>43</td>\n",
       "      <td>Ceska Republika</td>\n",
       "    </tr>\n",
       "    <tr>\n",
       "      <th>5</th>\n",
       "      <td>116</td>\n",
       "      <td>Lukas</td>\n",
       "      <td>61</td>\n",
       "      <td>Rakousko</td>\n",
       "    </tr>\n",
       "    <tr>\n",
       "      <th>6</th>\n",
       "      <td>117</td>\n",
       "      <td>David</td>\n",
       "      <td>55</td>\n",
       "      <td>Ceska Reapublika</td>\n",
       "    </tr>\n",
       "  </tbody>\n",
       "</table>\n",
       "</div>"
      ],
      "text/plain": [
       "    id   jmeno  vek              zeme\n",
       "0  111  Matous   22   Ceska republika\n",
       "1  112   Marek   29         Slovensko\n",
       "2  113    Petr   31           Nemecko\n",
       "3  114   Filip   55    Ceskarepublika\n",
       "4  115     Jan   43   Ceska Republika\n",
       "5  116   Lukas   61          Rakousko\n",
       "6  117   David   55  Ceska Reapublika"
      ]
     },
     "execution_count": 33,
     "metadata": {},
     "output_type": "execute_result"
    }
   ],
   "source": [
    "df_zamestnanci"
   ]
  },
  {
   "cell_type": "markdown",
   "id": "b5ee1ae7-7332-43e8-a1a2-06958dc68dfc",
   "metadata": {},
   "source": [
    "Různé zdroje, správci můžou způsobit nejednotný zápis a dopustit se *nekonzistence*."
   ]
  },
  {
   "cell_type": "code",
   "execution_count": 34,
   "id": "f6868cbe-cc6d-4e1b-93f4-ffa4b0453b2d",
   "metadata": {
    "tags": []
   },
   "outputs": [
    {
     "data": {
      "text/plain": [
       "array(['Ceska republika', 'Slovensko', 'Nemecko', 'Ceskarepublika',\n",
       "       'Ceska Republika', 'Rakousko', 'Ceska Reapublika'], dtype=object)"
      ]
     },
     "execution_count": 34,
     "metadata": {},
     "output_type": "execute_result"
    }
   ],
   "source": [
    "df_zamestnanci[\"zeme\"].unique()"
   ]
  },
  {
   "cell_type": "markdown",
   "id": "9166d33d-7f61-4fd2-95d4-b52d6955342a",
   "metadata": {},
   "source": [
    "<br>\n",
    "\n",
    "To můžou být jak malá velká písmena, tak různé znaky, chybějící mezery apod.\n",
    "\n",
    "Odstranit je není náročné.\n",
    "\n",
    "Náročné může být opět rozpoznání, takové komplikace."
   ]
  },
  {
   "cell_type": "code",
   "execution_count": 35,
   "id": "69f93841-b899-4a7f-a939-2c2e18548058",
   "metadata": {
    "tags": []
   },
   "outputs": [
    {
     "data": {
      "text/plain": [
       "array(['ceska republika', 'slovensko', 'nemecko', 'ceskarepublika',\n",
       "       'rakousko', 'ceska reapublika'], dtype=object)"
      ]
     },
     "execution_count": 35,
     "metadata": {},
     "output_type": "execute_result"
    }
   ],
   "source": [
    "df_zamestnanci[\"zeme\"].str.lower().unique()"
   ]
  },
  {
   "cell_type": "markdown",
   "id": "583fd726-2e31-44dc-8c65-1ccd52aeb218",
   "metadata": {},
   "source": [
    "<br>\n",
    "\n",
    "Některé chyby, ale můžou způsobit paseku. Třeba chybějící mezery.\n",
    "\n",
    "Tady je nejlepší, pomoci si vhodným nástrojem `fuzzywuzzy`."
   ]
  },
  {
   "cell_type": "code",
   "execution_count": 36,
   "id": "dcdef953-fb71-44c9-aa66-cf42da2e84d9",
   "metadata": {
    "tags": []
   },
   "outputs": [
    {
     "name": "stdout",
     "output_type": "stream",
     "text": [
      "Requirement already satisfied: fuzzywuzzy in /home/matous/projects/bnp_course/dev/lib/python3.8/site-packages (0.18.0)\n"
     ]
    }
   ],
   "source": [
    "!pip install fuzzywuzzy"
   ]
  },
  {
   "cell_type": "code",
   "execution_count": 37,
   "id": "fe38c2f0-c672-4b31-9fda-c1144559e007",
   "metadata": {
    "tags": []
   },
   "outputs": [
    {
     "name": "stderr",
     "output_type": "stream",
     "text": [
      "/home/matous/projects/bnp_course/dev/lib/python3.8/site-packages/fuzzywuzzy/fuzz.py:11: UserWarning: Using slow pure-python SequenceMatcher. Install python-Levenshtein to remove this warning\n",
      "  warnings.warn('Using slow pure-python SequenceMatcher. Install python-Levenshtein to remove this warning')\n"
     ]
    }
   ],
   "source": [
    "import fuzzywuzzy\n",
    "from fuzzywuzzy import process"
   ]
  },
  {
   "cell_type": "markdown",
   "id": "7df96790-5617-4161-b620-17dad29468b8",
   "metadata": {},
   "source": [
    "Pro menší datasety s chybějícími mezerami aj., může tato knihovna pracovat prakticky sama.\n",
    "\n",
    "Účel této knihovny je rozpoznat podobné řetězce, jaké"
   ]
  },
  {
   "cell_type": "code",
   "execution_count": 38,
   "id": "24cd089e-dc6a-46db-9b93-7fb93cbdbaf6",
   "metadata": {},
   "outputs": [
    {
     "data": {
      "text/plain": [
       "array(['ceska republika', 'slovensko', 'nemecko', 'ceskarepublika',\n",
       "       'rakousko', 'ceska reapublika'], dtype=object)"
      ]
     },
     "execution_count": 38,
     "metadata": {},
     "output_type": "execute_result"
    }
   ],
   "source": [
    "df_zamestnanci[\"zeme\"].str.lower().unique()"
   ]
  },
  {
   "cell_type": "code",
   "execution_count": 41,
   "id": "616c0fb0-ebd3-451e-a838-eef1e83d5ea3",
   "metadata": {
    "tags": []
   },
   "outputs": [],
   "source": [
    "shodne = fuzzywuzzy.process.extract(\n",
    "    \"Ceska republika\",\n",
    "    df_zamestnanci[\"zeme\"],\n",
    "    limit=6,\n",
    "    scorer=fuzzywuzzy.fuzz.token_sort_ratio\n",
    ")"
   ]
  },
  {
   "cell_type": "code",
   "execution_count": 44,
   "id": "c8dbd814-eb0f-48ae-b3a3-d23c8d2a2520",
   "metadata": {},
   "outputs": [],
   "source": [
    "# fuzzywuzzy.process.extract?"
   ]
  },
  {
   "cell_type": "code",
   "execution_count": null,
   "id": "d2898a93-7d3d-4fbf-bfdd-306656216bea",
   "metadata": {
    "tags": []
   },
   "outputs": [],
   "source": [
    "df_zamestnanci[\"zeme\"]"
   ]
  },
  {
   "cell_type": "code",
   "execution_count": null,
   "id": "88c5377d-4001-4da9-abc0-bc8276b181b1",
   "metadata": {
    "tags": []
   },
   "outputs": [],
   "source": [
    "df_zamestnanci[\"zeme\"].unique()"
   ]
  },
  {
   "cell_type": "code",
   "execution_count": 47,
   "id": "b5302f5b-9709-479c-b65e-3ff18e883234",
   "metadata": {
    "tags": []
   },
   "outputs": [
    {
     "data": {
      "text/plain": [
       "[('Ceska republika', 100, 0),\n",
       " ('Ceska Republika', 100, 4),\n",
       " ('Ceskarepublika', 97, 3),\n",
       " ('Ceska Reapublika', 97, 6),\n",
       " ('Slovensko', 25, 1),\n",
       " ('Nemecko', 18, 2)]"
      ]
     },
     "execution_count": 47,
     "metadata": {},
     "output_type": "execute_result"
    }
   ],
   "source": [
    "shodne"
   ]
  },
  {
   "cell_type": "markdown",
   "id": "787338f0-fc8d-4983-b008-87777e469c62",
   "metadata": {},
   "source": [
    "Nyní můžeš vidět shodné `str` se zvoleným zadáním, jak to vidí `fuzzywuzzy`.\n",
    "\n",
    "Pro nahrazení je optimální nachystat vhodnou uživatelskou funkci:"
   ]
  },
  {
   "cell_type": "code",
   "execution_count": 48,
   "id": "f0edd01a-09cf-4661-9008-44258d45505d",
   "metadata": {
    "tags": []
   },
   "outputs": [
    {
     "data": {
      "text/plain": [
       "[('Ceska republika', 100, 0),\n",
       " ('Ceska Republika', 100, 4),\n",
       " ('Ceskarepublika', 97, 3),\n",
       " ('Ceska Reapublika', 97, 6),\n",
       " ('Slovensko', 25, 1),\n",
       " ('Nemecko', 18, 2)]"
      ]
     },
     "execution_count": 48,
     "metadata": {},
     "output_type": "execute_result"
    }
   ],
   "source": [
    "shodne"
   ]
  },
  {
   "cell_type": "code",
   "execution_count": 50,
   "id": "2951d178-a9af-4d9e-842b-b431458f7c9a",
   "metadata": {},
   "outputs": [],
   "source": [
    "best_matches = list()\n",
    "\n",
    "for country in shodne:\n",
    "    if country[1] >= 80:\n",
    "        best_matches.append(country)"
   ]
  },
  {
   "cell_type": "code",
   "execution_count": 51,
   "id": "5f4f6844-00ca-48dc-83d8-0bad01bd8693",
   "metadata": {},
   "outputs": [
    {
     "data": {
      "text/plain": [
       "[('Ceska republika', 100, 0),\n",
       " ('Ceska Republika', 100, 4),\n",
       " ('Ceskarepublika', 97, 3),\n",
       " ('Ceska Reapublika', 97, 6)]"
      ]
     },
     "execution_count": 51,
     "metadata": {},
     "output_type": "execute_result"
    }
   ],
   "source": [
    "best_matches"
   ]
  },
  {
   "cell_type": "code",
   "execution_count": null,
   "id": "1908968d-e15a-44d1-a43b-8996121e6848",
   "metadata": {
    "tags": []
   },
   "outputs": [],
   "source": [
    "nejblizsi_shoda = [shoda[0] for shoda in shodne if shoda[1] >= 90]"
   ]
  },
  {
   "cell_type": "code",
   "execution_count": 53,
   "id": "b1c8fbff-74c7-42e0-86e2-61f076129b11",
   "metadata": {
    "tags": []
   },
   "outputs": [],
   "source": [
    "shodujici_udaje = df_zamestnanci[\"zeme\"].isin(best_matches)  # membership testing"
   ]
  },
  {
   "cell_type": "code",
   "execution_count": 54,
   "id": "ce0f02da-f59f-49d0-9abb-02f7f75aaaeb",
   "metadata": {
    "tags": []
   },
   "outputs": [
    {
     "data": {
      "text/plain": [
       "0    False\n",
       "1    False\n",
       "2    False\n",
       "3    False\n",
       "4    False\n",
       "5    False\n",
       "6    False\n",
       "Name: zeme, dtype: bool"
      ]
     },
     "execution_count": 54,
     "metadata": {},
     "output_type": "execute_result"
    }
   ],
   "source": [
    "shodujici_udaje"
   ]
  },
  {
   "cell_type": "code",
   "execution_count": null,
   "id": "3051c069-682e-4fc8-8672-5addf467a2dc",
   "metadata": {
    "tags": []
   },
   "outputs": [],
   "source": [
    "df_zamestnanci"
   ]
  },
  {
   "cell_type": "code",
   "execution_count": 55,
   "id": "aca600a2-dcab-409f-b262-a0c26acb96b6",
   "metadata": {},
   "outputs": [
    {
     "data": {
      "text/plain": [
       "Series([], Name: zeme, dtype: object)"
      ]
     },
     "execution_count": 55,
     "metadata": {},
     "output_type": "execute_result"
    }
   ],
   "source": [
    "df_zamestnanci.loc[shodujici_udaje, \"zeme\"]"
   ]
  },
  {
   "cell_type": "code",
   "execution_count": 56,
   "id": "e74bcdb9-c7cf-48c9-ae15-996767744a78",
   "metadata": {
    "tags": []
   },
   "outputs": [],
   "source": [
    "vysledek = df_zamestnanci.loc[shodujici_udaje, \"zeme\"] = \"Ceska republika\""
   ]
  },
  {
   "cell_type": "code",
   "execution_count": 57,
   "id": "ca9816c3-12bc-4163-88a8-ce4cc5d1e159",
   "metadata": {
    "tags": []
   },
   "outputs": [
    {
     "data": {
      "text/html": [
       "<div>\n",
       "<style scoped>\n",
       "    .dataframe tbody tr th:only-of-type {\n",
       "        vertical-align: middle;\n",
       "    }\n",
       "\n",
       "    .dataframe tbody tr th {\n",
       "        vertical-align: top;\n",
       "    }\n",
       "\n",
       "    .dataframe thead th {\n",
       "        text-align: right;\n",
       "    }\n",
       "</style>\n",
       "<table border=\"1\" class=\"dataframe\">\n",
       "  <thead>\n",
       "    <tr style=\"text-align: right;\">\n",
       "      <th></th>\n",
       "      <th>id</th>\n",
       "      <th>jmeno</th>\n",
       "      <th>vek</th>\n",
       "      <th>zeme</th>\n",
       "    </tr>\n",
       "  </thead>\n",
       "  <tbody>\n",
       "    <tr>\n",
       "      <th>0</th>\n",
       "      <td>111</td>\n",
       "      <td>Matous</td>\n",
       "      <td>22</td>\n",
       "      <td>Ceska republika</td>\n",
       "    </tr>\n",
       "    <tr>\n",
       "      <th>1</th>\n",
       "      <td>112</td>\n",
       "      <td>Marek</td>\n",
       "      <td>29</td>\n",
       "      <td>Slovensko</td>\n",
       "    </tr>\n",
       "    <tr>\n",
       "      <th>2</th>\n",
       "      <td>113</td>\n",
       "      <td>Petr</td>\n",
       "      <td>31</td>\n",
       "      <td>Nemecko</td>\n",
       "    </tr>\n",
       "    <tr>\n",
       "      <th>3</th>\n",
       "      <td>114</td>\n",
       "      <td>Filip</td>\n",
       "      <td>55</td>\n",
       "      <td>Ceskarepublika</td>\n",
       "    </tr>\n",
       "    <tr>\n",
       "      <th>4</th>\n",
       "      <td>115</td>\n",
       "      <td>Jan</td>\n",
       "      <td>43</td>\n",
       "      <td>Ceska Republika</td>\n",
       "    </tr>\n",
       "    <tr>\n",
       "      <th>5</th>\n",
       "      <td>116</td>\n",
       "      <td>Lukas</td>\n",
       "      <td>61</td>\n",
       "      <td>Rakousko</td>\n",
       "    </tr>\n",
       "    <tr>\n",
       "      <th>6</th>\n",
       "      <td>117</td>\n",
       "      <td>David</td>\n",
       "      <td>55</td>\n",
       "      <td>Ceska Reapublika</td>\n",
       "    </tr>\n",
       "  </tbody>\n",
       "</table>\n",
       "</div>"
      ],
      "text/plain": [
       "    id   jmeno  vek              zeme\n",
       "0  111  Matous   22   Ceska republika\n",
       "1  112   Marek   29         Slovensko\n",
       "2  113    Petr   31           Nemecko\n",
       "3  114   Filip   55    Ceskarepublika\n",
       "4  115     Jan   43   Ceska Republika\n",
       "5  116   Lukas   61          Rakousko\n",
       "6  117   David   55  Ceska Reapublika"
      ]
     },
     "execution_count": 57,
     "metadata": {},
     "output_type": "execute_result"
    }
   ],
   "source": [
    "df_zamestnanci"
   ]
  },
  {
   "cell_type": "code",
   "execution_count": 61,
   "id": "d3730c4a-5a0a-4b02-b697-d10a7657c316",
   "metadata": {},
   "outputs": [],
   "source": [
    "a = set(['aa', 'bb', 'cc'])\n",
    "b = set(['aa', 'ba', 'ca'])"
   ]
  },
  {
   "cell_type": "code",
   "execution_count": 63,
   "id": "5ae0bba7-d07b-4798-9e34-aabaf3105fd8",
   "metadata": {},
   "outputs": [
    {
     "name": "stdout",
     "output_type": "stream",
     "text": [
      "{'ca', 'ba'}\n"
     ]
    }
   ],
   "source": [
    "print(b.difference(a))"
   ]
  },
  {
   "cell_type": "code",
   "execution_count": 58,
   "id": "1134d0a2-6498-4b55-b8d0-48f2297345d1",
   "metadata": {
    "tags": []
   },
   "outputs": [],
   "source": [
    "def nahrad_shody_stringem(dframe, jmeno_sloupce, vzor, min_shoda=90):\n",
    "    \n",
    "    vsechny_stringy = dframe[jmeno_sloupce].unique()\n",
    "    \n",
    "    shody = fuzzywuzzy.process.extract(vzor, vsechny_stringy, limit=5,\n",
    "                                       scorer=fuzzywuzzy.fuzz.token_sort_ratio)\n",
    "    \n",
    "    nejblizsi_shoda = [shoda [0] for shoda in shody if shoda[1] >= min_shoda]\n",
    "    \n",
    "    shodujici_zaznam = dframe[jmeno_sloupce].isin(nejblizsi_shoda)\n",
    "    \n",
    "    dframe.loc[shodujici_zaznam, jmeno_sloupce] = vzor"
   ]
  },
  {
   "cell_type": "code",
   "execution_count": 59,
   "id": "a1996a49-d0f0-4150-a06f-88657b40f05b",
   "metadata": {
    "tags": []
   },
   "outputs": [],
   "source": [
    "nahrad_shody_stringem(dframe=df_zamestnanci,\n",
    "                      jmeno_sloupce=\"zeme\",\n",
    "                      vzor=\"Ceska republika\")"
   ]
  },
  {
   "cell_type": "code",
   "execution_count": 60,
   "id": "ee6dfae2-63b0-4d35-8ccb-4079cb176178",
   "metadata": {
    "tags": []
   },
   "outputs": [
    {
     "data": {
      "text/html": [
       "<div>\n",
       "<style scoped>\n",
       "    .dataframe tbody tr th:only-of-type {\n",
       "        vertical-align: middle;\n",
       "    }\n",
       "\n",
       "    .dataframe tbody tr th {\n",
       "        vertical-align: top;\n",
       "    }\n",
       "\n",
       "    .dataframe thead th {\n",
       "        text-align: right;\n",
       "    }\n",
       "</style>\n",
       "<table border=\"1\" class=\"dataframe\">\n",
       "  <thead>\n",
       "    <tr style=\"text-align: right;\">\n",
       "      <th></th>\n",
       "      <th>id</th>\n",
       "      <th>jmeno</th>\n",
       "      <th>vek</th>\n",
       "      <th>zeme</th>\n",
       "    </tr>\n",
       "  </thead>\n",
       "  <tbody>\n",
       "    <tr>\n",
       "      <th>0</th>\n",
       "      <td>111</td>\n",
       "      <td>Matous</td>\n",
       "      <td>22</td>\n",
       "      <td>Ceska republika</td>\n",
       "    </tr>\n",
       "    <tr>\n",
       "      <th>1</th>\n",
       "      <td>112</td>\n",
       "      <td>Marek</td>\n",
       "      <td>29</td>\n",
       "      <td>Slovensko</td>\n",
       "    </tr>\n",
       "    <tr>\n",
       "      <th>2</th>\n",
       "      <td>113</td>\n",
       "      <td>Petr</td>\n",
       "      <td>31</td>\n",
       "      <td>Nemecko</td>\n",
       "    </tr>\n",
       "    <tr>\n",
       "      <th>3</th>\n",
       "      <td>114</td>\n",
       "      <td>Filip</td>\n",
       "      <td>55</td>\n",
       "      <td>Ceska republika</td>\n",
       "    </tr>\n",
       "    <tr>\n",
       "      <th>4</th>\n",
       "      <td>115</td>\n",
       "      <td>Jan</td>\n",
       "      <td>43</td>\n",
       "      <td>Ceska republika</td>\n",
       "    </tr>\n",
       "    <tr>\n",
       "      <th>5</th>\n",
       "      <td>116</td>\n",
       "      <td>Lukas</td>\n",
       "      <td>61</td>\n",
       "      <td>Rakousko</td>\n",
       "    </tr>\n",
       "    <tr>\n",
       "      <th>6</th>\n",
       "      <td>117</td>\n",
       "      <td>David</td>\n",
       "      <td>55</td>\n",
       "      <td>Ceska republika</td>\n",
       "    </tr>\n",
       "  </tbody>\n",
       "</table>\n",
       "</div>"
      ],
      "text/plain": [
       "    id   jmeno  vek             zeme\n",
       "0  111  Matous   22  Ceska republika\n",
       "1  112   Marek   29        Slovensko\n",
       "2  113    Petr   31          Nemecko\n",
       "3  114   Filip   55  Ceska republika\n",
       "4  115     Jan   43  Ceska republika\n",
       "5  116   Lukas   61         Rakousko\n",
       "6  117   David   55  Ceska republika"
      ]
     },
     "execution_count": 60,
     "metadata": {},
     "output_type": "execute_result"
    }
   ],
   "source": [
    "df_zamestnanci"
   ]
  },
  {
   "cell_type": "code",
   "execution_count": null,
   "id": "e124c1e3-6e59-4a75-a1c9-d62e4f86bf65",
   "metadata": {},
   "outputs": [],
   "source": []
  },
  {
   "cell_type": "markdown",
   "id": "30150a6c-9e32-4972-bc42-5ce43d4bd698",
   "metadata": {},
   "source": [
    "<br>\n",
    "\n",
    "#### **🧠 CVIČENÍ 🧠, procvič si časové řady**"
   ]
  },
  {
   "cell_type": "markdown",
   "id": "80425227-7f98-4146-b1c0-eaa2ee896583",
   "metadata": {},
   "source": [
    "1. **Vytvoření časové řady**: Pomocí funkce `date_range`, vytvořte časovou řadu od **1. ledna 2024** do **31. prosince 2024** s frekvencí jeden den,\n",
    "\n",
    "*~Create a Time Series: Using the date_range function, create a time series starting from January 1, 2023, to December 31, 2023, with a daily frequency.*\n",
    "\n",
    "2. **Transformace řady:** Konvertujte list stringů reprezentujících různé formáty datumů (např. `['2023-01-01', '2023-02-01', '2023-03-15']`) na objekty datetime pomocí `to_datetime`.\n",
    "\n",
    "*~Transform Series: Convert a list of strings representing dates in various formats (e.g., '2023-01-01', '1 Feb 2023', '03/15/2023') into datetime objects using to_datetime.*\n",
    "\n",
    "3. **Změna frekvence:** Použijte metodu `resample` na původní časovou řadu, abyste změnili frekvenci na měsíční,\n",
    "\n",
    "*~Frequency Modification: Apply the resample method to the original time series to change the frequency to monthly*\n",
    "\n",
    "4. **Analýza:** Vyberte a zobrazte pouze ty daty, které odpovídají začátku každého čtvrtletí.\n",
    "\n",
    "*~Analysis: Select and display only the dates that correspond to the beginning of each quarter.*"
   ]
  },
  {
   "cell_type": "code",
   "execution_count": 64,
   "id": "580e3019-cdbd-4080-a1cb-6ddeef50dc7e",
   "metadata": {},
   "outputs": [],
   "source": [
    "import pandas as pd\n",
    "import numpy as np"
   ]
  },
  {
   "cell_type": "code",
   "execution_count": 74,
   "id": "ca54fe9a-be88-4a76-adba-a922a5dfae92",
   "metadata": {},
   "outputs": [],
   "source": [
    "daily_dates = pd.date_range(start='2024/01/01', end='2024/12/31', freq='D')"
   ]
  },
  {
   "cell_type": "code",
   "execution_count": 75,
   "id": "5967489d-b1fe-47b5-96a9-2fb9c0218e59",
   "metadata": {},
   "outputs": [
    {
     "data": {
      "text/plain": [
       "DatetimeIndex(['2024-01-01', '2024-01-02', '2024-01-03', '2024-01-04',\n",
       "               '2024-01-05', '2024-01-06', '2024-01-07', '2024-01-08',\n",
       "               '2024-01-09', '2024-01-10',\n",
       "               ...\n",
       "               '2024-12-22', '2024-12-23', '2024-12-24', '2024-12-25',\n",
       "               '2024-12-26', '2024-12-27', '2024-12-28', '2024-12-29',\n",
       "               '2024-12-30', '2024-12-31'],\n",
       "              dtype='datetime64[ns]', length=366, freq='D')"
      ]
     },
     "execution_count": 75,
     "metadata": {},
     "output_type": "execute_result"
    }
   ],
   "source": [
    "daily_dates"
   ]
  },
  {
   "cell_type": "code",
   "execution_count": 71,
   "id": "41796b34-c5f3-4b0e-9d43-503ff0f436d9",
   "metadata": {},
   "outputs": [],
   "source": [
    "# pd.date_range?"
   ]
  },
  {
   "cell_type": "code",
   "execution_count": 76,
   "id": "fbc53087-cc68-4ad4-854f-2f481e8de3d5",
   "metadata": {},
   "outputs": [],
   "source": [
    "date_strings = ['2023-01-01', '2023-02-01', '2023-03-15']"
   ]
  },
  {
   "cell_type": "code",
   "execution_count": 77,
   "id": "2cd4c8d7-8a3f-4206-9e8d-808967e34ca2",
   "metadata": {},
   "outputs": [],
   "source": [
    "date_datetimes = pd.to_datetime(date_strings, format='%Y-%m-%d')"
   ]
  },
  {
   "cell_type": "code",
   "execution_count": 78,
   "id": "bd9b890f-8d25-4298-9d26-ea93e58cd54c",
   "metadata": {},
   "outputs": [
    {
     "data": {
      "text/plain": [
       "DatetimeIndex(['2023-01-01', '2023-02-01', '2023-03-15'], dtype='datetime64[ns]', freq=None)"
      ]
     },
     "execution_count": 78,
     "metadata": {},
     "output_type": "execute_result"
    }
   ],
   "source": [
    "date_datetimes"
   ]
  },
  {
   "cell_type": "code",
   "execution_count": 79,
   "id": "5b43cd5f-a533-4efe-a6d9-d701ec1b15b1",
   "metadata": {},
   "outputs": [],
   "source": [
    "daily_sales_data = np.random.randint(10, 100, size=(len(daily_dates),))"
   ]
  },
  {
   "cell_type": "code",
   "execution_count": 80,
   "id": "5a7bb67a-64b8-4014-9b2c-6a6db15e85f5",
   "metadata": {},
   "outputs": [],
   "source": [
    "daily_sales_df = DataFrame({'Date': daily_dates, 'Sales': daily_sales_data})"
   ]
  },
  {
   "cell_type": "code",
   "execution_count": 81,
   "id": "b821194d-7d5f-4954-a792-1b1f431c2661",
   "metadata": {},
   "outputs": [
    {
     "data": {
      "text/html": [
       "<div>\n",
       "<style scoped>\n",
       "    .dataframe tbody tr th:only-of-type {\n",
       "        vertical-align: middle;\n",
       "    }\n",
       "\n",
       "    .dataframe tbody tr th {\n",
       "        vertical-align: top;\n",
       "    }\n",
       "\n",
       "    .dataframe thead th {\n",
       "        text-align: right;\n",
       "    }\n",
       "</style>\n",
       "<table border=\"1\" class=\"dataframe\">\n",
       "  <thead>\n",
       "    <tr style=\"text-align: right;\">\n",
       "      <th></th>\n",
       "      <th>Date</th>\n",
       "      <th>Sales</th>\n",
       "    </tr>\n",
       "  </thead>\n",
       "  <tbody>\n",
       "    <tr>\n",
       "      <th>0</th>\n",
       "      <td>2024-01-01</td>\n",
       "      <td>24</td>\n",
       "    </tr>\n",
       "    <tr>\n",
       "      <th>1</th>\n",
       "      <td>2024-01-02</td>\n",
       "      <td>52</td>\n",
       "    </tr>\n",
       "    <tr>\n",
       "      <th>2</th>\n",
       "      <td>2024-01-03</td>\n",
       "      <td>36</td>\n",
       "    </tr>\n",
       "    <tr>\n",
       "      <th>3</th>\n",
       "      <td>2024-01-04</td>\n",
       "      <td>70</td>\n",
       "    </tr>\n",
       "    <tr>\n",
       "      <th>4</th>\n",
       "      <td>2024-01-05</td>\n",
       "      <td>72</td>\n",
       "    </tr>\n",
       "  </tbody>\n",
       "</table>\n",
       "</div>"
      ],
      "text/plain": [
       "        Date  Sales\n",
       "0 2024-01-01     24\n",
       "1 2024-01-02     52\n",
       "2 2024-01-03     36\n",
       "3 2024-01-04     70\n",
       "4 2024-01-05     72"
      ]
     },
     "execution_count": 81,
     "metadata": {},
     "output_type": "execute_result"
    }
   ],
   "source": [
    "daily_sales_df.head()"
   ]
  },
  {
   "cell_type": "code",
   "execution_count": 83,
   "id": "41f83797-1bfb-4acf-8494-43f147145bbe",
   "metadata": {},
   "outputs": [],
   "source": [
    "daily_sales_df.set_index('Date', inplace=True)"
   ]
  },
  {
   "cell_type": "code",
   "execution_count": 85,
   "id": "035f4564-c784-4178-b4b9-570a3ce0b70b",
   "metadata": {},
   "outputs": [
    {
     "data": {
      "text/html": [
       "<div>\n",
       "<style scoped>\n",
       "    .dataframe tbody tr th:only-of-type {\n",
       "        vertical-align: middle;\n",
       "    }\n",
       "\n",
       "    .dataframe tbody tr th {\n",
       "        vertical-align: top;\n",
       "    }\n",
       "\n",
       "    .dataframe thead th {\n",
       "        text-align: right;\n",
       "    }\n",
       "</style>\n",
       "<table border=\"1\" class=\"dataframe\">\n",
       "  <thead>\n",
       "    <tr style=\"text-align: right;\">\n",
       "      <th></th>\n",
       "      <th>Sales</th>\n",
       "    </tr>\n",
       "    <tr>\n",
       "      <th>Date</th>\n",
       "      <th></th>\n",
       "    </tr>\n",
       "  </thead>\n",
       "  <tbody>\n",
       "    <tr>\n",
       "      <th>2024-01-01</th>\n",
       "      <td>24</td>\n",
       "    </tr>\n",
       "    <tr>\n",
       "      <th>2024-01-02</th>\n",
       "      <td>52</td>\n",
       "    </tr>\n",
       "    <tr>\n",
       "      <th>2024-01-03</th>\n",
       "      <td>36</td>\n",
       "    </tr>\n",
       "    <tr>\n",
       "      <th>2024-01-04</th>\n",
       "      <td>70</td>\n",
       "    </tr>\n",
       "    <tr>\n",
       "      <th>2024-01-05</th>\n",
       "      <td>72</td>\n",
       "    </tr>\n",
       "    <tr>\n",
       "      <th>...</th>\n",
       "      <td>...</td>\n",
       "    </tr>\n",
       "    <tr>\n",
       "      <th>2024-12-27</th>\n",
       "      <td>15</td>\n",
       "    </tr>\n",
       "    <tr>\n",
       "      <th>2024-12-28</th>\n",
       "      <td>97</td>\n",
       "    </tr>\n",
       "    <tr>\n",
       "      <th>2024-12-29</th>\n",
       "      <td>68</td>\n",
       "    </tr>\n",
       "    <tr>\n",
       "      <th>2024-12-30</th>\n",
       "      <td>25</td>\n",
       "    </tr>\n",
       "    <tr>\n",
       "      <th>2024-12-31</th>\n",
       "      <td>12</td>\n",
       "    </tr>\n",
       "  </tbody>\n",
       "</table>\n",
       "<p>366 rows × 1 columns</p>\n",
       "</div>"
      ],
      "text/plain": [
       "            Sales\n",
       "Date             \n",
       "2024-01-01     24\n",
       "2024-01-02     52\n",
       "2024-01-03     36\n",
       "2024-01-04     70\n",
       "2024-01-05     72\n",
       "...           ...\n",
       "2024-12-27     15\n",
       "2024-12-28     97\n",
       "2024-12-29     68\n",
       "2024-12-30     25\n",
       "2024-12-31     12\n",
       "\n",
       "[366 rows x 1 columns]"
      ]
     },
     "execution_count": 85,
     "metadata": {},
     "output_type": "execute_result"
    }
   ],
   "source": [
    "daily_sales_df"
   ]
  },
  {
   "cell_type": "code",
   "execution_count": 86,
   "id": "9723f468-83f8-4ce1-9591-32ef04b80981",
   "metadata": {},
   "outputs": [],
   "source": [
    "monthly_series = daily_sales_df.resample('M').sum()"
   ]
  },
  {
   "cell_type": "code",
   "execution_count": 87,
   "id": "5475ac21-82b4-49f4-9f9c-6a334eaf212a",
   "metadata": {},
   "outputs": [
    {
     "data": {
      "text/html": [
       "<div>\n",
       "<style scoped>\n",
       "    .dataframe tbody tr th:only-of-type {\n",
       "        vertical-align: middle;\n",
       "    }\n",
       "\n",
       "    .dataframe tbody tr th {\n",
       "        vertical-align: top;\n",
       "    }\n",
       "\n",
       "    .dataframe thead th {\n",
       "        text-align: right;\n",
       "    }\n",
       "</style>\n",
       "<table border=\"1\" class=\"dataframe\">\n",
       "  <thead>\n",
       "    <tr style=\"text-align: right;\">\n",
       "      <th></th>\n",
       "      <th>Sales</th>\n",
       "    </tr>\n",
       "    <tr>\n",
       "      <th>Date</th>\n",
       "      <th></th>\n",
       "    </tr>\n",
       "  </thead>\n",
       "  <tbody>\n",
       "    <tr>\n",
       "      <th>2024-01-31</th>\n",
       "      <td>1558</td>\n",
       "    </tr>\n",
       "    <tr>\n",
       "      <th>2024-02-29</th>\n",
       "      <td>1690</td>\n",
       "    </tr>\n",
       "    <tr>\n",
       "      <th>2024-03-31</th>\n",
       "      <td>1652</td>\n",
       "    </tr>\n",
       "    <tr>\n",
       "      <th>2024-04-30</th>\n",
       "      <td>1824</td>\n",
       "    </tr>\n",
       "    <tr>\n",
       "      <th>2024-05-31</th>\n",
       "      <td>1848</td>\n",
       "    </tr>\n",
       "    <tr>\n",
       "      <th>2024-06-30</th>\n",
       "      <td>1617</td>\n",
       "    </tr>\n",
       "    <tr>\n",
       "      <th>2024-07-31</th>\n",
       "      <td>1882</td>\n",
       "    </tr>\n",
       "    <tr>\n",
       "      <th>2024-08-31</th>\n",
       "      <td>1596</td>\n",
       "    </tr>\n",
       "    <tr>\n",
       "      <th>2024-09-30</th>\n",
       "      <td>1567</td>\n",
       "    </tr>\n",
       "    <tr>\n",
       "      <th>2024-10-31</th>\n",
       "      <td>1687</td>\n",
       "    </tr>\n",
       "    <tr>\n",
       "      <th>2024-11-30</th>\n",
       "      <td>1624</td>\n",
       "    </tr>\n",
       "    <tr>\n",
       "      <th>2024-12-31</th>\n",
       "      <td>1414</td>\n",
       "    </tr>\n",
       "  </tbody>\n",
       "</table>\n",
       "</div>"
      ],
      "text/plain": [
       "            Sales\n",
       "Date             \n",
       "2024-01-31   1558\n",
       "2024-02-29   1690\n",
       "2024-03-31   1652\n",
       "2024-04-30   1824\n",
       "2024-05-31   1848\n",
       "2024-06-30   1617\n",
       "2024-07-31   1882\n",
       "2024-08-31   1596\n",
       "2024-09-30   1567\n",
       "2024-10-31   1687\n",
       "2024-11-30   1624\n",
       "2024-12-31   1414"
      ]
     },
     "execution_count": 87,
     "metadata": {},
     "output_type": "execute_result"
    }
   ],
   "source": [
    "monthly_series"
   ]
  },
  {
   "cell_type": "markdown",
   "id": "6addaca4-1fb0-42e1-99f7-a27e8690fe2c",
   "metadata": {},
   "source": [
    "<details>\n",
    "    <summary>▶️ Řešení</summary>\n",
    "    \n",
    "```python\n",
    "import pandas as pd\n",
    "import numpy as np\n",
    "\n",
    "daily_series = pd.date_range(start='2023-01-01', end='2023-12-31', freq='D')\n",
    "daily_sales_data = np.random.randint(10, 100, size=(len(daily_series),))\n",
    "daily_sales_df = DataFrame({'Date': daily_series, 'Sales': daily_sales_data})\n",
    "print(daily_sales_df)\n",
    "\n",
    "date_strings = ['2023-01-01', '2023-02-01', '2023-03-15']\n",
    "datetime_objects = pd.to_datetime(date_strings, format='%Y-%m-%d')\n",
    "print(datetime_objects)\n",
    "\n",
    "daily_sales_df = DataFrame({'Date': daily_series, 'Sales': daily_sales_data})\n",
    "daily_sales_df.set_index('Date', inplace=True)\n",
    "monthly_series = daily_sales_df.resample('M').sum()\n",
    "\n",
    "quarterly_start = daily_sales_df[daily_sales_df.index.month.isin([1, 4, 7, 10])]\n",
    "print(quarterly_start)\n",
    "```\n",
    "</details>"
   ]
  },
  {
   "cell_type": "markdown",
   "id": "8b23dd89-62ee-446a-8de8-d3be043aec81",
   "metadata": {},
   "source": [
    "<br>\n",
    "\n",
    "#### **🧠 CVIČENÍ 🧠, procvič si práci s chybným datasetem**"
   ]
  },
  {
   "cell_type": "markdown",
   "id": "fca2282e-5370-4524-9f2e-c75f7a728162",
   "metadata": {
    "tags": []
   },
   "source": [
    "Analyzuj prodeje produktu ve fiktivní společnosti během jednoho roku a zjisti následující:\n",
    "\n",
    "*Analyze the sales of a product in a fictitious company over a year and find out the following*\n",
    "\n",
    "<br>\n",
    "\n",
    "1. Nahraj soubor do `DataFrame`, jméno souboru `cviceni_3.csv` (správný encoding, správné rozdělení), *~Upload the file to DataFrame, file name cviceni_3.csv (correct encoding, correct distribution),*\n",
    "\n",
    "<br>\n",
    "\n",
    "2. projdi sloupce, zkontroluj, kde je problém s daty, *~go through the columns, check where the problem is with the data,*\n",
    "\n",
    "<br>\n",
    "\n",
    "3. vypiš všechny záznamy, které mají ve sloupci `mesto` hodnotu `Praha`. *~list all records that have the value Prague in the city column.*"
   ]
  },
  {
   "cell_type": "code",
   "execution_count": null,
   "id": "57730efe-d4f7-47a1-9099-d9eaf4cd76e4",
   "metadata": {
    "tags": []
   },
   "outputs": [],
   "source": [
    "from pandas import read_csv"
   ]
  },
  {
   "cell_type": "code",
   "execution_count": null,
   "id": "9bc75809-4e38-4b9c-8507-6cf8d29d823c",
   "metadata": {
    "tags": []
   },
   "outputs": [],
   "source": [
    "cviceni_3_df = read_csv(\"../exercises/cviceni_3.csv\")  # ??? Doplnit delší zdr. soubor (fce Download)"
   ]
  },
  {
   "cell_type": "code",
   "execution_count": null,
   "id": "5b467be3-8ee5-4a3d-a3f5-be47a7b1b522",
   "metadata": {},
   "outputs": [],
   "source": [
    "import pandas\n",
    "# import re\n",
    "import fuzzywuzzy\n",
    "from fuzzywuzzy import process"
   ]
  },
  {
   "cell_type": "code",
   "execution_count": null,
   "id": "584b0369-7da9-4e27-a23b-ea83b7f82afa",
   "metadata": {},
   "outputs": [],
   "source": []
  },
  {
   "cell_type": "markdown",
   "id": "43487b1b-91ee-4308-9c39-672290741eab",
   "metadata": {},
   "source": [
    "<details>\n",
    "    <summary>▶️ Řešení</summary>\n",
    "    \n",
    "```python\n",
    "df_ukazka = read_csv(\"cviceni_3.csv\", encoding=\"Windows-1250\", delimiter=\";\")\n",
    "\n",
    "def nahrad_shody_stringem(df, vzor, vyber, min_shoda=85):\n",
    "    shody = fuzzywuzzy.process.extract(vzor, vyber, limit=20,\n",
    "                                       scorer=fuzzywuzzy.fuzz.token_sort_ratio)\n",
    "\n",
    "    nejblizsi_shoda = [shoda[0] for shoda in shody if shoda[1] >= min_shoda]\n",
    "\n",
    "    shodujici_zaznam = vyber.isin(nejblizsi_shoda)\n",
    "    df.loc[shodujici_zaznam, \"mesto\"] = vzor\n",
    "    \n",
    "nahrad_shody_stringem(df_ukazka, \"Praha\", df_ukazka[\"mesto\"])\n",
    "vystup = df_ukazka[df_ukazka[\"mesto\"] == \"Praha\"]\n",
    "\n",
    "\n",
    "# data = pd.read_csv(\n",
    "    # 'C:\\\\Users\\\\je97214\\\\Desktop\\\\cviceni_3.csv',\n",
    "    # encoding = 'cp1250',\n",
    "    # sep = ';'\n",
    "# )\n",
    "\n",
    "# def nahrad_shody_stringem(dframe, sloupec, vzor, min_shoda=60):\n",
    "#     vsechny_stringy = dframe[sloupec].unique()\n",
    "#     shody = fuzzywuzzy.process.extract(vzor, vsechny_stringy, limit=5, scorer=fuzzywuzzy.fuzz.token_sort_ratio)\n",
    "#     nejblizsi_shoda = [shoda [0] for shoda in shody if shoda[1] >= min_shoda]\n",
    "#     shodujici_zaznam = dframe[sloupec].isin(nejblizsi_shoda)\n",
    "#     dframe.loc[shodujici_zaznam, sloupec] = vzor\n",
    "\n",
    "# print( 'Problémy s daty:' )\n",
    "# display( data[~data['narozeni'].str.contains('\\\\d{1,2}/\\\\d{1,2}/\\\\d{4}', regex= True, na=False)] )\n",
    "# display( data['mesto'].unique( ) )\n",
    "\n",
    "#oprava narození\n",
    "# data['narozeni'] = data['narozeni'].astype( 'datetime64' )\n",
    "# #oprava města\n",
    "# nahrad_shody_stringem(dframe=data, sloupec=\"mesto\", vzor=\"Praha\")\n",
    "# print( 'Výsledek:' )\n",
    "# data.query( \"mesto == 'Praha'\" )\n",
    "```\n",
    "</details>"
   ]
  },
  {
   "cell_type": "markdown",
   "id": "09459713-4521-4110-b322-028aef4d5602",
   "metadata": {},
   "source": [
    "---"
   ]
  }
 ],
 "metadata": {
  "kernelspec": {
   "display_name": "Python 3 (ipykernel)",
   "language": "python",
   "name": "python3"
  },
  "language_info": {
   "codemirror_mode": {
    "name": "ipython",
    "version": 3
   },
   "file_extension": ".py",
   "mimetype": "text/x-python",
   "name": "python",
   "nbconvert_exporter": "python",
   "pygments_lexer": "ipython3",
   "version": "3.8.10"
  }
 },
 "nbformat": 4,
 "nbformat_minor": 5
}
