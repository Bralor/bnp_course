{
 "cells": [
  {
   "cell_type": "markdown",
   "metadata": {},
   "source": [
    "# Python akademie\n",
    "\n",
    "<br>\n",
    "\n",
    "## Obsah lekce\n",
    "\n",
    "---"
   ]
  },
  {
   "cell_type": "markdown",
   "metadata": {},
   "source": [
    "1. [Další datové typy](##Další-datové-typy),\n",
    "2. [Datový typ dictionary](#Datový-typ-dict-(~dictionary)),\n",
    "3. [Datový typ set](#Datový-typ-set),\n",
    "4. [Datový typ frozenset](#Datový-typ-frozenset),\n",
    "5. [Volitelné argumenty](#Volitelné-argumenty),\n",
    "5. [Domácí úkol](#Domácí-úkol)."
   ]
  },
  {
   "cell_type": "markdown",
   "metadata": {},
   "source": [
    "<img src=\"https://external-content.duckduckgo.com/iu/?u=https%3A%2F%2Ftse1.mm.bing.net%2Fth%3Fid%3DOIP.RbCdrSpe208dpm4QsfhhhwHaGL%26pid%3DApi&f=1&ipt=0cb87e93ae327ef0f85f12f5e92e5104f67410c32a9277390d3f6bb4e838004e&ipo=images\" width=\"400\" style=\"margin-left:auto; margin-right:auto\" />"
   ]
  },
  {
   "cell_type": "markdown",
   "metadata": {},
   "source": [
    "## Další datové typy\n",
    "\n",
    "---\n",
    "\n",
    "Zatím znáš pouze několik vybraných **datových typů** (`int`, `float`, `str`, `list`, `tuple`, `bool`).\n",
    "\n",
    "Umožní ti jednoduše pracovat při různých situacích.\n",
    "\n",
    "Co když budeš potřebovat přistupovat k údajům v sekvenci *lépe* nebo *exaktněji*, než **pomocí indexů**:"
   ]
  },
  {
   "cell_type": "code",
   "execution_count": null,
   "metadata": {},
   "outputs": [],
   "source": [
    "udaje = (\"Matouš\", \"Holinka\", \"matous@holinka.com\", \"+420 777 666 555\")"
   ]
  },
  {
   "cell_type": "code",
   "execution_count": null,
   "metadata": {},
   "outputs": [],
   "source": [
    "print(udaje[0])"
   ]
  },
  {
   "cell_type": "markdown",
   "metadata": {},
   "source": [
    "<br>\n",
    "\n",
    "..nebo má *sekvence* stovky indexů a v takovém případě se dříve upočítáš."
   ]
  },
  {
   "cell_type": "markdown",
   "metadata": {},
   "source": [
    "Co když máš dlouhou sekvenci, kde potřebuješ pracovat pouze **s unikátními hodnotami**:"
   ]
  },
  {
   "cell_type": "code",
   "execution_count": null,
   "metadata": {},
   "outputs": [],
   "source": [
    "emaily = [\n",
    "    'h.vybíralová@firma.cz', 'w.štrumlová@firma.cz', 'm.vybíralová@firma.cz',\n",
    "    's.bechyňka@firma.cz', 'z.urbánková@firma.cz', 'l.riečan@firma.cz',\n",
    "    'v.koudelová@firma.cz', 'f.vorlová@firma.cz', 'i.seleš@firma.cz',\n",
    "    'm.železný@firma.cz', 'p.niklesová@firma.cz', 'b.skok@firma.cz',\n",
    "    'j.šmíd@firma.cz', 'j.procházková@firma.cz', 'd.hlavatá@firma.cz'\n",
    "]"
   ]
  },
  {
   "cell_type": "markdown",
   "metadata": {},
   "source": [
    "<br>\n",
    "\n",
    "Proto se dnes seznámíš **s dalšími typy** objektů, které se ti mohou hodit, pokud budeš pracovat s Pythonem."
   ]
  },
  {
   "cell_type": "markdown",
   "metadata": {},
   "source": [
    "Nejprve tedy *datový typ*, který ti dovolí označovat hodnoty lépe než pomocí indexu."
   ]
  },
  {
   "cell_type": "markdown",
   "metadata": {},
   "source": [
    "<img src=\"https://external-content.duckduckgo.com/iu/?u=https%3A%2F%2Ftse1.mm.bing.net%2Fth%3Fid%3DOIP.xflNvuQDVUlb2fSnRlvULgHaHa%26pid%3DApi&f=1&ipt=8ef18ba5e38de61f9dc03b35d60d0f65920f43ee0e6165fed821d9fcce0311d7&ipo=images\" width=\"400\" style=\"margin-left:auto; margin-right:auto\"/>\n",
    "\n",
    "\n",
    "### Datový typ `dict` (~dictionary)\n",
    "\n",
    "---"
   ]
  },
  {
   "cell_type": "markdown",
   "metadata": {},
   "source": [
    "*Dictionary* (v Pythonu repr. `dict`) nebo také **slovník**:\n",
    "* v jiných jazycích *hashtable*, *map*,\n",
    "* v Pythonu **standardní datový typ**,\n",
    "* tvořený páry `klíč: hodnota`,\n",
    "* **nemá indexy** jako `list` a `tuple`, hranatá závorka pracuje odlišně,\n",
    "* **mají pořadí** (od verze 3.7, do té doby neplatí),\n",
    "* **změnitelný** datový typ."
   ]
  },
  {
   "cell_type": "code",
   "execution_count": 6,
   "metadata": {},
   "outputs": [],
   "source": [
    "uzivatel = {\n",
    "    \"jmeno\": \"Matouš\",\n",
    "    \"vek\": 100,\n",
    "    \"rid_opravneni\": True,\n",
    "    11: [\"klavír\", \"čtení\", \"Python!\"]\n",
    "}"
   ]
  },
  {
   "cell_type": "code",
   "execution_count": 2,
   "metadata": {},
   "outputs": [
    {
     "name": "stdout",
     "output_type": "stream",
     "text": [
      "<class 'dict'>\n"
     ]
    }
   ],
   "source": [
    "print(type(uzivatel))"
   ]
  },
  {
   "cell_type": "markdown",
   "metadata": {},
   "source": [
    "* Podle **klíče** dohledávám (*~ mapuji*) **hodnotu** (ne naopak),"
   ]
  },
  {
   "cell_type": "code",
   "execution_count": 7,
   "metadata": {},
   "outputs": [
    {
     "name": "stdout",
     "output_type": "stream",
     "text": [
      "['klavír', 'čtení', 'Python!']\n"
     ]
    }
   ],
   "source": [
    "print(uzivatel[11])"
   ]
  },
  {
   "cell_type": "code",
   "execution_count": 8,
   "metadata": {},
   "outputs": [
    {
     "ename": "KeyError",
     "evalue": "0",
     "output_type": "error",
     "traceback": [
      "\u001b[0;31m---------------------------------------------------------------------------\u001b[0m",
      "\u001b[0;31mKeyError\u001b[0m                                  Traceback (most recent call last)",
      "Cell \u001b[0;32mIn[8], line 1\u001b[0m\n\u001b[0;32m----> 1\u001b[0m \u001b[38;5;28mprint\u001b[39m(\u001b[43muzivatel\u001b[49m\u001b[43m[\u001b[49m\u001b[38;5;241;43m0\u001b[39;49m\u001b[43m]\u001b[49m)\n",
      "\u001b[0;31mKeyError\u001b[0m: 0"
     ]
    }
   ],
   "source": [
    "print(uzivatel[0])"
   ]
  },
  {
   "cell_type": "markdown",
   "metadata": {},
   "source": [
    "<br>\n",
    "\n",
    "Hranaté závorky u datového typu `dict` neslouží k *indexování*, nýbrž jako prostor zadat **jméno klíče**."
   ]
  },
  {
   "cell_type": "code",
   "execution_count": null,
   "metadata": {},
   "outputs": [],
   "source": [
    "print(uzivatel[\"vek\"])"
   ]
  },
  {
   "cell_type": "code",
   "execution_count": null,
   "metadata": {},
   "outputs": [],
   "source": [
    "print(uzivatel[\"volny_cas\"])"
   ]
  },
  {
   "cell_type": "code",
   "execution_count": null,
   "metadata": {},
   "outputs": [],
   "source": [
    "print(uzivatel[\"rid_opravneni\"])"
   ]
  },
  {
   "cell_type": "markdown",
   "metadata": {},
   "source": [
    "<br>\n",
    "\n",
    "Opatrně na *mapování*. Funguje pouze pokud vyhledáváš **hodnotu podle klíče**:"
   ]
  },
  {
   "cell_type": "code",
   "execution_count": 9,
   "metadata": {},
   "outputs": [
    {
     "ename": "KeyError",
     "evalue": "'Matouš'",
     "output_type": "error",
     "traceback": [
      "\u001b[0;31m---------------------------------------------------------------------------\u001b[0m",
      "\u001b[0;31mKeyError\u001b[0m                                  Traceback (most recent call last)",
      "Cell \u001b[0;32mIn[9], line 1\u001b[0m\n\u001b[0;32m----> 1\u001b[0m \u001b[38;5;28mprint\u001b[39m(\u001b[43muzivatel\u001b[49m\u001b[43m[\u001b[49m\u001b[38;5;124;43m\"\u001b[39;49m\u001b[38;5;124;43mMatouš\u001b[39;49m\u001b[38;5;124;43m\"\u001b[39;49m\u001b[43m]\u001b[49m)\n",
      "\u001b[0;31mKeyError\u001b[0m: 'Matouš'"
     ]
    }
   ],
   "source": [
    "print(uzivatel[\"Matouš\"])"
   ]
  },
  {
   "cell_type": "markdown",
   "metadata": {},
   "source": [
    "* klíč musí být **unikátní** (`str`, `int`, `bool`, nelze použít `list`)(pomůcka s funkcí `hash`),\n",
    "* hodnota nemusí být unikátní (př. `str`, `int`, `list`, `tuple`, jiný `dict`)."
   ]
  },
  {
   "cell_type": "code",
   "execution_count": null,
   "metadata": {},
   "outputs": [],
   "source": [
    "uzivatel_2 = {[\"jmeno\", \"heslo\"]: [\"Matouš\", \"Holinka\"]}"
   ]
  },
  {
   "cell_type": "code",
   "execution_count": null,
   "metadata": {},
   "outputs": [],
   "source": [
    "print(hash([\"jmeno\", \"heslo\"]))"
   ]
  },
  {
   "cell_type": "code",
   "execution_count": 15,
   "metadata": {},
   "outputs": [
    {
     "ename": "TypeError",
     "evalue": "unhashable type: 'list'",
     "output_type": "error",
     "traceback": [
      "\u001b[0;31m---------------------------------------------------------------------------\u001b[0m",
      "\u001b[0;31mTypeError\u001b[0m                                 Traceback (most recent call last)",
      "Cell \u001b[0;32mIn[15], line 1\u001b[0m\n\u001b[0;32m----> 1\u001b[0m \u001b[38;5;28mprint\u001b[39m(\u001b[38;5;28;43mhash\u001b[39;49m\u001b[43m(\u001b[49m\u001b[43m[\u001b[49m\u001b[38;5;124;43m'\u001b[39;49m\u001b[38;5;124;43ma\u001b[39;49m\u001b[38;5;124;43m'\u001b[39;49m\u001b[43m,\u001b[49m\u001b[43m \u001b[49m\u001b[38;5;124;43m'\u001b[39;49m\u001b[38;5;124;43mb\u001b[39;49m\u001b[38;5;124;43m'\u001b[39;49m\u001b[43m]\u001b[49m\u001b[43m)\u001b[49m)\n",
      "\u001b[0;31mTypeError\u001b[0m: unhashable type: 'list'"
     ]
    }
   ],
   "source": [
    "print(hash(['a', 'b']))"
   ]
  },
  {
   "cell_type": "markdown",
   "metadata": {},
   "source": [
    "<br>\n",
    "\n",
    "*Hašovat* tedy můžeš jen nezměnitelné (*immutable*) datové typy:"
   ]
  },
  {
   "cell_type": "code",
   "execution_count": null,
   "metadata": {},
   "outputs": [],
   "source": [
    "print(hash((\"jmeno\", \"heslo\")))"
   ]
  },
  {
   "cell_type": "markdown",
   "metadata": {},
   "source": [
    "Funkci `hash` můžeš použít jako takového pomocníka na začátek.\n",
    "\n",
    "Pokud ti vrátí celé číslo, je zadaný datový typ *hashovatelný*.\n",
    "\n",
    "Tedy můžeš jej použít jako *klíč*."
   ]
  },
  {
   "cell_type": "markdown",
   "metadata": {},
   "source": [
    "#### Nový slovník\n",
    "\n",
    "---"
   ]
  },
  {
   "cell_type": "code",
   "execution_count": 16,
   "metadata": {},
   "outputs": [],
   "source": [
    "novy_uzivatel_1 = dict()\n",
    "novy_uzivatel_2 = {}"
   ]
  },
  {
   "cell_type": "code",
   "execution_count": 17,
   "metadata": {},
   "outputs": [
    {
     "name": "stdout",
     "output_type": "stream",
     "text": [
      "<class 'dict'>\n",
      "<class 'dict'>\n"
     ]
    }
   ],
   "source": [
    "print(type(novy_uzivatel_1))\n",
    "print(type(novy_uzivatel_2))"
   ]
  },
  {
   "cell_type": "markdown",
   "metadata": {},
   "source": [
    "#### Přidávání dat\n",
    "\n",
    "---"
   ]
  },
  {
   "cell_type": "code",
   "execution_count": 18,
   "metadata": {},
   "outputs": [
    {
     "name": "stdout",
     "output_type": "stream",
     "text": [
      "-1897479024534496736\n"
     ]
    }
   ],
   "source": [
    "print(hash(\"jmeno\"))"
   ]
  },
  {
   "cell_type": "code",
   "execution_count": 23,
   "metadata": {},
   "outputs": [],
   "source": [
    "novy_uzivatel_1[(\"jmeno\", \"prijmeni\")] = [\"Matous\", \"holinka\"]"
   ]
  },
  {
   "cell_type": "code",
   "execution_count": 24,
   "metadata": {},
   "outputs": [
    {
     "name": "stdout",
     "output_type": "stream",
     "text": [
      "{'jmeno': 'Petr', ('jmeno', 'prijmeni'): ['Matous', 'holinka']}\n"
     ]
    }
   ],
   "source": [
    "print(novy_uzivatel_1)"
   ]
  },
  {
   "cell_type": "code",
   "execution_count": 30,
   "metadata": {},
   "outputs": [],
   "source": [
    "novy_uzivatel_1[\"rid_opravneni\"] = True\n",
    "novy_uzivatel_1[\"hobby\"] = (\"fotbal\", \"hry\", \"pratele\")\n",
    "novy_uzivatel_1[\"vek\"] = 22\n",
    "novy_uzivatel_1[\"a\"] = 1"
   ]
  },
  {
   "cell_type": "code",
   "execution_count": 31,
   "metadata": {},
   "outputs": [
    {
     "name": "stdout",
     "output_type": "stream",
     "text": [
      "{'a': 1,\n",
      " 'hobby': ('fotbal', 'hry', 'pratele'),\n",
      " 'jmeno': 'Petr',\n",
      " 'rid_opravneni': True,\n",
      " 'vek': 22,\n",
      " ('jmeno', 'prijmeni'): ['Matous', 'holinka']}\n"
     ]
    }
   ],
   "source": [
    "from pprint import pprint\n",
    "pprint(novy_uzivatel_1)"
   ]
  },
  {
   "cell_type": "markdown",
   "metadata": {},
   "source": [
    "<br>\n",
    "\n",
    "Pokud vložíš **jinou hodnotu** do **existujícího klíče**, *přepíšeš* původní hodnotu:"
   ]
  },
  {
   "cell_type": "code",
   "execution_count": null,
   "metadata": {},
   "outputs": [],
   "source": [
    "novy_uzivatel_1[\"jmeno\"] = \"Marek\""
   ]
  },
  {
   "cell_type": "code",
   "execution_count": null,
   "metadata": {},
   "outputs": [],
   "source": [
    "print(novy_uzivatel_1)"
   ]
  },
  {
   "cell_type": "markdown",
   "metadata": {},
   "source": [
    "<br>\n",
    "\n",
    "#### Nestované hodnoty, získávání hodnot\n",
    "\n",
    "---"
   ]
  },
  {
   "cell_type": "code",
   "execution_count": 37,
   "metadata": {},
   "outputs": [],
   "source": [
    "uzivatel_3 = {\n",
    "    \"jmeno\": \"Lukáš\",\n",
    "    \"prijmeni\": \"Holinka\",\n",
    "    \"vek\": 28,\n",
    "    \"hobby\": (\"fotbal\", \"hry\", \"pratele\"),\n",
    "    \"kontakt\": {\n",
    "        \"telefon\": \"000 123 456 789\",\n",
    "        \"email\": \"lukas@gmail.com\",\n",
    "        \"web\": \"www.lukas.cz\"\n",
    "    }\n",
    "}"
   ]
  },
  {
   "cell_type": "code",
   "execution_count": 40,
   "metadata": {},
   "outputs": [
    {
     "name": "stdout",
     "output_type": "stream",
     "text": [
      "www.lukas.cz\n"
     ]
    }
   ],
   "source": [
    "print(uzivatel_3['kontakt']['web'])"
   ]
  },
  {
   "cell_type": "code",
   "execution_count": 36,
   "metadata": {},
   "outputs": [
    {
     "name": "stdout",
     "output_type": "stream",
     "text": [
      "D\n"
     ]
    }
   ],
   "source": [
    "print([[\"A\", \"B\"], [\"C\", \"D\"]][1][1])"
   ]
  },
  {
   "cell_type": "code",
   "execution_count": null,
   "metadata": {},
   "outputs": [],
   "source": [
    "# Vyber emailovou adresu na Lukáše"
   ]
  },
  {
   "cell_type": "markdown",
   "metadata": {},
   "source": [
    "<br>\n",
    "\n",
    "#### Metody slovníků\n",
    "\n",
    "---"
   ]
  },
  {
   "cell_type": "markdown",
   "metadata": {},
   "source": [
    "##### Vytvoř kopii mého slovníku"
   ]
  },
  {
   "cell_type": "code",
   "execution_count": null,
   "metadata": {},
   "outputs": [],
   "source": [
    "# dir(uzivatel_3)"
   ]
  },
  {
   "cell_type": "code",
   "execution_count": null,
   "metadata": {},
   "outputs": [],
   "source": [
    "dalsi_uzivatel = uzivatel_3.copy()"
   ]
  },
  {
   "cell_type": "code",
   "execution_count": null,
   "metadata": {
    "scrolled": true
   },
   "outputs": [],
   "source": [
    "print(id(uzivatel_3))\n",
    "print(id(dalsi_uzivatel))"
   ]
  },
  {
   "cell_type": "markdown",
   "metadata": {},
   "source": [
    "<br>\n",
    "\n",
    "##### Odstraň klíč v mé kopii"
   ]
  },
  {
   "cell_type": "code",
   "execution_count": null,
   "metadata": {},
   "outputs": [],
   "source": [
    "print(uzivatel_3)\n",
    "print()\n",
    "print(dalsi_uzivatel)"
   ]
  },
  {
   "cell_type": "code",
   "execution_count": null,
   "metadata": {},
   "outputs": [],
   "source": [
    "vek = dalsi_uzivatel.pop(\"vek\")  # .popitem()"
   ]
  },
  {
   "cell_type": "code",
   "execution_count": null,
   "metadata": {},
   "outputs": [],
   "source": [
    "print(vek)"
   ]
  },
  {
   "cell_type": "code",
   "execution_count": null,
   "metadata": {},
   "outputs": [],
   "source": [
    "print(uzivatel_3)\n",
    "print()\n",
    "print(dalsi_uzivatel)"
   ]
  },
  {
   "cell_type": "code",
   "execution_count": null,
   "metadata": {},
   "outputs": [],
   "source": [
    "dalsi_uzivatel.popitem()"
   ]
  },
  {
   "cell_type": "code",
   "execution_count": null,
   "metadata": {},
   "outputs": [],
   "source": [
    "print(uzivatel_3)\n",
    "print()\n",
    "print(dalsi_uzivatel)"
   ]
  },
  {
   "cell_type": "code",
   "execution_count": null,
   "metadata": {},
   "outputs": [],
   "source": [
    "dalsi_uzivatel.pop(\"vek\")"
   ]
  },
  {
   "cell_type": "markdown",
   "metadata": {},
   "source": [
    "<br>\n",
    "\n",
    "##### Zobraz mi klíče, hodnoty, nebo vše"
   ]
  },
  {
   "cell_type": "code",
   "execution_count": 42,
   "metadata": {},
   "outputs": [
    {
     "name": "stdout",
     "output_type": "stream",
     "text": [
      "{'hobby': ('fotbal', 'hry', 'pratele'),\n",
      " 'jmeno': 'Lukáš',\n",
      " 'kontakt': {'email': 'lukas@gmail.com',\n",
      "             'telefon': '000 123 456 789',\n",
      "             'web': 'www.lukas.cz'},\n",
      " 'prijmeni': 'Holinka',\n",
      " 'vek': 28}\n"
     ]
    }
   ],
   "source": [
    "pprint(uzivatel_3)"
   ]
  },
  {
   "cell_type": "code",
   "execution_count": 43,
   "metadata": {},
   "outputs": [
    {
     "name": "stdout",
     "output_type": "stream",
     "text": [
      "dict_keys(['jmeno', 'prijmeni', 'vek', 'hobby', 'kontakt'])\n"
     ]
    }
   ],
   "source": [
    "print(uzivatel_3.keys())"
   ]
  },
  {
   "cell_type": "code",
   "execution_count": 44,
   "metadata": {},
   "outputs": [
    {
     "name": "stdout",
     "output_type": "stream",
     "text": [
      "dict_values(['Lukáš', 'Holinka', 28, ('fotbal', 'hry', 'pratele'), {'telefon': '000 123 456 789', 'email': 'lukas@gmail.com', 'web': 'www.lukas.cz'}])\n"
     ]
    }
   ],
   "source": [
    "print(uzivatel_3.values())"
   ]
  },
  {
   "cell_type": "code",
   "execution_count": 45,
   "metadata": {},
   "outputs": [
    {
     "name": "stdout",
     "output_type": "stream",
     "text": [
      "dict_items([('jmeno', 'Lukáš'), ('prijmeni', 'Holinka'), ('vek', 28), ('hobby', ('fotbal', 'hry', 'pratele')), ('kontakt', {'telefon': '000 123 456 789', 'email': 'lukas@gmail.com', 'web': 'www.lukas.cz'})])\n"
     ]
    }
   ],
   "source": [
    "print(uzivatel_3.items())"
   ]
  },
  {
   "cell_type": "markdown",
   "metadata": {},
   "source": [
    "Opatrně, jde o *speciální datové typy*:"
   ]
  },
  {
   "cell_type": "code",
   "execution_count": 50,
   "metadata": {},
   "outputs": [
    {
     "name": "stdout",
     "output_type": "stream",
     "text": [
      "vek\n"
     ]
    }
   ],
   "source": [
    "print(tuple(uzivatel_3.keys())[2])"
   ]
  },
  {
   "cell_type": "code",
   "execution_count": 51,
   "metadata": {},
   "outputs": [
    {
     "name": "stdout",
     "output_type": "stream",
     "text": [
      "<class 'int'>\n"
     ]
    }
   ],
   "source": [
    "print(type(uzivatel_3['vek']))"
   ]
  },
  {
   "cell_type": "markdown",
   "metadata": {},
   "source": [
    "... které **nelze standardně indexovat**:"
   ]
  },
  {
   "cell_type": "code",
   "execution_count": null,
   "metadata": {},
   "outputs": [],
   "source": [
    "spec_objekt = uzivatel_3.keys()"
   ]
  },
  {
   "cell_type": "code",
   "execution_count": null,
   "metadata": {},
   "outputs": [],
   "source": [
    "print(type(spec_objekt))"
   ]
  },
  {
   "cell_type": "code",
   "execution_count": null,
   "metadata": {},
   "outputs": [],
   "source": [
    "print(spec_objekt[0])"
   ]
  },
  {
   "cell_type": "code",
   "execution_count": null,
   "metadata": {},
   "outputs": [],
   "source": [
    "prevedeny_tupl = tuple(spec_objekt)"
   ]
  },
  {
   "cell_type": "code",
   "execution_count": null,
   "metadata": {},
   "outputs": [],
   "source": [
    "print(prevedeny_tupl[0])"
   ]
  },
  {
   "cell_type": "code",
   "execution_count": 53,
   "metadata": {},
   "outputs": [
    {
     "name": "stdout",
     "output_type": "stream",
     "text": [
      "['__class__',\n",
      " '__contains__',\n",
      " '__delattr__',\n",
      " '__delitem__',\n",
      " '__dir__',\n",
      " '__doc__',\n",
      " '__eq__',\n",
      " '__format__',\n",
      " '__ge__',\n",
      " '__getattribute__',\n",
      " '__getitem__',\n",
      " '__gt__',\n",
      " '__hash__',\n",
      " '__init__',\n",
      " '__init_subclass__',\n",
      " '__iter__',\n",
      " '__le__',\n",
      " '__len__',\n",
      " '__lt__',\n",
      " '__ne__',\n",
      " '__new__',\n",
      " '__reduce__',\n",
      " '__reduce_ex__',\n",
      " '__repr__',\n",
      " '__reversed__',\n",
      " '__setattr__',\n",
      " '__setitem__',\n",
      " '__sizeof__',\n",
      " '__str__',\n",
      " '__subclasshook__',\n",
      " 'clear',\n",
      " 'copy',\n",
      " 'fromkeys',\n",
      " 'get',\n",
      " 'items',\n",
      " 'keys',\n",
      " 'pop',\n",
      " 'popitem',\n",
      " 'setdefault',\n",
      " 'update',\n",
      " 'values']\n"
     ]
    }
   ],
   "source": [
    "pprint(dir(uzivatel_3))"
   ]
  },
  {
   "cell_type": "code",
   "execution_count": 56,
   "metadata": {},
   "outputs": [
    {
     "data": {
      "text/plain": [
       "\u001b[0;31mDocstring:\u001b[0m D.keys() -> a set-like object providing a view on D's keys\n",
       "\u001b[0;31mType:\u001b[0m      builtin_function_or_method"
      ]
     },
     "metadata": {},
     "output_type": "display_data"
    }
   ],
   "source": [
    "uzivatel_3.keys?"
   ]
  },
  {
   "cell_type": "markdown",
   "metadata": {},
   "source": [
    "<br>\n",
    "\n",
    "##### Vrať mi hodnotu pro neexistující klíč"
   ]
  },
  {
   "cell_type": "code",
   "execution_count": null,
   "metadata": {},
   "outputs": [],
   "source": [
    "print(uzivatel_3)"
   ]
  },
  {
   "cell_type": "code",
   "execution_count": null,
   "metadata": {},
   "outputs": [],
   "source": [
    "print(uzivatel_3[\"jmeno\"])"
   ]
  },
  {
   "cell_type": "code",
   "execution_count": null,
   "metadata": {},
   "outputs": [],
   "source": [
    "print(uzivatel_3[\"pohlavi\"])"
   ]
  },
  {
   "cell_type": "markdown",
   "metadata": {},
   "source": [
    "Velmi často se dostaneš do situace, kde nemůžeš jistě vědět, jestli **je hledaný klíč ve slovníku**.\n",
    "\n",
    "Pokud není, skončí tvůj skript vyjímkou `KeyError`."
   ]
  },
  {
   "cell_type": "code",
   "execution_count": 59,
   "metadata": {},
   "outputs": [
    {
     "name": "stdout",
     "output_type": "stream",
     "text": [
      "{'jmeno': 'Lukáš', 'prijmeni': 'Holinka', 'vek': 28, 'hobby': ('fotbal', 'hry', 'pratele'), 'kontakt': {'telefon': '000 123 456 789', 'email': 'lukas@gmail.com', 'web': 'www.lukas.cz'}}\n"
     ]
    }
   ],
   "source": [
    "print(uzivatel_3)"
   ]
  },
  {
   "cell_type": "code",
   "execution_count": 64,
   "metadata": {},
   "outputs": [
    {
     "name": "stdout",
     "output_type": "stream",
     "text": [
      "Holinka\n"
     ]
    }
   ],
   "source": [
    "print(uzivatel_3.get('prijmeni', 'Nemam klic'))"
   ]
  },
  {
   "cell_type": "code",
   "execution_count": null,
   "metadata": {},
   "outputs": [],
   "source": [
    "print(uzivatel_3.get(\"jmeno\"))"
   ]
  },
  {
   "cell_type": "code",
   "execution_count": null,
   "metadata": {},
   "outputs": [],
   "source": [
    "print(uzivatel_3.get(\"pohlavi\"))"
   ]
  },
  {
   "cell_type": "code",
   "execution_count": 65,
   "metadata": {},
   "outputs": [
    {
     "name": "stdout",
     "output_type": "stream",
     "text": [
      "Klíč 'pohlavi' neexistuje\n"
     ]
    }
   ],
   "source": [
    "print(uzivatel_3.get(\"pohlavi\", \"Klíč 'pohlavi' neexistuje\"))"
   ]
  },
  {
   "cell_type": "markdown",
   "metadata": {},
   "source": [
    "<br>\n",
    "\n",
    "##### Odstraň všechno ze slovníku"
   ]
  },
  {
   "cell_type": "code",
   "execution_count": null,
   "metadata": {},
   "outputs": [],
   "source": [
    "dalsi_uzivatel.clear()\n",
    "print(uzivatel_3)\n",
    "print()\n",
    "print(dalsi_uzivatel)"
   ]
  },
  {
   "cell_type": "code",
   "execution_count": null,
   "metadata": {},
   "outputs": [],
   "source": [
    "# dir(dict)"
   ]
  },
  {
   "cell_type": "code",
   "execution_count": null,
   "metadata": {},
   "outputs": [],
   "source": [
    "# help(dict.pop)"
   ]
  },
  {
   "cell_type": "markdown",
   "metadata": {},
   "source": [
    "<br>\n",
    "\n",
    "### 🧠 CVIČENÍ 🧠, Vyzkoušej si práci s `dict`:"
   ]
  },
  {
   "cell_type": "markdown",
   "metadata": {},
   "source": [
    "1. Vytvoř slovník `student = {\"jméno\": \"Jan\", \"příjmení\": \"Novák\", \"věk\": 20}`,\n",
    "2. přidej do slovníku klíč `obor` s hodnotou `\"Informatika\"`,\n",
    "3. přidej do slovníku klíč `\"kontakt\"` s hodnotami: `{\"email\": \"jan.novak@gmail.com\", \"mobil\": \"+420777666555\"}`,\n",
    "4. získej ze slovníku `student` klíč `pohlavi`, pokud je součástí slovníku, jinak nesmí skončít výjimkou,\n",
    "5. získej ze slovníku `kontakt` klíč `mobil`, pokud je součástí slovníku, jinak nesmí skončít výjimkou,\n",
    "6. vypiš všechny klíče ze slovníku `student`,\n",
    "7. zjisti, kolik klíčů a hodnot má slovník `student`."
   ]
  },
  {
   "cell_type": "code",
   "execution_count": null,
   "metadata": {},
   "outputs": [],
   "source": [
    "student = {\"jméno\": \"Jan\", \"příjmení\": \"Novák\", \"věk\": 20}"
   ]
  },
  {
   "cell_type": "markdown",
   "metadata": {},
   "source": [
    "<details>\n",
    "  <summary>▶️  Klikni zde pro zobrazení řešení</summary>\n",
    "   \n",
    "```python\n",
    "student = {\"jméno\": \"Jan\", \"příjmení\": \"Novák\", \"věk\": 20}\n",
    "\n",
    "student[\"obor\"] = \"Informatika\"\n",
    "student[\"kontakt\"] = {\"email\": \"jan.novak@gmail.com\", \"mobil\": \"+420777666555\"}\n",
    "\n",
    "print(student.get(\"pohlaví\"))\n",
    "print(student.get(\"kontakt\").get(\"mobil\"))\n",
    "print(student.keys())\n",
    "\n",
    "print(len(student.keys()), len(student.values()))\n",
    "```\n",
    "</details>"
   ]
  },
  {
   "cell_type": "markdown",
   "metadata": {},
   "source": [
    "<img src=\"https://external-content.duckduckgo.com/iu/?u=https%3A%2F%2Ftse3.mm.bing.net%2Fth%3Fid%3DOIP.RAQa2_CvZxiwnXMYFD_V5AHaHa%26pid%3DApi&f=1&ipt=62c71c5e1001bb4e1b0c8bc5e9ed3414910bf4031aa7fceee8397879872e1782&ipo=images\" width=\"400\" style=\"margin-left:auto; margin-right:auto\"/>\n",
    "\n",
    "### Datový typ `set`\n",
    "\n",
    "---"
   ]
  },
  {
   "cell_type": "markdown",
   "metadata": {},
   "source": [
    "*Set* nebo také *množina*:\n",
    "* v Pythonu **standardní datový typ**,\n",
    "* tvořený **unikatními hodnotami**,\n",
    "* nepracuje s jednotlivými údaji ale s daty jako celkem,\n",
    "* hodnoty mohou být jak `str`, tak číselné hodnoty,\n",
    "* **nemá pořadí**,\n",
    "* **změnitelný** datový typ."
   ]
  },
  {
   "cell_type": "code",
   "execution_count": 1,
   "metadata": {},
   "outputs": [],
   "source": [
    "zensky_rod = {\"žena\", \"růže\", \"píseň\", \"kost\"}"
   ]
  },
  {
   "cell_type": "code",
   "execution_count": 2,
   "metadata": {},
   "outputs": [
    {
     "name": "stdout",
     "output_type": "stream",
     "text": [
      "<class 'set'>\n"
     ]
    }
   ],
   "source": [
    "print(type(zensky_rod))"
   ]
  },
  {
   "cell_type": "markdown",
   "metadata": {},
   "source": [
    "<br>\n",
    "\n",
    "Set pracuje pouze s unikátními hodnotami:"
   ]
  },
  {
   "cell_type": "code",
   "execution_count": 3,
   "metadata": {},
   "outputs": [],
   "source": [
    "zensky_rod = {\"žena\", \"růže\", \"píseň\", \"kost\", \"píseň\"}"
   ]
  },
  {
   "cell_type": "code",
   "execution_count": 4,
   "metadata": {},
   "outputs": [
    {
     "name": "stdout",
     "output_type": "stream",
     "text": [
      "{'růže', 'žena', 'kost', 'píseň'}\n"
     ]
    }
   ],
   "source": [
    "print(zensky_rod)"
   ]
  },
  {
   "cell_type": "markdown",
   "metadata": {},
   "source": [
    "* **klíčové operace setů**:\n",
    "  - sjednocení `|`,\n",
    "  - průnik `&`,\n",
    "  - rozdíl `-`,\n",
    "  - symetrický rozdíl `^`.\n",
    "\n",
    "Některé *operátory* jsou stejné symboly jako *bitwise* operátory."
   ]
  },
  {
   "cell_type": "markdown",
   "metadata": {},
   "source": [
    "#### Nový set\n",
    "\n",
    "---"
   ]
  },
  {
   "cell_type": "code",
   "execution_count": 5,
   "metadata": {},
   "outputs": [],
   "source": [
    "muj_novy_set = set()\n",
    "muj_druhy_set = {}"
   ]
  },
  {
   "cell_type": "code",
   "execution_count": 6,
   "metadata": {},
   "outputs": [
    {
     "name": "stdout",
     "output_type": "stream",
     "text": [
      "<class 'set'>\n",
      "<class 'dict'>\n"
     ]
    }
   ],
   "source": [
    "print(type(muj_novy_set))\n",
    "print(type(muj_druhy_set))"
   ]
  },
  {
   "cell_type": "code",
   "execution_count": 7,
   "metadata": {},
   "outputs": [],
   "source": [
    "suda_cisla = {2, 4, 6, 8, 0}\n",
    "pismena = {\"a\", \"b\", \"c\", \"d\"}"
   ]
  },
  {
   "cell_type": "code",
   "execution_count": 8,
   "metadata": {},
   "outputs": [
    {
     "name": "stdout",
     "output_type": "stream",
     "text": [
      "<class 'set'>\n",
      "<class 'set'>\n"
     ]
    }
   ],
   "source": [
    "print(type(suda_cisla))\n",
    "print(type(pismena))"
   ]
  },
  {
   "cell_type": "code",
   "execution_count": 9,
   "metadata": {},
   "outputs": [
    {
     "name": "stdout",
     "output_type": "stream",
     "text": [
      "{'e', 'c', 'f', 'b', 'd', 'a'}\n"
     ]
    }
   ],
   "source": [
    "pismena = set(\"abcdef\")\n",
    "print(pismena)"
   ]
  },
  {
   "cell_type": "code",
   "execution_count": 10,
   "metadata": {},
   "outputs": [
    {
     "name": "stdout",
     "output_type": "stream",
     "text": [
      "{'b', 'c', 'a'}\n"
     ]
    }
   ],
   "source": [
    "pismena = set((\"a\", \"b\", \"c\"))\n",
    "print(pismena)"
   ]
  },
  {
   "cell_type": "code",
   "execution_count": 11,
   "metadata": {},
   "outputs": [
    {
     "name": "stdout",
     "output_type": "stream",
     "text": [
      "{'m', 'j', 'g', 'l', 'k', 'i', 'h'}\n"
     ]
    }
   ],
   "source": [
    "dalsi_pismena = set([\"g\", \"h\", \"i\", \"j\", \"k\", \"l\", \"m\"])\n",
    "print(dalsi_pismena)"
   ]
  },
  {
   "cell_type": "code",
   "execution_count": 12,
   "metadata": {},
   "outputs": [
    {
     "name": "stdout",
     "output_type": "stream",
     "text": [
      "<class 'set'>\n"
     ]
    }
   ],
   "source": [
    "print(type(dalsi_pismena))"
   ]
  },
  {
   "cell_type": "markdown",
   "metadata": {},
   "source": [
    "#### Setové operace\n",
    "\n",
    "---"
   ]
  },
  {
   "cell_type": "code",
   "execution_count": 16,
   "metadata": {},
   "outputs": [],
   "source": [
    "muj_set_A = {\"žena\", \"růže\", \"píseň\", \"kost\", \"Lucie\", \"Matouš\"}\n",
    "muj_set_B = {\"žena\", \"růže\", \"píseň\", \"kost\", \"Lukáš\"}"
   ]
  },
  {
   "cell_type": "markdown",
   "metadata": {},
   "source": [
    "<img src=\"https://i.imgur.com/yhV0pvW.png\" width=\"800\" style=\"margin-left:auto; margin-right:auto\" />"
   ]
  },
  {
   "cell_type": "markdown",
   "metadata": {},
   "source": [
    "##### Sjednocení ~ union"
   ]
  },
  {
   "cell_type": "code",
   "execution_count": 17,
   "metadata": {},
   "outputs": [
    {
     "name": "stdout",
     "output_type": "stream",
     "text": [
      "{'Lukáš', 'kost', 'píseň', 'žena', 'růže', 'Matouš', 'Lucie'}\n",
      "{'Lukáš', 'kost', 'píseň', 'žena', 'růže', 'Matouš', 'Lucie'}\n"
     ]
    }
   ],
   "source": [
    "print(muj_set_B.union(muj_set_A))\n",
    "print(muj_set_A | muj_set_B)"
   ]
  },
  {
   "cell_type": "code",
   "execution_count": 14,
   "metadata": {},
   "outputs": [
    {
     "name": "stdout",
     "output_type": "stream",
     "text": [
      "['__and__',\n",
      " '__class__',\n",
      " '__contains__',\n",
      " '__delattr__',\n",
      " '__dir__',\n",
      " '__doc__',\n",
      " '__eq__',\n",
      " '__format__',\n",
      " '__ge__',\n",
      " '__getattribute__',\n",
      " '__gt__',\n",
      " '__hash__',\n",
      " '__iand__',\n",
      " '__init__',\n",
      " '__init_subclass__',\n",
      " '__ior__',\n",
      " '__isub__',\n",
      " '__iter__',\n",
      " '__ixor__',\n",
      " '__le__',\n",
      " '__len__',\n",
      " '__lt__',\n",
      " '__ne__',\n",
      " '__new__',\n",
      " '__or__',\n",
      " '__rand__',\n",
      " '__reduce__',\n",
      " '__reduce_ex__',\n",
      " '__repr__',\n",
      " '__ror__',\n",
      " '__rsub__',\n",
      " '__rxor__',\n",
      " '__setattr__',\n",
      " '__sizeof__',\n",
      " '__str__',\n",
      " '__sub__',\n",
      " '__subclasshook__',\n",
      " '__xor__',\n",
      " 'add',\n",
      " 'clear',\n",
      " 'copy',\n",
      " 'difference',\n",
      " 'difference_update',\n",
      " 'discard',\n",
      " 'intersection',\n",
      " 'intersection_update',\n",
      " 'isdisjoint',\n",
      " 'issubset',\n",
      " 'issuperset',\n",
      " 'pop',\n",
      " 'remove',\n",
      " 'symmetric_difference',\n",
      " 'symmetric_difference_update',\n",
      " 'union',\n",
      " 'update']\n"
     ]
    }
   ],
   "source": [
    "from pprint import pprint\n",
    "pprint(dir(set))"
   ]
  },
  {
   "cell_type": "markdown",
   "metadata": {},
   "source": [
    "<img src=\"https://i.imgur.com/Qgvr0Jz.png\" width=\"800\" style=\"margin-left:auto; margin-right:auto\" />"
   ]
  },
  {
   "cell_type": "markdown",
   "metadata": {},
   "source": [
    "##### Průnik ~ intersection"
   ]
  },
  {
   "cell_type": "code",
   "execution_count": 18,
   "metadata": {
    "scrolled": true
   },
   "outputs": [
    {
     "name": "stdout",
     "output_type": "stream",
     "text": [
      "{'růže', 'žena', 'kost', 'píseň'}\n",
      "{'růže', 'žena', 'kost', 'píseň'}\n"
     ]
    }
   ],
   "source": [
    "print(muj_set_B.intersection(muj_set_A))\n",
    "print(muj_set_A & muj_set_B)"
   ]
  },
  {
   "cell_type": "markdown",
   "metadata": {},
   "source": [
    "<img src=\"https://i.imgur.com/MYKRUqb.png\" width=\"800\" style=\"margin-left:auto; margin-right:auto\" />"
   ]
  },
  {
   "cell_type": "markdown",
   "metadata": {},
   "source": [
    "##### Rozdíl ~ difference"
   ]
  },
  {
   "cell_type": "code",
   "execution_count": 19,
   "metadata": {},
   "outputs": [
    {
     "name": "stdout",
     "output_type": "stream",
     "text": [
      "{'kost', 'píseň', 'žena', 'růže', 'Matouš', 'Lucie'}\n",
      "{'Lukáš', 'kost', 'píseň', 'žena', 'růže'}\n"
     ]
    }
   ],
   "source": [
    "print(muj_set_A,\n",
    "      muj_set_B,\n",
    "      sep='\\n')"
   ]
  },
  {
   "cell_type": "code",
   "execution_count": 20,
   "metadata": {
    "scrolled": true
   },
   "outputs": [
    {
     "name": "stdout",
     "output_type": "stream",
     "text": [
      "{'Matouš', 'Lucie'}\n",
      "{'Matouš', 'Lucie'}\n"
     ]
    }
   ],
   "source": [
    "print(muj_set_A.difference(muj_set_B))\n",
    "print(muj_set_A - muj_set_B)"
   ]
  },
  {
   "cell_type": "markdown",
   "metadata": {},
   "source": [
    "<img src=\"https://i.imgur.com/frukWiG.png\" width=\"800\" style=\"margin-left:auto; margin-right:auto\" />"
   ]
  },
  {
   "cell_type": "code",
   "execution_count": 21,
   "metadata": {
    "scrolled": true
   },
   "outputs": [
    {
     "name": "stdout",
     "output_type": "stream",
     "text": [
      "{'Lukáš'}\n",
      "{'Lukáš'}\n"
     ]
    }
   ],
   "source": [
    "print(muj_set_B.difference(muj_set_A))\n",
    "print(muj_set_B - muj_set_A)"
   ]
  },
  {
   "cell_type": "markdown",
   "metadata": {},
   "source": [
    "<img src=\"https://i.imgur.com/D3uPteB.png\" width=\"800\" style=\"margin-left:auto; margin-right:auto\" />"
   ]
  },
  {
   "cell_type": "markdown",
   "metadata": {},
   "source": [
    "##### Symetrický rozdíl ~ symmetric difference"
   ]
  },
  {
   "cell_type": "code",
   "execution_count": 22,
   "metadata": {},
   "outputs": [
    {
     "name": "stdout",
     "output_type": "stream",
     "text": [
      "{'kost', 'píseň', 'žena', 'růže', 'Matouš', 'Lucie'}\n",
      "{'Lukáš', 'kost', 'píseň', 'žena', 'růže'}\n"
     ]
    }
   ],
   "source": [
    "print(\n",
    "    muj_set_A,\n",
    "    muj_set_B,\n",
    "    sep=\"\\n\"\n",
    ")"
   ]
  },
  {
   "cell_type": "code",
   "execution_count": 23,
   "metadata": {},
   "outputs": [
    {
     "name": "stdout",
     "output_type": "stream",
     "text": [
      "{'Lucie', 'Lukáš', 'Matouš'}\n",
      "{'Lukáš', 'Matouš', 'Lucie'}\n"
     ]
    }
   ],
   "source": [
    "print(muj_set_B.symmetric_difference(muj_set_A))\n",
    "print(muj_set_A ^ muj_set_B)"
   ]
  },
  {
   "cell_type": "markdown",
   "metadata": {},
   "source": [
    "<img src=\"https://i.imgur.com/7XxiV1y.png\" width=\"800\" style=\"margin-left:auto; margin-right:auto\" />"
   ]
  },
  {
   "cell_type": "markdown",
   "metadata": {},
   "source": [
    "#### Manipulace s hodnotami, metody setů\n",
    "\n",
    "---"
   ]
  },
  {
   "cell_type": "markdown",
   "metadata": {},
   "source": [
    "Veškeré další úpravy setů probíhají pomocí **metod setů**.\n",
    "\n",
    "Vytvořím si kopii ze orig. setu `muj_set_1`:"
   ]
  },
  {
   "cell_type": "code",
   "execution_count": 24,
   "metadata": {},
   "outputs": [],
   "source": [
    "muj_set_1 = {\"žena\", \"růže\", \"píseň\", \"kost\"}\n",
    "muj_set_2 = muj_set_1.copy()"
   ]
  },
  {
   "cell_type": "code",
   "execution_count": 25,
   "metadata": {},
   "outputs": [
    {
     "name": "stdout",
     "output_type": "stream",
     "text": [
      "139864773169664\n",
      "139864773171456\n"
     ]
    }
   ],
   "source": [
    "print(id(muj_set_1))\n",
    "print(id(muj_set_2))"
   ]
  },
  {
   "cell_type": "code",
   "execution_count": 26,
   "metadata": {},
   "outputs": [],
   "source": [
    "muj_set_2.add(\"Matouš\")\n",
    "muj_set_2.add(\"Lukáš\")"
   ]
  },
  {
   "cell_type": "code",
   "execution_count": 27,
   "metadata": {},
   "outputs": [
    {
     "name": "stdout",
     "output_type": "stream",
     "text": [
      "{'Lukáš', 'kost', 'píseň', 'žena', 'růže', 'Matouš'}\n"
     ]
    }
   ],
   "source": [
    "print(muj_set_2)"
   ]
  },
  {
   "cell_type": "code",
   "execution_count": null,
   "metadata": {},
   "outputs": [],
   "source": [
    "muj_set_2.add(\"Matouš\")"
   ]
  },
  {
   "cell_type": "code",
   "execution_count": null,
   "metadata": {},
   "outputs": [],
   "source": [
    "print(muj_set_2)"
   ]
  },
  {
   "cell_type": "code",
   "execution_count": 28,
   "metadata": {},
   "outputs": [],
   "source": [
    "muj_set_2.discard(\"Lukáš\")  # remove"
   ]
  },
  {
   "cell_type": "code",
   "execution_count": 29,
   "metadata": {},
   "outputs": [
    {
     "name": "stdout",
     "output_type": "stream",
     "text": [
      "{'kost', 'píseň', 'žena', 'růže', 'Matouš'}\n"
     ]
    }
   ],
   "source": [
    "print(muj_set_2)"
   ]
  },
  {
   "cell_type": "code",
   "execution_count": null,
   "metadata": {},
   "outputs": [],
   "source": [
    "muj_set_2.pop()"
   ]
  },
  {
   "cell_type": "code",
   "execution_count": null,
   "metadata": {},
   "outputs": [],
   "source": [
    "# dir(set)"
   ]
  },
  {
   "cell_type": "code",
   "execution_count": 30,
   "metadata": {},
   "outputs": [
    {
     "name": "stdout",
     "output_type": "stream",
     "text": [
      "{'růže', 'žena', 'kost', 'píseň'}\n",
      "{'kost', 'píseň', 'žena', 'růže', 'Matouš'}\n"
     ]
    }
   ],
   "source": [
    "print(\n",
    "    muj_set_1,\n",
    "    muj_set_2,\n",
    "    sep=\"\\n\"\n",
    ")"
   ]
  },
  {
   "cell_type": "code",
   "execution_count": 31,
   "metadata": {},
   "outputs": [],
   "source": [
    "muj_set_2.discard('píseň')"
   ]
  },
  {
   "cell_type": "code",
   "execution_count": 32,
   "metadata": {},
   "outputs": [
    {
     "name": "stdout",
     "output_type": "stream",
     "text": [
      "{'růže', 'žena', 'kost', 'píseň'}\n",
      "{'kost', 'žena', 'růže', 'Matouš'}\n"
     ]
    }
   ],
   "source": [
    "print(\n",
    "    muj_set_1,\n",
    "    muj_set_2,\n",
    "    sep=\"\\n\"\n",
    ")"
   ]
  },
  {
   "cell_type": "markdown",
   "metadata": {},
   "source": [
    "<br>\n",
    "\n",
    "##### Obsahují sety pouze odlišné hodnoty"
   ]
  },
  {
   "cell_type": "code",
   "execution_count": null,
   "metadata": {},
   "outputs": [],
   "source": [
    "print(muj_set_1)\n",
    "print(muj_set_2)"
   ]
  },
  {
   "cell_type": "code",
   "execution_count": null,
   "metadata": {},
   "outputs": [],
   "source": [
    "muj_set_2.add(\"Matouš\")\n",
    "muj_set_2.discard(\"žena\")"
   ]
  },
  {
   "cell_type": "code",
   "execution_count": null,
   "metadata": {},
   "outputs": [],
   "source": [
    "print(muj_set_1)\n",
    "print(muj_set_2)"
   ]
  },
  {
   "cell_type": "code",
   "execution_count": null,
   "metadata": {},
   "outputs": [],
   "source": [
    "print(muj_set_2.isdisjoint(muj_set_1))"
   ]
  },
  {
   "cell_type": "code",
   "execution_count": null,
   "metadata": {},
   "outputs": [],
   "source": [
    "muj_set_3 = {\"Lukáš\"}"
   ]
  },
  {
   "cell_type": "code",
   "execution_count": null,
   "metadata": {},
   "outputs": [],
   "source": [
    "print(muj_set_3.isdisjoint(muj_set_1))"
   ]
  },
  {
   "cell_type": "code",
   "execution_count": null,
   "metadata": {},
   "outputs": [],
   "source": [
    "l1 = [\"a\", \"b\", \"c\", \"d\"]\n",
    "l2 = [\"a\", \"b\", \"c\", \"e\"]"
   ]
  },
  {
   "cell_type": "code",
   "execution_count": null,
   "metadata": {},
   "outputs": [],
   "source": [
    "print(set(l1).symmetric_difference(set(l2)))\n",
    "print(set(l1) ^ set(l2))"
   ]
  },
  {
   "cell_type": "code",
   "execution_count": null,
   "metadata": {},
   "outputs": [],
   "source": [
    "dir(set)"
   ]
  },
  {
   "cell_type": "code",
   "execution_count": null,
   "metadata": {},
   "outputs": [],
   "source": [
    "help(set.difference_update)"
   ]
  },
  {
   "cell_type": "code",
   "execution_count": 38,
   "metadata": {},
   "outputs": [
    {
     "ename": "TypeError",
     "evalue": "pop() takes no arguments (1 given)",
     "output_type": "error",
     "traceback": [
      "\u001b[0;31m---------------------------------------------------------------------------\u001b[0m",
      "\u001b[0;31mTypeError\u001b[0m                                 Traceback (most recent call last)",
      "Cell \u001b[0;32mIn[38], line 1\u001b[0m\n\u001b[0;32m----> 1\u001b[0m \u001b[43mmuj_set_2\u001b[49m\u001b[38;5;241;43m.\u001b[39;49m\u001b[43mpop\u001b[49m\u001b[43m(\u001b[49m\u001b[38;5;124;43m\"\u001b[39;49m\u001b[38;5;124;43mMatouš\u001b[39;49m\u001b[38;5;124;43m\"\u001b[39;49m\u001b[43m)\u001b[49m\n",
      "\u001b[0;31mTypeError\u001b[0m: pop() takes no arguments (1 given)"
     ]
    }
   ],
   "source": [
    "muj_set_2.pop(\"Matouš\")"
   ]
  },
  {
   "cell_type": "markdown",
   "metadata": {},
   "source": [
    "<img src=\"https://external-content.duckduckgo.com/iu/?u=https%3A%2F%2Ftse3.mm.bing.net%2Fth%3Fid%3DOIP.ehRENB9fEmyfgOIMXpoaIwHaHa%26pid%3DApi&f=1&ipt=d0da0abed7f3fd494df3e5699a6c58658b8cebff1ffc07b87d0f5be9f549f9c7&ipo=images\" width=\"400\" style=\"margin-left:auto; margin-right:auto\" />\n",
    "\n",
    "## Datový typ `frozenset`\n",
    "\n",
    "---"
   ]
  },
  {
   "cell_type": "markdown",
   "metadata": {},
   "source": [
    "*Frozenset* a *set* jsou obdobná dvojice jako `list` a `tuple`:\n",
    "* v Pythonu je **standardní datový typ**,\n",
    "* tvořený **unikatními hodnotami**,\n",
    "* nepracuje s jednotlivými údaji ale s daty jako celkem,\n",
    "* hodnoty mohou být jak `str`, tak číselné hodnoty,\n",
    "* **nemá pořadí**,\n",
    "* jakmile jej vytvoříš, **nemůžeš jej změnit**."
   ]
  },
  {
   "cell_type": "code",
   "execution_count": 39,
   "metadata": {},
   "outputs": [],
   "source": [
    "nezm_fset = frozenset({'růže', 'žena', 'Jan', 'píseň', 'kost'})"
   ]
  },
  {
   "cell_type": "code",
   "execution_count": 40,
   "metadata": {},
   "outputs": [
    {
     "name": "stdout",
     "output_type": "stream",
     "text": [
      "<class 'frozenset'>\n"
     ]
    }
   ],
   "source": [
    "print(type(nezm_fset))"
   ]
  },
  {
   "cell_type": "markdown",
   "metadata": {},
   "source": [
    "Stejně jako datový typ `tuple` bývá i `frozenset` opomíjený, ačkoliv nabízí tyto výhody:\n",
    "* *Frozensety* potřebují méně paměti,\n",
    "* hodnoty **není možné změnit** ani omylem,\n",
    "* indikátor **pro ostatní programátory**."
   ]
  },
  {
   "cell_type": "markdown",
   "metadata": {},
   "source": [
    "### Práce s frozensety"
   ]
  },
  {
   "cell_type": "code",
   "execution_count": null,
   "metadata": {},
   "outputs": [],
   "source": [
    "druhy_nezm_fset = frozenset(\"abcde\")"
   ]
  },
  {
   "cell_type": "code",
   "execution_count": null,
   "metadata": {},
   "outputs": [],
   "source": [
    "# dir(druhy_nezm_fset)"
   ]
  },
  {
   "cell_type": "code",
   "execution_count": null,
   "metadata": {},
   "outputs": [],
   "source": [
    "print(type(druhy_nezm_fset))\n",
    "print(druhy_nezm_fset)"
   ]
  },
  {
   "cell_type": "code",
   "execution_count": null,
   "metadata": {},
   "outputs": [],
   "source": [
    "druhy_nezm_fset.add(\"f\")"
   ]
  },
  {
   "cell_type": "code",
   "execution_count": null,
   "metadata": {},
   "outputs": [],
   "source": [
    "druhy_nezm_fset.discard(\"a\")"
   ]
  },
  {
   "cell_type": "code",
   "execution_count": null,
   "metadata": {},
   "outputs": [],
   "source": [
    "treti_nezm_fset = druhy_nezm_fset.copy()"
   ]
  },
  {
   "cell_type": "code",
   "execution_count": null,
   "metadata": {},
   "outputs": [],
   "source": [
    "print(type(druhy_nezm_fset))\n",
    "print(type(treti_nezm_fset))"
   ]
  },
  {
   "cell_type": "code",
   "execution_count": null,
   "metadata": {},
   "outputs": [],
   "source": [
    "print(id(druhy_nezm_fset))\n",
    "print(id(treti_nezm_fset))"
   ]
  },
  {
   "cell_type": "code",
   "execution_count": null,
   "metadata": {},
   "outputs": [],
   "source": [
    "print(druhy_nezm_fset.intersection(treti_nezm_fset))"
   ]
  },
  {
   "cell_type": "code",
   "execution_count": null,
   "metadata": {},
   "outputs": [],
   "source": [
    "del druhy_nezm_fset"
   ]
  },
  {
   "cell_type": "code",
   "execution_count": null,
   "metadata": {},
   "outputs": [],
   "source": [
    "print(dir())"
   ]
  },
  {
   "cell_type": "code",
   "execution_count": null,
   "metadata": {},
   "outputs": [],
   "source": [
    "del treti_nezm_fset"
   ]
  },
  {
   "cell_type": "code",
   "execution_count": null,
   "metadata": {},
   "outputs": [],
   "source": [
    "print(dir())"
   ]
  },
  {
   "cell_type": "code",
   "execution_count": null,
   "metadata": {},
   "outputs": [],
   "source": [
    "print(treti_nezm_fset)"
   ]
  },
  {
   "cell_type": "markdown",
   "metadata": {},
   "source": [
    "<br>\n",
    "\n",
    "### 🧠 CVIČENÍ 🧠, Vyzkoušej si metody pro `set` a `frozenset`:"
   ]
  },
  {
   "cell_type": "markdown",
   "metadata": {},
   "source": [
    "1. Vytvoř nové sety z listů `skupina_1` a `skupina_2`,\n",
    "2. zjisti, jestli se někdo z uchazečů nevyskytuje v obou skupinách, pokud ano, vypiš `\"máme uchazeče ve dvou skupinách\"`,\n",
    "3. jinak vypiš oznámení: `\"žádný uživatel není v obou skupinách\"`,\n",
    "4. pokud někdo takový existuje, odstraň jej z jedné ze skupin,\n",
    "5. přidej do druhého setu email `\"m.holinka@gmail.com\"`,\n",
    "6. sjednoť oba sety a výsledek ulož jako *frozenset*."
   ]
  },
  {
   "cell_type": "code",
   "execution_count": 42,
   "metadata": {},
   "outputs": [
    {
     "data": {
      "text/plain": [
       "['__and__',\n",
       " '__class__',\n",
       " '__contains__',\n",
       " '__delattr__',\n",
       " '__dir__',\n",
       " '__doc__',\n",
       " '__eq__',\n",
       " '__format__',\n",
       " '__ge__',\n",
       " '__getattribute__',\n",
       " '__gt__',\n",
       " '__hash__',\n",
       " '__iand__',\n",
       " '__init__',\n",
       " '__init_subclass__',\n",
       " '__ior__',\n",
       " '__isub__',\n",
       " '__iter__',\n",
       " '__ixor__',\n",
       " '__le__',\n",
       " '__len__',\n",
       " '__lt__',\n",
       " '__ne__',\n",
       " '__new__',\n",
       " '__or__',\n",
       " '__rand__',\n",
       " '__reduce__',\n",
       " '__reduce_ex__',\n",
       " '__repr__',\n",
       " '__ror__',\n",
       " '__rsub__',\n",
       " '__rxor__',\n",
       " '__setattr__',\n",
       " '__sizeof__',\n",
       " '__str__',\n",
       " '__sub__',\n",
       " '__subclasshook__',\n",
       " '__xor__',\n",
       " 'add',\n",
       " 'clear',\n",
       " 'copy',\n",
       " 'difference',\n",
       " 'difference_update',\n",
       " 'discard',\n",
       " 'intersection',\n",
       " 'intersection_update',\n",
       " 'isdisjoint',\n",
       " 'issubset',\n",
       " 'issuperset',\n",
       " 'pop',\n",
       " 'remove',\n",
       " 'symmetric_difference',\n",
       " 'symmetric_difference_update',\n",
       " 'union',\n",
       " 'update']"
      ]
     },
     "execution_count": 42,
     "metadata": {},
     "output_type": "execute_result"
    }
   ],
   "source": [
    "dir(set)"
   ]
  },
  {
   "cell_type": "code",
   "execution_count": null,
   "metadata": {},
   "outputs": [],
   "source": [
    "skupina_1 = [\n",
    "    'h.vybíralová@firma.cz', 'w.štrumlová@firma.cz', 'm.vybíralová@firma.cz',\n",
    "    's.bechyňka@firma.cz', 'z.urbánková@firma.cz', 'l.riečan@firma.cz',\n",
    "    'v.koudelová@firma.cz', 'f.vorlová@firma.cz', 'i.seleš@firma.cz'\n",
    "]\n",
    "\n",
    "skupina_2 = [\n",
    "    'j.šmíd@firma.cz', 'j.procházková@firma.cz', 'l.riečan@firma.cz', 'd.hlavatá@firma.cz', \n",
    "    'm.železný@firma.cz', 'p.niklesová@firma.cz', 'b.skok@firma.cz',\n",
    "]"
   ]
  },
  {
   "cell_type": "code",
   "execution_count": null,
   "metadata": {},
   "outputs": [],
   "source": []
  },
  {
   "cell_type": "markdown",
   "metadata": {},
   "source": [
    "<details>\n",
    "  <summary>▶️  Klikni zde pro zobrazení řešení</summary>\n",
    "   \n",
    "```python\n",
    "skupina_1 = [\n",
    "    'h.vybíralová@firma.cz', 'w.štrumlová@firma.cz', 'm.vybíralová@firma.cz',\n",
    "    's.bechyňka@firma.cz', 'z.urbánková@firma.cz', 'l.riečan@firma.cz',\n",
    "    'v.koudelová@firma.cz', 'f.vorlová@firma.cz', 'i.seleš@firma.cz'\n",
    "]\n",
    "\n",
    "skupina_2 = [\n",
    "    'j.šmíd@firma.cz', 'j.procházková@firma.cz', 'l.riečan@firma.cz', 'd.hlavatá@firma.cz', \n",
    "    'm.železný@firma.cz', 'p.niklesová@firma.cz', 'b.skok@firma.cz',\n",
    "]\n",
    "\n",
    "s1 = set(cast_1)\n",
    "s2 = set(cast_2)\n",
    "\n",
    "if s1.intersection(s2):\n",
    "    print(\"máme uchazeče ve dvou skupinách\")\n",
    "else:\n",
    "    print(\"žádný uživatel není v obou skupinách\")\n",
    "\n",
    "s2.discard('l.riečan@firma.cz')\n",
    "s2.add(\"m.holinka@gmail.com\")\n",
    "\n",
    "s = frozenset(s1.union(s2))\n",
    "```\n",
    "</details>"
   ]
  },
  {
   "cell_type": "markdown",
   "metadata": {},
   "source": [
    "<img src=\"https://external-content.duckduckgo.com/iu/?u=https%3A%2F%2Ftse1.mm.bing.net%2Fth%3Fid%3DOIP.GMJvJ-GG0YS8H5JmHR3CbwHaHm%26pid%3DApi&f=1\" width=\"400\" style=\"margin-left:auto; margin-right:auto\" />"
   ]
  },
  {
   "cell_type": "markdown",
   "metadata": {},
   "source": [
    "## Domácí úkol\n",
    "\n",
    "---"
   ]
  },
  {
   "cell_type": "markdown",
   "metadata": {},
   "source": [
    "Pracuj krok za krokem na novém filmovém slovníku."
   ]
  },
  {
   "cell_type": "markdown",
   "metadata": {},
   "source": [
    "### Zadané hodnoty"
   ]
  },
  {
   "cell_type": "code",
   "execution_count": null,
   "metadata": {},
   "outputs": [],
   "source": [
    "sluzby = (\"dostupné filmy\", \"detaily filmu\", \"seznam režisérů\")\n",
    "oddelovac = \"=\" * 62"
   ]
  },
  {
   "cell_type": "code",
   "execution_count": null,
   "metadata": {},
   "outputs": [],
   "source": [
    "film_1 = {\n",
    "    \"jmeno\": \"Shawshank Redemption\",\n",
    "    \"rating\": \"93/100\",\n",
    "    \"rok\": 1994,\n",
    "    \"reziser\": \"Frank Darabont\",\n",
    "    \"stopaz\": 144\n",
    "}"
   ]
  },
  {
   "cell_type": "code",
   "execution_count": null,
   "metadata": {},
   "outputs": [],
   "source": [
    "film_2 = {\n",
    "    \"jmeno\": \"The Godfather\",\n",
    "    \"rating\": \"92/100\",\n",
    "    \"rok\": 1972,\n",
    "    \"reziser\": \"Francis Ford Coppola\",\n",
    "    \"stopaz\": 175\n",
    "}"
   ]
  },
  {
   "cell_type": "code",
   "execution_count": null,
   "metadata": {},
   "outputs": [],
   "source": [
    "film_3 = {\n",
    "    \"jmeno\": \"The Dark Knight\",\n",
    "    \"rating\": \"90/100\",\n",
    "    \"rok\": 2008,\n",
    "    \"reziser\": \"Christopher Nolan\",\n",
    "    \"stopaz\": 152\n",
    "}"
   ]
  },
  {
   "cell_type": "markdown",
   "metadata": {},
   "source": [
    "### Sjednoť slovníky do jednoho objektu"
   ]
  },
  {
   "cell_type": "code",
   "execution_count": null,
   "metadata": {},
   "outputs": [],
   "source": [
    "# sjednoť předchozí 3 slovníky do jednoho slovníku 'filmy'\n",
    "# .. klíčem bude jméno filmu a samotný slovník následuje\n",
    "# .. jako hodnota."
   ]
  },
  {
   "cell_type": "markdown",
   "metadata": {},
   "source": [
    "### Výpis pro uživatele"
   ]
  },
  {
   "cell_type": "markdown",
   "metadata": {},
   "source": [
    "```\n",
    "               VÍTEJ V NAŠEM FILMOVÉM SLOVNÍKU!               \n",
    "==============================================================\n",
    "        dostupné filmy | detaily filmu | doporuč film         \n",
    "==============================================================\n",
    "```"
   ]
  },
  {
   "cell_type": "markdown",
   "metadata": {},
   "source": [
    "### Zobraz mi dostupné filmy"
   ]
  },
  {
   "cell_type": "markdown",
   "metadata": {},
   "source": [
    "```\n",
    "                       Dostupné filmy:                        \n",
    "==============================================================\n",
    "Shawshank Redemption, The Godfather, The Dark Knight\n",
    "==============================================================\n",
    "```"
   ]
  },
  {
   "cell_type": "code",
   "execution_count": null,
   "metadata": {},
   "outputs": [],
   "source": [
    "# vyber z dostupné služby v nabídce a zobraz jména filmů"
   ]
  },
  {
   "cell_type": "markdown",
   "metadata": {},
   "source": [
    "### Zobraz detaily o filmu"
   ]
  },
  {
   "cell_type": "markdown",
   "metadata": {},
   "source": [
    "```\n",
    "Detaily filmu: \n",
    "==============================================================\n",
    "{'jmeno': 'The Dark Knight', 'rating': '90/100', 'rok': 2008, 'reziser': 'Christopher Nolan', 'stopaz': 152}\n",
    "==============================================================\n",
    "```"
   ]
  },
  {
   "cell_type": "markdown",
   "metadata": {},
   "source": [
    "### Zobraz seznam režisérů"
   ]
  },
  {
   "cell_type": "markdown",
   "metadata": {},
   "source": [
    "```\n",
    "Všichni režiséři:\n",
    "==============================================================\n",
    "{'Frank Darabont', 'Christopher Nolan', 'Francis Ford Coppola'}\n",
    "==============================================================\n",
    "```"
   ]
  },
  {
   "cell_type": "markdown",
   "metadata": {},
   "source": [
    "---"
   ]
  }
 ],
 "metadata": {
  "kernelspec": {
   "display_name": "Python 3 (ipykernel)",
   "language": "python",
   "name": "python3"
  },
  "language_info": {
   "codemirror_mode": {
    "name": "ipython",
    "version": 3
   },
   "file_extension": ".py",
   "mimetype": "text/x-python",
   "name": "python",
   "nbconvert_exporter": "python",
   "pygments_lexer": "ipython3",
   "version": "3.8.10"
  }
 },
 "nbformat": 4,
 "nbformat_minor": 4
}
